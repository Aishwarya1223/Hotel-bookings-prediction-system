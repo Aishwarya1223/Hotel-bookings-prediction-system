{
 "cells": [
  {
   "cell_type": "code",
   "execution_count": 2,
   "id": "57b1e7d4",
   "metadata": {},
   "outputs": [],
   "source": [
    "import numpy as np\n",
    "import pandas as pd\n",
    "import matplotlib.pyplot as plt\n",
    "import seaborn as sns\n",
    "%matplotlib inline"
   ]
  },
  {
   "cell_type": "code",
   "execution_count": 3,
   "id": "5c275e88",
   "metadata": {
    "scrolled": true
   },
   "outputs": [
    {
     "data": {
      "text/html": [
       "<div>\n",
       "<style scoped>\n",
       "    .dataframe tbody tr th:only-of-type {\n",
       "        vertical-align: middle;\n",
       "    }\n",
       "\n",
       "    .dataframe tbody tr th {\n",
       "        vertical-align: top;\n",
       "    }\n",
       "\n",
       "    .dataframe thead th {\n",
       "        text-align: right;\n",
       "    }\n",
       "</style>\n",
       "<table border=\"1\" class=\"dataframe\">\n",
       "  <thead>\n",
       "    <tr style=\"text-align: right;\">\n",
       "      <th></th>\n",
       "      <th>hotel</th>\n",
       "      <th>is_canceled</th>\n",
       "      <th>lead_time</th>\n",
       "      <th>arrival_date_year</th>\n",
       "      <th>arrival_date_month</th>\n",
       "      <th>arrival_date_week_number</th>\n",
       "      <th>arrival_date_day_of_month</th>\n",
       "      <th>stays_in_weekend_nights</th>\n",
       "      <th>stays_in_week_nights</th>\n",
       "      <th>adults</th>\n",
       "      <th>...</th>\n",
       "      <th>deposit_type</th>\n",
       "      <th>agent</th>\n",
       "      <th>company</th>\n",
       "      <th>days_in_waiting_list</th>\n",
       "      <th>customer_type</th>\n",
       "      <th>adr</th>\n",
       "      <th>required_car_parking_spaces</th>\n",
       "      <th>total_of_special_requests</th>\n",
       "      <th>reservation_status</th>\n",
       "      <th>reservation_status_date</th>\n",
       "    </tr>\n",
       "  </thead>\n",
       "  <tbody>\n",
       "    <tr>\n",
       "      <th>0</th>\n",
       "      <td>Resort Hotel</td>\n",
       "      <td>0</td>\n",
       "      <td>342</td>\n",
       "      <td>2015</td>\n",
       "      <td>July</td>\n",
       "      <td>27</td>\n",
       "      <td>1</td>\n",
       "      <td>0</td>\n",
       "      <td>0</td>\n",
       "      <td>2</td>\n",
       "      <td>...</td>\n",
       "      <td>No Deposit</td>\n",
       "      <td>NaN</td>\n",
       "      <td>NaN</td>\n",
       "      <td>0</td>\n",
       "      <td>Transient</td>\n",
       "      <td>0.00</td>\n",
       "      <td>0</td>\n",
       "      <td>0</td>\n",
       "      <td>Check-Out</td>\n",
       "      <td>7/1/2015</td>\n",
       "    </tr>\n",
       "    <tr>\n",
       "      <th>1</th>\n",
       "      <td>Resort Hotel</td>\n",
       "      <td>0</td>\n",
       "      <td>737</td>\n",
       "      <td>2015</td>\n",
       "      <td>July</td>\n",
       "      <td>27</td>\n",
       "      <td>1</td>\n",
       "      <td>0</td>\n",
       "      <td>0</td>\n",
       "      <td>2</td>\n",
       "      <td>...</td>\n",
       "      <td>No Deposit</td>\n",
       "      <td>NaN</td>\n",
       "      <td>NaN</td>\n",
       "      <td>0</td>\n",
       "      <td>Transient</td>\n",
       "      <td>0.00</td>\n",
       "      <td>0</td>\n",
       "      <td>0</td>\n",
       "      <td>Check-Out</td>\n",
       "      <td>7/1/2015</td>\n",
       "    </tr>\n",
       "    <tr>\n",
       "      <th>2</th>\n",
       "      <td>Resort Hotel</td>\n",
       "      <td>0</td>\n",
       "      <td>7</td>\n",
       "      <td>2015</td>\n",
       "      <td>July</td>\n",
       "      <td>27</td>\n",
       "      <td>1</td>\n",
       "      <td>0</td>\n",
       "      <td>1</td>\n",
       "      <td>1</td>\n",
       "      <td>...</td>\n",
       "      <td>No Deposit</td>\n",
       "      <td>NaN</td>\n",
       "      <td>NaN</td>\n",
       "      <td>0</td>\n",
       "      <td>Transient</td>\n",
       "      <td>75.00</td>\n",
       "      <td>0</td>\n",
       "      <td>0</td>\n",
       "      <td>Check-Out</td>\n",
       "      <td>7/2/2015</td>\n",
       "    </tr>\n",
       "    <tr>\n",
       "      <th>3</th>\n",
       "      <td>Resort Hotel</td>\n",
       "      <td>0</td>\n",
       "      <td>13</td>\n",
       "      <td>2015</td>\n",
       "      <td>July</td>\n",
       "      <td>27</td>\n",
       "      <td>1</td>\n",
       "      <td>0</td>\n",
       "      <td>1</td>\n",
       "      <td>1</td>\n",
       "      <td>...</td>\n",
       "      <td>No Deposit</td>\n",
       "      <td>304.0</td>\n",
       "      <td>NaN</td>\n",
       "      <td>0</td>\n",
       "      <td>Transient</td>\n",
       "      <td>75.00</td>\n",
       "      <td>0</td>\n",
       "      <td>0</td>\n",
       "      <td>Check-Out</td>\n",
       "      <td>7/2/2015</td>\n",
       "    </tr>\n",
       "    <tr>\n",
       "      <th>4</th>\n",
       "      <td>Resort Hotel</td>\n",
       "      <td>0</td>\n",
       "      <td>14</td>\n",
       "      <td>2015</td>\n",
       "      <td>July</td>\n",
       "      <td>27</td>\n",
       "      <td>1</td>\n",
       "      <td>0</td>\n",
       "      <td>2</td>\n",
       "      <td>2</td>\n",
       "      <td>...</td>\n",
       "      <td>No Deposit</td>\n",
       "      <td>240.0</td>\n",
       "      <td>NaN</td>\n",
       "      <td>0</td>\n",
       "      <td>Transient</td>\n",
       "      <td>98.00</td>\n",
       "      <td>0</td>\n",
       "      <td>1</td>\n",
       "      <td>Check-Out</td>\n",
       "      <td>7/3/2015</td>\n",
       "    </tr>\n",
       "    <tr>\n",
       "      <th>...</th>\n",
       "      <td>...</td>\n",
       "      <td>...</td>\n",
       "      <td>...</td>\n",
       "      <td>...</td>\n",
       "      <td>...</td>\n",
       "      <td>...</td>\n",
       "      <td>...</td>\n",
       "      <td>...</td>\n",
       "      <td>...</td>\n",
       "      <td>...</td>\n",
       "      <td>...</td>\n",
       "      <td>...</td>\n",
       "      <td>...</td>\n",
       "      <td>...</td>\n",
       "      <td>...</td>\n",
       "      <td>...</td>\n",
       "      <td>...</td>\n",
       "      <td>...</td>\n",
       "      <td>...</td>\n",
       "      <td>...</td>\n",
       "      <td>...</td>\n",
       "    </tr>\n",
       "    <tr>\n",
       "      <th>119385</th>\n",
       "      <td>City Hotel</td>\n",
       "      <td>0</td>\n",
       "      <td>23</td>\n",
       "      <td>2017</td>\n",
       "      <td>August</td>\n",
       "      <td>35</td>\n",
       "      <td>30</td>\n",
       "      <td>2</td>\n",
       "      <td>5</td>\n",
       "      <td>2</td>\n",
       "      <td>...</td>\n",
       "      <td>No Deposit</td>\n",
       "      <td>394.0</td>\n",
       "      <td>NaN</td>\n",
       "      <td>0</td>\n",
       "      <td>Transient</td>\n",
       "      <td>96.14</td>\n",
       "      <td>0</td>\n",
       "      <td>0</td>\n",
       "      <td>Check-Out</td>\n",
       "      <td>9/6/2017</td>\n",
       "    </tr>\n",
       "    <tr>\n",
       "      <th>119386</th>\n",
       "      <td>City Hotel</td>\n",
       "      <td>0</td>\n",
       "      <td>102</td>\n",
       "      <td>2017</td>\n",
       "      <td>August</td>\n",
       "      <td>35</td>\n",
       "      <td>31</td>\n",
       "      <td>2</td>\n",
       "      <td>5</td>\n",
       "      <td>3</td>\n",
       "      <td>...</td>\n",
       "      <td>No Deposit</td>\n",
       "      <td>9.0</td>\n",
       "      <td>NaN</td>\n",
       "      <td>0</td>\n",
       "      <td>Transient</td>\n",
       "      <td>225.43</td>\n",
       "      <td>0</td>\n",
       "      <td>2</td>\n",
       "      <td>Check-Out</td>\n",
       "      <td>9/7/2017</td>\n",
       "    </tr>\n",
       "    <tr>\n",
       "      <th>119387</th>\n",
       "      <td>City Hotel</td>\n",
       "      <td>0</td>\n",
       "      <td>34</td>\n",
       "      <td>2017</td>\n",
       "      <td>August</td>\n",
       "      <td>35</td>\n",
       "      <td>31</td>\n",
       "      <td>2</td>\n",
       "      <td>5</td>\n",
       "      <td>2</td>\n",
       "      <td>...</td>\n",
       "      <td>No Deposit</td>\n",
       "      <td>9.0</td>\n",
       "      <td>NaN</td>\n",
       "      <td>0</td>\n",
       "      <td>Transient</td>\n",
       "      <td>157.71</td>\n",
       "      <td>0</td>\n",
       "      <td>4</td>\n",
       "      <td>Check-Out</td>\n",
       "      <td>9/7/2017</td>\n",
       "    </tr>\n",
       "    <tr>\n",
       "      <th>119388</th>\n",
       "      <td>City Hotel</td>\n",
       "      <td>0</td>\n",
       "      <td>109</td>\n",
       "      <td>2017</td>\n",
       "      <td>August</td>\n",
       "      <td>35</td>\n",
       "      <td>31</td>\n",
       "      <td>2</td>\n",
       "      <td>5</td>\n",
       "      <td>2</td>\n",
       "      <td>...</td>\n",
       "      <td>No Deposit</td>\n",
       "      <td>89.0</td>\n",
       "      <td>NaN</td>\n",
       "      <td>0</td>\n",
       "      <td>Transient</td>\n",
       "      <td>104.40</td>\n",
       "      <td>0</td>\n",
       "      <td>0</td>\n",
       "      <td>Check-Out</td>\n",
       "      <td>9/7/2017</td>\n",
       "    </tr>\n",
       "    <tr>\n",
       "      <th>119389</th>\n",
       "      <td>City Hotel</td>\n",
       "      <td>0</td>\n",
       "      <td>205</td>\n",
       "      <td>2017</td>\n",
       "      <td>August</td>\n",
       "      <td>35</td>\n",
       "      <td>29</td>\n",
       "      <td>2</td>\n",
       "      <td>7</td>\n",
       "      <td>2</td>\n",
       "      <td>...</td>\n",
       "      <td>No Deposit</td>\n",
       "      <td>9.0</td>\n",
       "      <td>NaN</td>\n",
       "      <td>0</td>\n",
       "      <td>Transient</td>\n",
       "      <td>151.20</td>\n",
       "      <td>0</td>\n",
       "      <td>2</td>\n",
       "      <td>Check-Out</td>\n",
       "      <td>9/7/2017</td>\n",
       "    </tr>\n",
       "  </tbody>\n",
       "</table>\n",
       "<p>119390 rows × 32 columns</p>\n",
       "</div>"
      ],
      "text/plain": [
       "               hotel  is_canceled  lead_time  arrival_date_year  \\\n",
       "0       Resort Hotel            0        342               2015   \n",
       "1       Resort Hotel            0        737               2015   \n",
       "2       Resort Hotel            0          7               2015   \n",
       "3       Resort Hotel            0         13               2015   \n",
       "4       Resort Hotel            0         14               2015   \n",
       "...              ...          ...        ...                ...   \n",
       "119385    City Hotel            0         23               2017   \n",
       "119386    City Hotel            0        102               2017   \n",
       "119387    City Hotel            0         34               2017   \n",
       "119388    City Hotel            0        109               2017   \n",
       "119389    City Hotel            0        205               2017   \n",
       "\n",
       "       arrival_date_month  arrival_date_week_number  \\\n",
       "0                    July                        27   \n",
       "1                    July                        27   \n",
       "2                    July                        27   \n",
       "3                    July                        27   \n",
       "4                    July                        27   \n",
       "...                   ...                       ...   \n",
       "119385             August                        35   \n",
       "119386             August                        35   \n",
       "119387             August                        35   \n",
       "119388             August                        35   \n",
       "119389             August                        35   \n",
       "\n",
       "        arrival_date_day_of_month  stays_in_weekend_nights  \\\n",
       "0                               1                        0   \n",
       "1                               1                        0   \n",
       "2                               1                        0   \n",
       "3                               1                        0   \n",
       "4                               1                        0   \n",
       "...                           ...                      ...   \n",
       "119385                         30                        2   \n",
       "119386                         31                        2   \n",
       "119387                         31                        2   \n",
       "119388                         31                        2   \n",
       "119389                         29                        2   \n",
       "\n",
       "        stays_in_week_nights  adults  ...  deposit_type  agent company  \\\n",
       "0                          0       2  ...    No Deposit    NaN     NaN   \n",
       "1                          0       2  ...    No Deposit    NaN     NaN   \n",
       "2                          1       1  ...    No Deposit    NaN     NaN   \n",
       "3                          1       1  ...    No Deposit  304.0     NaN   \n",
       "4                          2       2  ...    No Deposit  240.0     NaN   \n",
       "...                      ...     ...  ...           ...    ...     ...   \n",
       "119385                     5       2  ...    No Deposit  394.0     NaN   \n",
       "119386                     5       3  ...    No Deposit    9.0     NaN   \n",
       "119387                     5       2  ...    No Deposit    9.0     NaN   \n",
       "119388                     5       2  ...    No Deposit   89.0     NaN   \n",
       "119389                     7       2  ...    No Deposit    9.0     NaN   \n",
       "\n",
       "       days_in_waiting_list customer_type     adr  \\\n",
       "0                         0     Transient    0.00   \n",
       "1                         0     Transient    0.00   \n",
       "2                         0     Transient   75.00   \n",
       "3                         0     Transient   75.00   \n",
       "4                         0     Transient   98.00   \n",
       "...                     ...           ...     ...   \n",
       "119385                    0     Transient   96.14   \n",
       "119386                    0     Transient  225.43   \n",
       "119387                    0     Transient  157.71   \n",
       "119388                    0     Transient  104.40   \n",
       "119389                    0     Transient  151.20   \n",
       "\n",
       "        required_car_parking_spaces  total_of_special_requests  \\\n",
       "0                                 0                          0   \n",
       "1                                 0                          0   \n",
       "2                                 0                          0   \n",
       "3                                 0                          0   \n",
       "4                                 0                          1   \n",
       "...                             ...                        ...   \n",
       "119385                            0                          0   \n",
       "119386                            0                          2   \n",
       "119387                            0                          4   \n",
       "119388                            0                          0   \n",
       "119389                            0                          2   \n",
       "\n",
       "        reservation_status reservation_status_date  \n",
       "0                Check-Out                7/1/2015  \n",
       "1                Check-Out                7/1/2015  \n",
       "2                Check-Out                7/2/2015  \n",
       "3                Check-Out                7/2/2015  \n",
       "4                Check-Out                7/3/2015  \n",
       "...                    ...                     ...  \n",
       "119385           Check-Out                9/6/2017  \n",
       "119386           Check-Out                9/7/2017  \n",
       "119387           Check-Out                9/7/2017  \n",
       "119388           Check-Out                9/7/2017  \n",
       "119389           Check-Out                9/7/2017  \n",
       "\n",
       "[119390 rows x 32 columns]"
      ]
     },
     "execution_count": 3,
     "metadata": {},
     "output_type": "execute_result"
    }
   ],
   "source": [
    "df=pd.read_csv(\"C:/Users/aishw/OneDrive/Desktop/Internship/Project Resouse/Project 1/Data/hotel_bookings.csv\")\n",
    "df"
   ]
  },
  {
   "cell_type": "markdown",
   "id": "3d1e604f",
   "metadata": {},
   "source": [
    "## Cleaning the data"
   ]
  },
  {
   "cell_type": "code",
   "execution_count": 4,
   "id": "02e8fae4",
   "metadata": {},
   "outputs": [
    {
     "data": {
      "text/plain": [
       "Index(['hotel', 'is_canceled', 'lead_time', 'arrival_date_year',\n",
       "       'arrival_date_month', 'arrival_date_week_number',\n",
       "       'arrival_date_day_of_month', 'stays_in_weekend_nights',\n",
       "       'stays_in_week_nights', 'adults', 'children', 'babies', 'meal',\n",
       "       'country', 'market_segment', 'distribution_channel',\n",
       "       'is_repeated_guest', 'previous_cancellations',\n",
       "       'previous_bookings_not_canceled', 'reserved_room_type',\n",
       "       'assigned_room_type', 'booking_changes', 'deposit_type', 'agent',\n",
       "       'company', 'days_in_waiting_list', 'customer_type', 'adr',\n",
       "       'required_car_parking_spaces', 'total_of_special_requests',\n",
       "       'reservation_status', 'reservation_status_date'],\n",
       "      dtype='object')"
      ]
     },
     "execution_count": 4,
     "metadata": {},
     "output_type": "execute_result"
    }
   ],
   "source": [
    "df.columns"
   ]
  },
  {
   "cell_type": "code",
   "execution_count": 5,
   "id": "b9ae80c2",
   "metadata": {
    "scrolled": true
   },
   "outputs": [
    {
     "data": {
      "text/plain": [
       "0         False\n",
       "1         False\n",
       "2         False\n",
       "3         False\n",
       "4         False\n",
       "          ...  \n",
       "119385    False\n",
       "119386    False\n",
       "119387    False\n",
       "119388    False\n",
       "119389    False\n",
       "Length: 119390, dtype: bool"
      ]
     },
     "execution_count": 5,
     "metadata": {},
     "output_type": "execute_result"
    }
   ],
   "source": [
    "filtered_data=(df.adults == 0) & (df.children ==0) & (df.babies ==0 )\n",
    "filtered_data"
   ]
  },
  {
   "cell_type": "code",
   "execution_count": 6,
   "id": "d113b472",
   "metadata": {},
   "outputs": [
    {
     "data": {
      "text/html": [
       "<div>\n",
       "<style scoped>\n",
       "    .dataframe tbody tr th:only-of-type {\n",
       "        vertical-align: middle;\n",
       "    }\n",
       "\n",
       "    .dataframe tbody tr th {\n",
       "        vertical-align: top;\n",
       "    }\n",
       "\n",
       "    .dataframe thead th {\n",
       "        text-align: right;\n",
       "    }\n",
       "</style>\n",
       "<table border=\"1\" class=\"dataframe\">\n",
       "  <thead>\n",
       "    <tr style=\"text-align: right;\">\n",
       "      <th></th>\n",
       "      <th>hotel</th>\n",
       "      <th>is_canceled</th>\n",
       "      <th>lead_time</th>\n",
       "      <th>arrival_date_year</th>\n",
       "      <th>arrival_date_month</th>\n",
       "      <th>arrival_date_week_number</th>\n",
       "      <th>arrival_date_day_of_month</th>\n",
       "      <th>stays_in_weekend_nights</th>\n",
       "      <th>stays_in_week_nights</th>\n",
       "      <th>adults</th>\n",
       "      <th>...</th>\n",
       "      <th>deposit_type</th>\n",
       "      <th>agent</th>\n",
       "      <th>company</th>\n",
       "      <th>days_in_waiting_list</th>\n",
       "      <th>customer_type</th>\n",
       "      <th>adr</th>\n",
       "      <th>required_car_parking_spaces</th>\n",
       "      <th>total_of_special_requests</th>\n",
       "      <th>reservation_status</th>\n",
       "      <th>reservation_status_date</th>\n",
       "    </tr>\n",
       "  </thead>\n",
       "  <tbody>\n",
       "    <tr>\n",
       "      <th>0</th>\n",
       "      <td>Resort Hotel</td>\n",
       "      <td>0</td>\n",
       "      <td>342</td>\n",
       "      <td>2015</td>\n",
       "      <td>July</td>\n",
       "      <td>27</td>\n",
       "      <td>1</td>\n",
       "      <td>0</td>\n",
       "      <td>0</td>\n",
       "      <td>2</td>\n",
       "      <td>...</td>\n",
       "      <td>No Deposit</td>\n",
       "      <td>NaN</td>\n",
       "      <td>NaN</td>\n",
       "      <td>0</td>\n",
       "      <td>Transient</td>\n",
       "      <td>0.00</td>\n",
       "      <td>0</td>\n",
       "      <td>0</td>\n",
       "      <td>Check-Out</td>\n",
       "      <td>7/1/2015</td>\n",
       "    </tr>\n",
       "    <tr>\n",
       "      <th>1</th>\n",
       "      <td>Resort Hotel</td>\n",
       "      <td>0</td>\n",
       "      <td>737</td>\n",
       "      <td>2015</td>\n",
       "      <td>July</td>\n",
       "      <td>27</td>\n",
       "      <td>1</td>\n",
       "      <td>0</td>\n",
       "      <td>0</td>\n",
       "      <td>2</td>\n",
       "      <td>...</td>\n",
       "      <td>No Deposit</td>\n",
       "      <td>NaN</td>\n",
       "      <td>NaN</td>\n",
       "      <td>0</td>\n",
       "      <td>Transient</td>\n",
       "      <td>0.00</td>\n",
       "      <td>0</td>\n",
       "      <td>0</td>\n",
       "      <td>Check-Out</td>\n",
       "      <td>7/1/2015</td>\n",
       "    </tr>\n",
       "    <tr>\n",
       "      <th>2</th>\n",
       "      <td>Resort Hotel</td>\n",
       "      <td>0</td>\n",
       "      <td>7</td>\n",
       "      <td>2015</td>\n",
       "      <td>July</td>\n",
       "      <td>27</td>\n",
       "      <td>1</td>\n",
       "      <td>0</td>\n",
       "      <td>1</td>\n",
       "      <td>1</td>\n",
       "      <td>...</td>\n",
       "      <td>No Deposit</td>\n",
       "      <td>NaN</td>\n",
       "      <td>NaN</td>\n",
       "      <td>0</td>\n",
       "      <td>Transient</td>\n",
       "      <td>75.00</td>\n",
       "      <td>0</td>\n",
       "      <td>0</td>\n",
       "      <td>Check-Out</td>\n",
       "      <td>7/2/2015</td>\n",
       "    </tr>\n",
       "    <tr>\n",
       "      <th>3</th>\n",
       "      <td>Resort Hotel</td>\n",
       "      <td>0</td>\n",
       "      <td>13</td>\n",
       "      <td>2015</td>\n",
       "      <td>July</td>\n",
       "      <td>27</td>\n",
       "      <td>1</td>\n",
       "      <td>0</td>\n",
       "      <td>1</td>\n",
       "      <td>1</td>\n",
       "      <td>...</td>\n",
       "      <td>No Deposit</td>\n",
       "      <td>304.0</td>\n",
       "      <td>NaN</td>\n",
       "      <td>0</td>\n",
       "      <td>Transient</td>\n",
       "      <td>75.00</td>\n",
       "      <td>0</td>\n",
       "      <td>0</td>\n",
       "      <td>Check-Out</td>\n",
       "      <td>7/2/2015</td>\n",
       "    </tr>\n",
       "    <tr>\n",
       "      <th>4</th>\n",
       "      <td>Resort Hotel</td>\n",
       "      <td>0</td>\n",
       "      <td>14</td>\n",
       "      <td>2015</td>\n",
       "      <td>July</td>\n",
       "      <td>27</td>\n",
       "      <td>1</td>\n",
       "      <td>0</td>\n",
       "      <td>2</td>\n",
       "      <td>2</td>\n",
       "      <td>...</td>\n",
       "      <td>No Deposit</td>\n",
       "      <td>240.0</td>\n",
       "      <td>NaN</td>\n",
       "      <td>0</td>\n",
       "      <td>Transient</td>\n",
       "      <td>98.00</td>\n",
       "      <td>0</td>\n",
       "      <td>1</td>\n",
       "      <td>Check-Out</td>\n",
       "      <td>7/3/2015</td>\n",
       "    </tr>\n",
       "    <tr>\n",
       "      <th>...</th>\n",
       "      <td>...</td>\n",
       "      <td>...</td>\n",
       "      <td>...</td>\n",
       "      <td>...</td>\n",
       "      <td>...</td>\n",
       "      <td>...</td>\n",
       "      <td>...</td>\n",
       "      <td>...</td>\n",
       "      <td>...</td>\n",
       "      <td>...</td>\n",
       "      <td>...</td>\n",
       "      <td>...</td>\n",
       "      <td>...</td>\n",
       "      <td>...</td>\n",
       "      <td>...</td>\n",
       "      <td>...</td>\n",
       "      <td>...</td>\n",
       "      <td>...</td>\n",
       "      <td>...</td>\n",
       "      <td>...</td>\n",
       "      <td>...</td>\n",
       "    </tr>\n",
       "    <tr>\n",
       "      <th>119385</th>\n",
       "      <td>City Hotel</td>\n",
       "      <td>0</td>\n",
       "      <td>23</td>\n",
       "      <td>2017</td>\n",
       "      <td>August</td>\n",
       "      <td>35</td>\n",
       "      <td>30</td>\n",
       "      <td>2</td>\n",
       "      <td>5</td>\n",
       "      <td>2</td>\n",
       "      <td>...</td>\n",
       "      <td>No Deposit</td>\n",
       "      <td>394.0</td>\n",
       "      <td>NaN</td>\n",
       "      <td>0</td>\n",
       "      <td>Transient</td>\n",
       "      <td>96.14</td>\n",
       "      <td>0</td>\n",
       "      <td>0</td>\n",
       "      <td>Check-Out</td>\n",
       "      <td>9/6/2017</td>\n",
       "    </tr>\n",
       "    <tr>\n",
       "      <th>119386</th>\n",
       "      <td>City Hotel</td>\n",
       "      <td>0</td>\n",
       "      <td>102</td>\n",
       "      <td>2017</td>\n",
       "      <td>August</td>\n",
       "      <td>35</td>\n",
       "      <td>31</td>\n",
       "      <td>2</td>\n",
       "      <td>5</td>\n",
       "      <td>3</td>\n",
       "      <td>...</td>\n",
       "      <td>No Deposit</td>\n",
       "      <td>9.0</td>\n",
       "      <td>NaN</td>\n",
       "      <td>0</td>\n",
       "      <td>Transient</td>\n",
       "      <td>225.43</td>\n",
       "      <td>0</td>\n",
       "      <td>2</td>\n",
       "      <td>Check-Out</td>\n",
       "      <td>9/7/2017</td>\n",
       "    </tr>\n",
       "    <tr>\n",
       "      <th>119387</th>\n",
       "      <td>City Hotel</td>\n",
       "      <td>0</td>\n",
       "      <td>34</td>\n",
       "      <td>2017</td>\n",
       "      <td>August</td>\n",
       "      <td>35</td>\n",
       "      <td>31</td>\n",
       "      <td>2</td>\n",
       "      <td>5</td>\n",
       "      <td>2</td>\n",
       "      <td>...</td>\n",
       "      <td>No Deposit</td>\n",
       "      <td>9.0</td>\n",
       "      <td>NaN</td>\n",
       "      <td>0</td>\n",
       "      <td>Transient</td>\n",
       "      <td>157.71</td>\n",
       "      <td>0</td>\n",
       "      <td>4</td>\n",
       "      <td>Check-Out</td>\n",
       "      <td>9/7/2017</td>\n",
       "    </tr>\n",
       "    <tr>\n",
       "      <th>119388</th>\n",
       "      <td>City Hotel</td>\n",
       "      <td>0</td>\n",
       "      <td>109</td>\n",
       "      <td>2017</td>\n",
       "      <td>August</td>\n",
       "      <td>35</td>\n",
       "      <td>31</td>\n",
       "      <td>2</td>\n",
       "      <td>5</td>\n",
       "      <td>2</td>\n",
       "      <td>...</td>\n",
       "      <td>No Deposit</td>\n",
       "      <td>89.0</td>\n",
       "      <td>NaN</td>\n",
       "      <td>0</td>\n",
       "      <td>Transient</td>\n",
       "      <td>104.40</td>\n",
       "      <td>0</td>\n",
       "      <td>0</td>\n",
       "      <td>Check-Out</td>\n",
       "      <td>9/7/2017</td>\n",
       "    </tr>\n",
       "    <tr>\n",
       "      <th>119389</th>\n",
       "      <td>City Hotel</td>\n",
       "      <td>0</td>\n",
       "      <td>205</td>\n",
       "      <td>2017</td>\n",
       "      <td>August</td>\n",
       "      <td>35</td>\n",
       "      <td>29</td>\n",
       "      <td>2</td>\n",
       "      <td>7</td>\n",
       "      <td>2</td>\n",
       "      <td>...</td>\n",
       "      <td>No Deposit</td>\n",
       "      <td>9.0</td>\n",
       "      <td>NaN</td>\n",
       "      <td>0</td>\n",
       "      <td>Transient</td>\n",
       "      <td>151.20</td>\n",
       "      <td>0</td>\n",
       "      <td>2</td>\n",
       "      <td>Check-Out</td>\n",
       "      <td>9/7/2017</td>\n",
       "    </tr>\n",
       "  </tbody>\n",
       "</table>\n",
       "<p>119210 rows × 32 columns</p>\n",
       "</div>"
      ],
      "text/plain": [
       "               hotel  is_canceled  lead_time  arrival_date_year  \\\n",
       "0       Resort Hotel            0        342               2015   \n",
       "1       Resort Hotel            0        737               2015   \n",
       "2       Resort Hotel            0          7               2015   \n",
       "3       Resort Hotel            0         13               2015   \n",
       "4       Resort Hotel            0         14               2015   \n",
       "...              ...          ...        ...                ...   \n",
       "119385    City Hotel            0         23               2017   \n",
       "119386    City Hotel            0        102               2017   \n",
       "119387    City Hotel            0         34               2017   \n",
       "119388    City Hotel            0        109               2017   \n",
       "119389    City Hotel            0        205               2017   \n",
       "\n",
       "       arrival_date_month  arrival_date_week_number  \\\n",
       "0                    July                        27   \n",
       "1                    July                        27   \n",
       "2                    July                        27   \n",
       "3                    July                        27   \n",
       "4                    July                        27   \n",
       "...                   ...                       ...   \n",
       "119385             August                        35   \n",
       "119386             August                        35   \n",
       "119387             August                        35   \n",
       "119388             August                        35   \n",
       "119389             August                        35   \n",
       "\n",
       "        arrival_date_day_of_month  stays_in_weekend_nights  \\\n",
       "0                               1                        0   \n",
       "1                               1                        0   \n",
       "2                               1                        0   \n",
       "3                               1                        0   \n",
       "4                               1                        0   \n",
       "...                           ...                      ...   \n",
       "119385                         30                        2   \n",
       "119386                         31                        2   \n",
       "119387                         31                        2   \n",
       "119388                         31                        2   \n",
       "119389                         29                        2   \n",
       "\n",
       "        stays_in_week_nights  adults  ...  deposit_type  agent company  \\\n",
       "0                          0       2  ...    No Deposit    NaN     NaN   \n",
       "1                          0       2  ...    No Deposit    NaN     NaN   \n",
       "2                          1       1  ...    No Deposit    NaN     NaN   \n",
       "3                          1       1  ...    No Deposit  304.0     NaN   \n",
       "4                          2       2  ...    No Deposit  240.0     NaN   \n",
       "...                      ...     ...  ...           ...    ...     ...   \n",
       "119385                     5       2  ...    No Deposit  394.0     NaN   \n",
       "119386                     5       3  ...    No Deposit    9.0     NaN   \n",
       "119387                     5       2  ...    No Deposit    9.0     NaN   \n",
       "119388                     5       2  ...    No Deposit   89.0     NaN   \n",
       "119389                     7       2  ...    No Deposit    9.0     NaN   \n",
       "\n",
       "       days_in_waiting_list customer_type     adr  \\\n",
       "0                         0     Transient    0.00   \n",
       "1                         0     Transient    0.00   \n",
       "2                         0     Transient   75.00   \n",
       "3                         0     Transient   75.00   \n",
       "4                         0     Transient   98.00   \n",
       "...                     ...           ...     ...   \n",
       "119385                    0     Transient   96.14   \n",
       "119386                    0     Transient  225.43   \n",
       "119387                    0     Transient  157.71   \n",
       "119388                    0     Transient  104.40   \n",
       "119389                    0     Transient  151.20   \n",
       "\n",
       "        required_car_parking_spaces  total_of_special_requests  \\\n",
       "0                                 0                          0   \n",
       "1                                 0                          0   \n",
       "2                                 0                          0   \n",
       "3                                 0                          0   \n",
       "4                                 0                          1   \n",
       "...                             ...                        ...   \n",
       "119385                            0                          0   \n",
       "119386                            0                          2   \n",
       "119387                            0                          4   \n",
       "119388                            0                          0   \n",
       "119389                            0                          2   \n",
       "\n",
       "        reservation_status reservation_status_date  \n",
       "0                Check-Out                7/1/2015  \n",
       "1                Check-Out                7/1/2015  \n",
       "2                Check-Out                7/2/2015  \n",
       "3                Check-Out                7/2/2015  \n",
       "4                Check-Out                7/3/2015  \n",
       "...                    ...                     ...  \n",
       "119385           Check-Out                9/6/2017  \n",
       "119386           Check-Out                9/7/2017  \n",
       "119387           Check-Out                9/7/2017  \n",
       "119388           Check-Out                9/7/2017  \n",
       "119389           Check-Out                9/7/2017  \n",
       "\n",
       "[119210 rows x 32 columns]"
      ]
     },
     "execution_count": 6,
     "metadata": {},
     "output_type": "execute_result"
    }
   ],
   "source": [
    "final_data=df[~filtered_data]\n",
    "final_data"
   ]
  },
  {
   "cell_type": "code",
   "execution_count": 7,
   "id": "4051d4e8",
   "metadata": {},
   "outputs": [],
   "source": [
    "del df"
   ]
  },
  {
   "cell_type": "code",
   "execution_count": 8,
   "id": "89e295ef",
   "metadata": {},
   "outputs": [
    {
     "data": {
      "text/plain": [
       "hotel                                  0\n",
       "is_canceled                            0\n",
       "lead_time                              0\n",
       "arrival_date_year                      0\n",
       "arrival_date_month                     0\n",
       "arrival_date_week_number               0\n",
       "arrival_date_day_of_month              0\n",
       "stays_in_weekend_nights                0\n",
       "stays_in_week_nights                   0\n",
       "adults                                 0\n",
       "children                               4\n",
       "babies                                 0\n",
       "meal                                   0\n",
       "country                              478\n",
       "market_segment                         0\n",
       "distribution_channel                   0\n",
       "is_repeated_guest                      0\n",
       "previous_cancellations                 0\n",
       "previous_bookings_not_canceled         0\n",
       "reserved_room_type                     0\n",
       "assigned_room_type                     0\n",
       "booking_changes                        0\n",
       "deposit_type                           0\n",
       "agent                              16280\n",
       "company                           112442\n",
       "days_in_waiting_list                   0\n",
       "customer_type                          0\n",
       "adr                                    0\n",
       "required_car_parking_spaces            0\n",
       "total_of_special_requests              0\n",
       "reservation_status                     0\n",
       "reservation_status_date                0\n",
       "dtype: int64"
      ]
     },
     "execution_count": 8,
     "metadata": {},
     "output_type": "execute_result"
    }
   ],
   "source": [
    "final_data.isna().sum()"
   ]
  },
  {
   "cell_type": "code",
   "execution_count": 9,
   "id": "4893fd7d",
   "metadata": {},
   "outputs": [],
   "source": [
    "def clean_data(col, data):\n",
    "    data = data.copy()  # Create a copy of the DataFrame\n",
    "    if data[col].dtypes == object:\n",
    "        mode_val = data[col].mode().iloc[0]\n",
    "        data[col].fillna(mode_val, inplace=True)\n",
    "    else:\n",
    "        mean = data[col].median()\n",
    "        data[col].fillna(mean, inplace=True)\n",
    "    return data\n",
    "\n"
   ]
  },
  {
   "cell_type": "code",
   "execution_count": 10,
   "id": "de5618a5",
   "metadata": {},
   "outputs": [],
   "source": [
    "# Apply clean_data function to each column\n",
    "for i in final_data.columns:\n",
    "    final_data = clean_data(i, final_data)\n"
   ]
  },
  {
   "cell_type": "code",
   "execution_count": 11,
   "id": "214a4e59",
   "metadata": {
    "scrolled": true
   },
   "outputs": [
    {
     "data": {
      "text/plain": [
       "Index(['hotel', 'is_canceled', 'lead_time', 'arrival_date_year',\n",
       "       'arrival_date_month', 'arrival_date_week_number',\n",
       "       'arrival_date_day_of_month', 'stays_in_weekend_nights',\n",
       "       'stays_in_week_nights', 'adults', 'children', 'babies', 'meal',\n",
       "       'country', 'market_segment', 'distribution_channel',\n",
       "       'is_repeated_guest', 'previous_cancellations',\n",
       "       'previous_bookings_not_canceled', 'reserved_room_type',\n",
       "       'assigned_room_type', 'booking_changes', 'deposit_type', 'agent',\n",
       "       'company', 'days_in_waiting_list', 'customer_type', 'adr',\n",
       "       'required_car_parking_spaces', 'total_of_special_requests',\n",
       "       'reservation_status', 'reservation_status_date'],\n",
       "      dtype='object')"
      ]
     },
     "execution_count": 11,
     "metadata": {},
     "output_type": "execute_result"
    }
   ],
   "source": [
    "final_data.columns"
   ]
  },
  {
   "cell_type": "code",
   "execution_count": 12,
   "id": "f9c7997e",
   "metadata": {},
   "outputs": [
    {
     "data": {
      "text/plain": [
       "August       13861\n",
       "July         12644\n",
       "May          11780\n",
       "October      11147\n",
       "April        11078\n",
       "June         10929\n",
       "September    10500\n",
       "March         9768\n",
       "February      8052\n",
       "November      6771\n",
       "December      6759\n",
       "January       5921\n",
       "Name: arrival_date_month, dtype: int64"
      ]
     },
     "execution_count": 12,
     "metadata": {},
     "output_type": "execute_result"
    }
   ],
   "source": [
    "final_data.arrival_date_month.value_counts()"
   ]
  },
  {
   "cell_type": "markdown",
   "id": "a0792ec7",
   "metadata": {},
   "source": [
    "## How much do guests pay for a room per night?"
   ]
  },
  {
   "cell_type": "code",
   "execution_count": 14,
   "id": "1ddf510b",
   "metadata": {},
   "outputs": [
    {
     "data": {
      "text/plain": [
       "array(['Resort Hotel', 'City Hotel'], dtype=object)"
      ]
     },
     "execution_count": 14,
     "metadata": {},
     "output_type": "execute_result"
    }
   ],
   "source": [
    "final_data.hotel.unique()"
   ]
  },
  {
   "cell_type": "code",
   "execution_count": 15,
   "id": "df43a28f",
   "metadata": {},
   "outputs": [
    {
     "data": {
      "text/html": [
       "<div>\n",
       "<style scoped>\n",
       "    .dataframe tbody tr th:only-of-type {\n",
       "        vertical-align: middle;\n",
       "    }\n",
       "\n",
       "    .dataframe tbody tr th {\n",
       "        vertical-align: top;\n",
       "    }\n",
       "\n",
       "    .dataframe thead th {\n",
       "        text-align: right;\n",
       "    }\n",
       "</style>\n",
       "<table border=\"1\" class=\"dataframe\">\n",
       "  <thead>\n",
       "    <tr style=\"text-align: right;\">\n",
       "      <th></th>\n",
       "      <th>hotel</th>\n",
       "      <th>is_canceled</th>\n",
       "      <th>lead_time</th>\n",
       "      <th>arrival_date_year</th>\n",
       "      <th>arrival_date_month</th>\n",
       "      <th>arrival_date_week_number</th>\n",
       "      <th>arrival_date_day_of_month</th>\n",
       "      <th>stays_in_weekend_nights</th>\n",
       "      <th>stays_in_week_nights</th>\n",
       "      <th>adults</th>\n",
       "      <th>...</th>\n",
       "      <th>deposit_type</th>\n",
       "      <th>agent</th>\n",
       "      <th>company</th>\n",
       "      <th>days_in_waiting_list</th>\n",
       "      <th>customer_type</th>\n",
       "      <th>adr</th>\n",
       "      <th>required_car_parking_spaces</th>\n",
       "      <th>total_of_special_requests</th>\n",
       "      <th>reservation_status</th>\n",
       "      <th>reservation_status_date</th>\n",
       "    </tr>\n",
       "  </thead>\n",
       "  <tbody>\n",
       "    <tr>\n",
       "      <th>0</th>\n",
       "      <td>Resort Hotel</td>\n",
       "      <td>0</td>\n",
       "      <td>342</td>\n",
       "      <td>2015</td>\n",
       "      <td>July</td>\n",
       "      <td>27</td>\n",
       "      <td>1</td>\n",
       "      <td>0</td>\n",
       "      <td>0</td>\n",
       "      <td>2</td>\n",
       "      <td>...</td>\n",
       "      <td>No Deposit</td>\n",
       "      <td>14.0</td>\n",
       "      <td>178.0</td>\n",
       "      <td>0</td>\n",
       "      <td>Transient</td>\n",
       "      <td>0.00</td>\n",
       "      <td>0</td>\n",
       "      <td>0</td>\n",
       "      <td>Check-Out</td>\n",
       "      <td>7/1/2015</td>\n",
       "    </tr>\n",
       "    <tr>\n",
       "      <th>1</th>\n",
       "      <td>Resort Hotel</td>\n",
       "      <td>0</td>\n",
       "      <td>737</td>\n",
       "      <td>2015</td>\n",
       "      <td>July</td>\n",
       "      <td>27</td>\n",
       "      <td>1</td>\n",
       "      <td>0</td>\n",
       "      <td>0</td>\n",
       "      <td>2</td>\n",
       "      <td>...</td>\n",
       "      <td>No Deposit</td>\n",
       "      <td>14.0</td>\n",
       "      <td>178.0</td>\n",
       "      <td>0</td>\n",
       "      <td>Transient</td>\n",
       "      <td>0.00</td>\n",
       "      <td>0</td>\n",
       "      <td>0</td>\n",
       "      <td>Check-Out</td>\n",
       "      <td>7/1/2015</td>\n",
       "    </tr>\n",
       "    <tr>\n",
       "      <th>2</th>\n",
       "      <td>Resort Hotel</td>\n",
       "      <td>0</td>\n",
       "      <td>7</td>\n",
       "      <td>2015</td>\n",
       "      <td>July</td>\n",
       "      <td>27</td>\n",
       "      <td>1</td>\n",
       "      <td>0</td>\n",
       "      <td>1</td>\n",
       "      <td>1</td>\n",
       "      <td>...</td>\n",
       "      <td>No Deposit</td>\n",
       "      <td>14.0</td>\n",
       "      <td>178.0</td>\n",
       "      <td>0</td>\n",
       "      <td>Transient</td>\n",
       "      <td>75.00</td>\n",
       "      <td>0</td>\n",
       "      <td>0</td>\n",
       "      <td>Check-Out</td>\n",
       "      <td>7/2/2015</td>\n",
       "    </tr>\n",
       "    <tr>\n",
       "      <th>3</th>\n",
       "      <td>Resort Hotel</td>\n",
       "      <td>0</td>\n",
       "      <td>13</td>\n",
       "      <td>2015</td>\n",
       "      <td>July</td>\n",
       "      <td>27</td>\n",
       "      <td>1</td>\n",
       "      <td>0</td>\n",
       "      <td>1</td>\n",
       "      <td>1</td>\n",
       "      <td>...</td>\n",
       "      <td>No Deposit</td>\n",
       "      <td>304.0</td>\n",
       "      <td>178.0</td>\n",
       "      <td>0</td>\n",
       "      <td>Transient</td>\n",
       "      <td>75.00</td>\n",
       "      <td>0</td>\n",
       "      <td>0</td>\n",
       "      <td>Check-Out</td>\n",
       "      <td>7/2/2015</td>\n",
       "    </tr>\n",
       "    <tr>\n",
       "      <th>4</th>\n",
       "      <td>Resort Hotel</td>\n",
       "      <td>0</td>\n",
       "      <td>14</td>\n",
       "      <td>2015</td>\n",
       "      <td>July</td>\n",
       "      <td>27</td>\n",
       "      <td>1</td>\n",
       "      <td>0</td>\n",
       "      <td>2</td>\n",
       "      <td>2</td>\n",
       "      <td>...</td>\n",
       "      <td>No Deposit</td>\n",
       "      <td>240.0</td>\n",
       "      <td>178.0</td>\n",
       "      <td>0</td>\n",
       "      <td>Transient</td>\n",
       "      <td>98.00</td>\n",
       "      <td>0</td>\n",
       "      <td>1</td>\n",
       "      <td>Check-Out</td>\n",
       "      <td>7/3/2015</td>\n",
       "    </tr>\n",
       "    <tr>\n",
       "      <th>...</th>\n",
       "      <td>...</td>\n",
       "      <td>...</td>\n",
       "      <td>...</td>\n",
       "      <td>...</td>\n",
       "      <td>...</td>\n",
       "      <td>...</td>\n",
       "      <td>...</td>\n",
       "      <td>...</td>\n",
       "      <td>...</td>\n",
       "      <td>...</td>\n",
       "      <td>...</td>\n",
       "      <td>...</td>\n",
       "      <td>...</td>\n",
       "      <td>...</td>\n",
       "      <td>...</td>\n",
       "      <td>...</td>\n",
       "      <td>...</td>\n",
       "      <td>...</td>\n",
       "      <td>...</td>\n",
       "      <td>...</td>\n",
       "      <td>...</td>\n",
       "    </tr>\n",
       "    <tr>\n",
       "      <th>119385</th>\n",
       "      <td>City Hotel</td>\n",
       "      <td>0</td>\n",
       "      <td>23</td>\n",
       "      <td>2017</td>\n",
       "      <td>August</td>\n",
       "      <td>35</td>\n",
       "      <td>30</td>\n",
       "      <td>2</td>\n",
       "      <td>5</td>\n",
       "      <td>2</td>\n",
       "      <td>...</td>\n",
       "      <td>No Deposit</td>\n",
       "      <td>394.0</td>\n",
       "      <td>178.0</td>\n",
       "      <td>0</td>\n",
       "      <td>Transient</td>\n",
       "      <td>96.14</td>\n",
       "      <td>0</td>\n",
       "      <td>0</td>\n",
       "      <td>Check-Out</td>\n",
       "      <td>9/6/2017</td>\n",
       "    </tr>\n",
       "    <tr>\n",
       "      <th>119386</th>\n",
       "      <td>City Hotel</td>\n",
       "      <td>0</td>\n",
       "      <td>102</td>\n",
       "      <td>2017</td>\n",
       "      <td>August</td>\n",
       "      <td>35</td>\n",
       "      <td>31</td>\n",
       "      <td>2</td>\n",
       "      <td>5</td>\n",
       "      <td>3</td>\n",
       "      <td>...</td>\n",
       "      <td>No Deposit</td>\n",
       "      <td>9.0</td>\n",
       "      <td>178.0</td>\n",
       "      <td>0</td>\n",
       "      <td>Transient</td>\n",
       "      <td>225.43</td>\n",
       "      <td>0</td>\n",
       "      <td>2</td>\n",
       "      <td>Check-Out</td>\n",
       "      <td>9/7/2017</td>\n",
       "    </tr>\n",
       "    <tr>\n",
       "      <th>119387</th>\n",
       "      <td>City Hotel</td>\n",
       "      <td>0</td>\n",
       "      <td>34</td>\n",
       "      <td>2017</td>\n",
       "      <td>August</td>\n",
       "      <td>35</td>\n",
       "      <td>31</td>\n",
       "      <td>2</td>\n",
       "      <td>5</td>\n",
       "      <td>2</td>\n",
       "      <td>...</td>\n",
       "      <td>No Deposit</td>\n",
       "      <td>9.0</td>\n",
       "      <td>178.0</td>\n",
       "      <td>0</td>\n",
       "      <td>Transient</td>\n",
       "      <td>157.71</td>\n",
       "      <td>0</td>\n",
       "      <td>4</td>\n",
       "      <td>Check-Out</td>\n",
       "      <td>9/7/2017</td>\n",
       "    </tr>\n",
       "    <tr>\n",
       "      <th>119388</th>\n",
       "      <td>City Hotel</td>\n",
       "      <td>0</td>\n",
       "      <td>109</td>\n",
       "      <td>2017</td>\n",
       "      <td>August</td>\n",
       "      <td>35</td>\n",
       "      <td>31</td>\n",
       "      <td>2</td>\n",
       "      <td>5</td>\n",
       "      <td>2</td>\n",
       "      <td>...</td>\n",
       "      <td>No Deposit</td>\n",
       "      <td>89.0</td>\n",
       "      <td>178.0</td>\n",
       "      <td>0</td>\n",
       "      <td>Transient</td>\n",
       "      <td>104.40</td>\n",
       "      <td>0</td>\n",
       "      <td>0</td>\n",
       "      <td>Check-Out</td>\n",
       "      <td>9/7/2017</td>\n",
       "    </tr>\n",
       "    <tr>\n",
       "      <th>119389</th>\n",
       "      <td>City Hotel</td>\n",
       "      <td>0</td>\n",
       "      <td>205</td>\n",
       "      <td>2017</td>\n",
       "      <td>August</td>\n",
       "      <td>35</td>\n",
       "      <td>29</td>\n",
       "      <td>2</td>\n",
       "      <td>7</td>\n",
       "      <td>2</td>\n",
       "      <td>...</td>\n",
       "      <td>No Deposit</td>\n",
       "      <td>9.0</td>\n",
       "      <td>178.0</td>\n",
       "      <td>0</td>\n",
       "      <td>Transient</td>\n",
       "      <td>151.20</td>\n",
       "      <td>0</td>\n",
       "      <td>2</td>\n",
       "      <td>Check-Out</td>\n",
       "      <td>9/7/2017</td>\n",
       "    </tr>\n",
       "  </tbody>\n",
       "</table>\n",
       "<p>75011 rows × 32 columns</p>\n",
       "</div>"
      ],
      "text/plain": [
       "               hotel  is_canceled  lead_time  arrival_date_year  \\\n",
       "0       Resort Hotel            0        342               2015   \n",
       "1       Resort Hotel            0        737               2015   \n",
       "2       Resort Hotel            0          7               2015   \n",
       "3       Resort Hotel            0         13               2015   \n",
       "4       Resort Hotel            0         14               2015   \n",
       "...              ...          ...        ...                ...   \n",
       "119385    City Hotel            0         23               2017   \n",
       "119386    City Hotel            0        102               2017   \n",
       "119387    City Hotel            0         34               2017   \n",
       "119388    City Hotel            0        109               2017   \n",
       "119389    City Hotel            0        205               2017   \n",
       "\n",
       "       arrival_date_month  arrival_date_week_number  \\\n",
       "0                    July                        27   \n",
       "1                    July                        27   \n",
       "2                    July                        27   \n",
       "3                    July                        27   \n",
       "4                    July                        27   \n",
       "...                   ...                       ...   \n",
       "119385             August                        35   \n",
       "119386             August                        35   \n",
       "119387             August                        35   \n",
       "119388             August                        35   \n",
       "119389             August                        35   \n",
       "\n",
       "        arrival_date_day_of_month  stays_in_weekend_nights  \\\n",
       "0                               1                        0   \n",
       "1                               1                        0   \n",
       "2                               1                        0   \n",
       "3                               1                        0   \n",
       "4                               1                        0   \n",
       "...                           ...                      ...   \n",
       "119385                         30                        2   \n",
       "119386                         31                        2   \n",
       "119387                         31                        2   \n",
       "119388                         31                        2   \n",
       "119389                         29                        2   \n",
       "\n",
       "        stays_in_week_nights  adults  ...  deposit_type  agent company  \\\n",
       "0                          0       2  ...    No Deposit   14.0   178.0   \n",
       "1                          0       2  ...    No Deposit   14.0   178.0   \n",
       "2                          1       1  ...    No Deposit   14.0   178.0   \n",
       "3                          1       1  ...    No Deposit  304.0   178.0   \n",
       "4                          2       2  ...    No Deposit  240.0   178.0   \n",
       "...                      ...     ...  ...           ...    ...     ...   \n",
       "119385                     5       2  ...    No Deposit  394.0   178.0   \n",
       "119386                     5       3  ...    No Deposit    9.0   178.0   \n",
       "119387                     5       2  ...    No Deposit    9.0   178.0   \n",
       "119388                     5       2  ...    No Deposit   89.0   178.0   \n",
       "119389                     7       2  ...    No Deposit    9.0   178.0   \n",
       "\n",
       "       days_in_waiting_list customer_type     adr  \\\n",
       "0                         0     Transient    0.00   \n",
       "1                         0     Transient    0.00   \n",
       "2                         0     Transient   75.00   \n",
       "3                         0     Transient   75.00   \n",
       "4                         0     Transient   98.00   \n",
       "...                     ...           ...     ...   \n",
       "119385                    0     Transient   96.14   \n",
       "119386                    0     Transient  225.43   \n",
       "119387                    0     Transient  157.71   \n",
       "119388                    0     Transient  104.40   \n",
       "119389                    0     Transient  151.20   \n",
       "\n",
       "        required_car_parking_spaces  total_of_special_requests  \\\n",
       "0                                 0                          0   \n",
       "1                                 0                          0   \n",
       "2                                 0                          0   \n",
       "3                                 0                          0   \n",
       "4                                 0                          1   \n",
       "...                             ...                        ...   \n",
       "119385                            0                          0   \n",
       "119386                            0                          2   \n",
       "119387                            0                          4   \n",
       "119388                            0                          0   \n",
       "119389                            0                          2   \n",
       "\n",
       "        reservation_status reservation_status_date  \n",
       "0                Check-Out                7/1/2015  \n",
       "1                Check-Out                7/1/2015  \n",
       "2                Check-Out                7/2/2015  \n",
       "3                Check-Out                7/2/2015  \n",
       "4                Check-Out                7/3/2015  \n",
       "...                    ...                     ...  \n",
       "119385           Check-Out                9/6/2017  \n",
       "119386           Check-Out                9/7/2017  \n",
       "119387           Check-Out                9/7/2017  \n",
       "119388           Check-Out                9/7/2017  \n",
       "119389           Check-Out                9/7/2017  \n",
       "\n",
       "[75011 rows x 32 columns]"
      ]
     },
     "execution_count": 15,
     "metadata": {},
     "output_type": "execute_result"
    }
   ],
   "source": [
    "data = final_data[final_data[\"is_canceled\"] == 0]\n",
    "data"
   ]
  },
  {
   "cell_type": "code",
   "execution_count": 16,
   "id": "1af25e03",
   "metadata": {},
   "outputs": [
    {
     "data": {
      "image/png": "[encoded data removed]",
      "text/plain": [
       "<Figure size 1200x800 with 1 Axes>"
      ]
     },
     "metadata": {},
     "output_type": "display_data"
    }
   ],
   "source": [
    "#boxplot\n",
    "plt.figure(figsize = (12,8)) #default\n",
    "\n",
    "sns.boxplot(x = \"reserved_room_type\",\n",
    "           y = \"adr\", \n",
    "           hue = \"hotel\", data = data)\n",
    "\n",
    "plt.title(\"Price of room types per night per person\", fontsize = 16)\n",
    "plt.xlabel(\"Room type\")\n",
    "plt.ylabel(\"Price [EUR]\")\n",
    "plt.legend(loc = \"upper right\")\n",
    "plt.ylim(0,600)\n",
    "plt.show()"
   ]
  },
  {
   "cell_type": "code",
   "execution_count": 17,
   "id": "902903c6",
   "metadata": {},
   "outputs": [
    {
     "data": {
      "text/plain": [
       "reservation_status\n",
       "Check-Out             75011\n",
       "Canceled              42993\n",
       "No-Show                1206\n",
       "dtype: int64"
      ]
     },
     "execution_count": 17,
     "metadata": {},
     "output_type": "execute_result"
    }
   ],
   "source": [
    "final_data[['reservation_status']].value_counts()"
   ]
  },
  {
   "cell_type": "markdown",
   "id": "dcb558b8",
   "metadata": {},
   "source": [
    "## How does the price of adr vary over the year"
   ]
  },
  {
   "cell_type": "code",
   "execution_count": 18,
   "id": "8a5e3bce",
   "metadata": {},
   "outputs": [],
   "source": [
    "data_resort=final_data[(final_data.hotel == 'Resort Hotel') & (final_data.is_canceled==0)]\n",
    "data_city=final_data[(final_data.hotel=='City Hotel') & (final_data.is_canceled==0)] "
   ]
  },
  {
   "cell_type": "code",
   "execution_count": 19,
   "id": "12e5ea3b",
   "metadata": {},
   "outputs": [],
   "source": [
    "# how many people come to the resort each month\n",
    "resort_hotel = data_resort.groupby(['arrival_date_month'])['adr'].mean().reset_index()"
   ]
  },
  {
   "cell_type": "code",
   "execution_count": 20,
   "id": "a47f09d0",
   "metadata": {},
   "outputs": [],
   "source": [
    "#how many people came to city hotel per month\n",
    "city_hotel = data_city.groupby(['arrival_date_month'])['adr'].mean().reset_index()\n"
   ]
  },
  {
   "cell_type": "code",
   "execution_count": 21,
   "id": "3366f458",
   "metadata": {},
   "outputs": [
    {
     "name": "stdout",
     "output_type": "stream",
     "text": [
      "        month  price_for_resort_hotel  price_for_city_hotel\n",
      "0       April               75.867816            111.962267\n",
      "1      August              181.205892            118.674598\n",
      "2    December               68.410104             88.401855\n",
      "3    February               54.147478             86.520062\n",
      "4     January               48.761125             82.330983\n",
      "5        July              150.122528            115.818019\n",
      "6        June              107.974850            117.874360\n",
      "7       March               57.056838             90.658533\n",
      "8         May               76.657558            120.669827\n",
      "9    November               48.706289             86.946592\n",
      "10    October               61.775449            102.004672\n",
      "11  September               96.416860            112.776582\n"
     ]
    }
   ],
   "source": [
    "final = resort_hotel.merge(city_hotel, on = \"arrival_date_month\")\n",
    "\n",
    "final.columns = [\"month\", \"price_for_resort_hotel\", \"price_for_city_hotel\"]\n",
    "print(final)"
   ]
  },
  {
   "cell_type": "markdown",
   "id": "93a98669",
   "metadata": {},
   "source": [
    "## Which are the most busy month or in which months Guests are high?\n"
   ]
  },
  {
   "cell_type": "code",
   "execution_count": 22,
   "id": "e5fb28f4",
   "metadata": {
    "scrolled": true
   },
   "outputs": [
    {
     "data": {
      "text/html": [
       "<div>\n",
       "<style scoped>\n",
       "    .dataframe tbody tr th:only-of-type {\n",
       "        vertical-align: middle;\n",
       "    }\n",
       "\n",
       "    .dataframe tbody tr th {\n",
       "        vertical-align: top;\n",
       "    }\n",
       "\n",
       "    .dataframe thead th {\n",
       "        text-align: right;\n",
       "    }\n",
       "</style>\n",
       "<table border=\"1\" class=\"dataframe\">\n",
       "  <thead>\n",
       "    <tr style=\"text-align: right;\">\n",
       "      <th></th>\n",
       "      <th>hotel</th>\n",
       "      <th>is_canceled</th>\n",
       "      <th>lead_time</th>\n",
       "      <th>arrival_date_year</th>\n",
       "      <th>arrival_date_month</th>\n",
       "      <th>arrival_date_week_number</th>\n",
       "      <th>arrival_date_day_of_month</th>\n",
       "      <th>stays_in_weekend_nights</th>\n",
       "      <th>stays_in_week_nights</th>\n",
       "      <th>adults</th>\n",
       "      <th>...</th>\n",
       "      <th>deposit_type</th>\n",
       "      <th>agent</th>\n",
       "      <th>company</th>\n",
       "      <th>days_in_waiting_list</th>\n",
       "      <th>customer_type</th>\n",
       "      <th>adr</th>\n",
       "      <th>required_car_parking_spaces</th>\n",
       "      <th>total_of_special_requests</th>\n",
       "      <th>reservation_status</th>\n",
       "      <th>reservation_status_date</th>\n",
       "    </tr>\n",
       "  </thead>\n",
       "  <tbody>\n",
       "    <tr>\n",
       "      <th>0</th>\n",
       "      <td>Resort Hotel</td>\n",
       "      <td>0</td>\n",
       "      <td>342</td>\n",
       "      <td>2015</td>\n",
       "      <td>July</td>\n",
       "      <td>27</td>\n",
       "      <td>1</td>\n",
       "      <td>0</td>\n",
       "      <td>0</td>\n",
       "      <td>2</td>\n",
       "      <td>...</td>\n",
       "      <td>No Deposit</td>\n",
       "      <td>14.0</td>\n",
       "      <td>178.0</td>\n",
       "      <td>0</td>\n",
       "      <td>Transient</td>\n",
       "      <td>0.0</td>\n",
       "      <td>0</td>\n",
       "      <td>0</td>\n",
       "      <td>Check-Out</td>\n",
       "      <td>7/1/2015</td>\n",
       "    </tr>\n",
       "    <tr>\n",
       "      <th>1</th>\n",
       "      <td>Resort Hotel</td>\n",
       "      <td>0</td>\n",
       "      <td>737</td>\n",
       "      <td>2015</td>\n",
       "      <td>July</td>\n",
       "      <td>27</td>\n",
       "      <td>1</td>\n",
       "      <td>0</td>\n",
       "      <td>0</td>\n",
       "      <td>2</td>\n",
       "      <td>...</td>\n",
       "      <td>No Deposit</td>\n",
       "      <td>14.0</td>\n",
       "      <td>178.0</td>\n",
       "      <td>0</td>\n",
       "      <td>Transient</td>\n",
       "      <td>0.0</td>\n",
       "      <td>0</td>\n",
       "      <td>0</td>\n",
       "      <td>Check-Out</td>\n",
       "      <td>7/1/2015</td>\n",
       "    </tr>\n",
       "    <tr>\n",
       "      <th>2</th>\n",
       "      <td>Resort Hotel</td>\n",
       "      <td>0</td>\n",
       "      <td>7</td>\n",
       "      <td>2015</td>\n",
       "      <td>July</td>\n",
       "      <td>27</td>\n",
       "      <td>1</td>\n",
       "      <td>0</td>\n",
       "      <td>1</td>\n",
       "      <td>1</td>\n",
       "      <td>...</td>\n",
       "      <td>No Deposit</td>\n",
       "      <td>14.0</td>\n",
       "      <td>178.0</td>\n",
       "      <td>0</td>\n",
       "      <td>Transient</td>\n",
       "      <td>75.0</td>\n",
       "      <td>0</td>\n",
       "      <td>0</td>\n",
       "      <td>Check-Out</td>\n",
       "      <td>7/2/2015</td>\n",
       "    </tr>\n",
       "    <tr>\n",
       "      <th>3</th>\n",
       "      <td>Resort Hotel</td>\n",
       "      <td>0</td>\n",
       "      <td>13</td>\n",
       "      <td>2015</td>\n",
       "      <td>July</td>\n",
       "      <td>27</td>\n",
       "      <td>1</td>\n",
       "      <td>0</td>\n",
       "      <td>1</td>\n",
       "      <td>1</td>\n",
       "      <td>...</td>\n",
       "      <td>No Deposit</td>\n",
       "      <td>304.0</td>\n",
       "      <td>178.0</td>\n",
       "      <td>0</td>\n",
       "      <td>Transient</td>\n",
       "      <td>75.0</td>\n",
       "      <td>0</td>\n",
       "      <td>0</td>\n",
       "      <td>Check-Out</td>\n",
       "      <td>7/2/2015</td>\n",
       "    </tr>\n",
       "    <tr>\n",
       "      <th>4</th>\n",
       "      <td>Resort Hotel</td>\n",
       "      <td>0</td>\n",
       "      <td>14</td>\n",
       "      <td>2015</td>\n",
       "      <td>July</td>\n",
       "      <td>27</td>\n",
       "      <td>1</td>\n",
       "      <td>0</td>\n",
       "      <td>2</td>\n",
       "      <td>2</td>\n",
       "      <td>...</td>\n",
       "      <td>No Deposit</td>\n",
       "      <td>240.0</td>\n",
       "      <td>178.0</td>\n",
       "      <td>0</td>\n",
       "      <td>Transient</td>\n",
       "      <td>98.0</td>\n",
       "      <td>0</td>\n",
       "      <td>1</td>\n",
       "      <td>Check-Out</td>\n",
       "      <td>7/3/2015</td>\n",
       "    </tr>\n",
       "  </tbody>\n",
       "</table>\n",
       "<p>5 rows × 32 columns</p>\n",
       "</div>"
      ],
      "text/plain": [
       "          hotel  is_canceled  lead_time  arrival_date_year arrival_date_month  \\\n",
       "0  Resort Hotel            0        342               2015               July   \n",
       "1  Resort Hotel            0        737               2015               July   \n",
       "2  Resort Hotel            0          7               2015               July   \n",
       "3  Resort Hotel            0         13               2015               July   \n",
       "4  Resort Hotel            0         14               2015               July   \n",
       "\n",
       "   arrival_date_week_number  arrival_date_day_of_month  \\\n",
       "0                        27                          1   \n",
       "1                        27                          1   \n",
       "2                        27                          1   \n",
       "3                        27                          1   \n",
       "4                        27                          1   \n",
       "\n",
       "   stays_in_weekend_nights  stays_in_week_nights  adults  ...  deposit_type  \\\n",
       "0                        0                     0       2  ...    No Deposit   \n",
       "1                        0                     0       2  ...    No Deposit   \n",
       "2                        0                     1       1  ...    No Deposit   \n",
       "3                        0                     1       1  ...    No Deposit   \n",
       "4                        0                     2       2  ...    No Deposit   \n",
       "\n",
       "   agent company days_in_waiting_list customer_type   adr  \\\n",
       "0   14.0   178.0                    0     Transient   0.0   \n",
       "1   14.0   178.0                    0     Transient   0.0   \n",
       "2   14.0   178.0                    0     Transient  75.0   \n",
       "3  304.0   178.0                    0     Transient  75.0   \n",
       "4  240.0   178.0                    0     Transient  98.0   \n",
       "\n",
       "   required_car_parking_spaces  total_of_special_requests  reservation_status  \\\n",
       "0                            0                          0           Check-Out   \n",
       "1                            0                          0           Check-Out   \n",
       "2                            0                          0           Check-Out   \n",
       "3                            0                          0           Check-Out   \n",
       "4                            0                          1           Check-Out   \n",
       "\n",
       "  reservation_status_date  \n",
       "0                7/1/2015  \n",
       "1                7/1/2015  \n",
       "2                7/2/2015  \n",
       "3                7/2/2015  \n",
       "4                7/3/2015  \n",
       "\n",
       "[5 rows x 32 columns]"
      ]
     },
     "execution_count": 22,
     "metadata": {},
     "output_type": "execute_result"
    }
   ],
   "source": [
    "data_resort.head()"
   ]
  },
  {
   "cell_type": "code",
   "execution_count": 23,
   "id": "b8052d6a",
   "metadata": {},
   "outputs": [
    {
     "name": "stdout",
     "output_type": "stream",
     "text": [
      "        month  no of guests\n",
      "0      August          3257\n",
      "1        July          3137\n",
      "2     October          2575\n",
      "3       March          2571\n",
      "4       April          2550\n",
      "5         May          2535\n",
      "6    February          2308\n",
      "7   September          2102\n",
      "8        June          2037\n",
      "9    December          2014\n",
      "10   November          1975\n",
      "11    January          1866\n"
     ]
    }
   ],
   "source": [
    "rush_resort = data_resort[\"arrival_date_month\"].value_counts().reset_index()\n",
    "rush_resort.columns = [\"month\", \"no of guests\"]\n",
    "\n",
    "print(rush_resort)"
   ]
  },
  {
   "cell_type": "code",
   "execution_count": 24,
   "id": "da326097",
   "metadata": {
    "scrolled": true
   },
   "outputs": [
    {
     "name": "stdout",
     "output_type": "stream",
     "text": [
      "        month  no of guests\n",
      "0      August          5367\n",
      "1        July          4770\n",
      "2         May          4568\n",
      "3        June          4358\n",
      "4     October          4326\n",
      "5   September          4283\n",
      "6       March          4049\n",
      "7       April          4010\n",
      "8    February          3051\n",
      "9    November          2676\n",
      "10   December          2377\n",
      "11    January          2249\n"
     ]
    }
   ],
   "source": [
    "rush_city = data_city[\"arrival_date_month\"].value_counts().reset_index()\n",
    "rush_city.columns = [\"month\", \"no of guests\"]\n",
    "\n",
    "print(rush_city)"
   ]
  },
  {
   "cell_type": "code",
   "execution_count": 25,
   "id": "9ed2db89",
   "metadata": {},
   "outputs": [
    {
     "data": {
      "text/html": [
       "<div>\n",
       "<style scoped>\n",
       "    .dataframe tbody tr th:only-of-type {\n",
       "        vertical-align: middle;\n",
       "    }\n",
       "\n",
       "    .dataframe tbody tr th {\n",
       "        vertical-align: top;\n",
       "    }\n",
       "\n",
       "    .dataframe thead th {\n",
       "        text-align: right;\n",
       "    }\n",
       "</style>\n",
       "<table border=\"1\" class=\"dataframe\">\n",
       "  <thead>\n",
       "    <tr style=\"text-align: right;\">\n",
       "      <th></th>\n",
       "      <th>month</th>\n",
       "      <th>no of guests in resort hotel</th>\n",
       "      <th>no of guests in city hotel</th>\n",
       "    </tr>\n",
       "  </thead>\n",
       "  <tbody>\n",
       "    <tr>\n",
       "      <th>0</th>\n",
       "      <td>August</td>\n",
       "      <td>3257</td>\n",
       "      <td>5367</td>\n",
       "    </tr>\n",
       "    <tr>\n",
       "      <th>1</th>\n",
       "      <td>July</td>\n",
       "      <td>3137</td>\n",
       "      <td>4770</td>\n",
       "    </tr>\n",
       "    <tr>\n",
       "      <th>2</th>\n",
       "      <td>October</td>\n",
       "      <td>2575</td>\n",
       "      <td>4326</td>\n",
       "    </tr>\n",
       "    <tr>\n",
       "      <th>3</th>\n",
       "      <td>March</td>\n",
       "      <td>2571</td>\n",
       "      <td>4049</td>\n",
       "    </tr>\n",
       "    <tr>\n",
       "      <th>4</th>\n",
       "      <td>April</td>\n",
       "      <td>2550</td>\n",
       "      <td>4010</td>\n",
       "    </tr>\n",
       "    <tr>\n",
       "      <th>5</th>\n",
       "      <td>May</td>\n",
       "      <td>2535</td>\n",
       "      <td>4568</td>\n",
       "    </tr>\n",
       "    <tr>\n",
       "      <th>6</th>\n",
       "      <td>February</td>\n",
       "      <td>2308</td>\n",
       "      <td>3051</td>\n",
       "    </tr>\n",
       "    <tr>\n",
       "      <th>7</th>\n",
       "      <td>September</td>\n",
       "      <td>2102</td>\n",
       "      <td>4283</td>\n",
       "    </tr>\n",
       "    <tr>\n",
       "      <th>8</th>\n",
       "      <td>June</td>\n",
       "      <td>2037</td>\n",
       "      <td>4358</td>\n",
       "    </tr>\n",
       "    <tr>\n",
       "      <th>9</th>\n",
       "      <td>December</td>\n",
       "      <td>2014</td>\n",
       "      <td>2377</td>\n",
       "    </tr>\n",
       "    <tr>\n",
       "      <th>10</th>\n",
       "      <td>November</td>\n",
       "      <td>1975</td>\n",
       "      <td>2676</td>\n",
       "    </tr>\n",
       "    <tr>\n",
       "      <th>11</th>\n",
       "      <td>January</td>\n",
       "      <td>1866</td>\n",
       "      <td>2249</td>\n",
       "    </tr>\n",
       "  </tbody>\n",
       "</table>\n",
       "</div>"
      ],
      "text/plain": [
       "        month  no of guests in resort hotel  no of guests in city hotel\n",
       "0      August                          3257                        5367\n",
       "1        July                          3137                        4770\n",
       "2     October                          2575                        4326\n",
       "3       March                          2571                        4049\n",
       "4       April                          2550                        4010\n",
       "5         May                          2535                        4568\n",
       "6    February                          2308                        3051\n",
       "7   September                          2102                        4283\n",
       "8        June                          2037                        4358\n",
       "9    December                          2014                        2377\n",
       "10   November                          1975                        2676\n",
       "11    January                          1866                        2249"
      ]
     },
     "execution_count": 25,
     "metadata": {},
     "output_type": "execute_result"
    }
   ],
   "source": [
    "#merge two data frame rush_resort , rush_city\n",
    "\n",
    "final_rush = rush_resort.merge(rush_city, on = \"month\")\n",
    "final_rush_sorted = final_rush.sort_values(by=\"month\")\n",
    "final_rush.columns = [\"month\", \"no of guests in resort hotel\", \"no of guests in city hotel\"]\n",
    "\n",
    "final_rush"
   ]
  },
  {
   "cell_type": "code",
   "execution_count": 26,
   "id": "e7e24b9d",
   "metadata": {},
   "outputs": [
    {
     "name": "stdout",
     "output_type": "stream",
     "text": [
      "        month  no of guests in resort hotel  no of guests in city hotel\n",
      "0  1900-01-01                          1866                        2249\n",
      "1  1900-02-01                          2308                        3051\n",
      "2  1900-03-01                          2571                        4049\n",
      "3  1900-04-01                          2550                        4010\n",
      "4  1900-05-01                          2535                        4568\n",
      "5  1900-06-01                          2037                        4358\n",
      "6  1900-07-01                          3137                        4770\n",
      "7  1900-08-01                          3257                        5367\n",
      "8  1900-09-01                          2102                        4283\n",
      "9  1900-10-01                          2575                        4326\n",
      "10 1900-11-01                          1975                        2676\n",
      "11 1900-12-01                          2014                        2377\n"
     ]
    }
   ],
   "source": [
    "final_rush['month'] = pd.to_datetime(final_rush['month'], format='%B')\n",
    "import calendar\n",
    "\n",
    "\n",
    "\n",
    "# Sort DataFrame by the \"month\" column\n",
    "final_rush.sort_values(by=\"month\", inplace=True)\n",
    "\n",
    "# Reset index\n",
    "final_rush.reset_index(drop=True, inplace=True)\n",
    "\n",
    "# Print the sorted DataFrame\n",
    "print(final_rush)"
   ]
  },
  {
   "cell_type": "code",
   "execution_count": 27,
   "id": "acfd2258",
   "metadata": {
    "scrolled": true
   },
   "outputs": [
    {
     "name": "stdout",
     "output_type": "stream",
     "text": [
      "    no of guests in resort hotel  no of guests in city hotel month_name\n",
      "0                           1866                        2249    January\n",
      "1                           2308                        3051   February\n",
      "2                           2571                        4049      March\n",
      "3                           2550                        4010      April\n",
      "4                           2535                        4568        May\n",
      "5                           2037                        4358       June\n",
      "6                           3137                        4770       July\n",
      "7                           3257                        5367     August\n",
      "8                           2102                        4283  September\n",
      "9                           2575                        4326    October\n",
      "10                          1975                        2676   November\n",
      "11                          2014                        2377   December\n"
     ]
    }
   ],
   "source": [
    "import pandas as pd\n",
    "import calendar\n",
    "\n",
    "# Assuming \"month\" column is of object type representing months\n",
    "# If it's already datetime type, you can skip this step\n",
    "final_rush['month'] = pd.to_datetime(final_rush['month'], format='%Y-%m-%d')\n",
    "\n",
    "# Extract month name from datetime and create a new column\n",
    "final_rush['month_name'] = final_rush['month'].dt.strftime('%B')\n",
    "\n",
    "# Sort DataFrame by the \"month\" column\n",
    "final_rush.sort_values(by=\"month\", inplace=True)\n",
    "\n",
    "# Reset index\n",
    "final_rush.reset_index(drop=True, inplace=True)\n",
    "\n",
    "# Drop the original \"month\" column if you no longer need it\n",
    "final_rush.drop(columns=['month'], inplace=True)\n",
    "\n",
    "# Print the sorted DataFrame\n",
    "print(final_rush)"
   ]
  },
  {
   "cell_type": "code",
   "execution_count": 28,
   "id": "4069d46b",
   "metadata": {},
   "outputs": [
    {
     "data": {
      "text/plain": [
       "<Axes: xlabel='month_name'>"
      ]
     },
     "execution_count": 28,
     "metadata": {},
     "output_type": "execute_result"
    },
    {
     "data": {
      "image/png": "[encoded data removed]",
      "text/plain": [
       "<Figure size 640x480 with 1 Axes>"
      ]
     },
     "metadata": {},
     "output_type": "display_data"
    }
   ],
   "source": [
    "#plot line plot month vs no of guests\n",
    "\n",
    "final_rush.plot(kind = \"line\", x = \"month_name\", \n",
    "                y = [\"no of guests in resort hotel\",\"no of guests in city hotel\" ])\n"
   ]
  },
  {
   "cell_type": "markdown",
   "id": "a665d0f9",
   "metadata": {},
   "source": [
    "## How long do people stay at the hotels?"
   ]
  },
  {
   "cell_type": "code",
   "execution_count": 29,
   "id": "06e7334b",
   "metadata": {},
   "outputs": [
    {
     "data": {
      "text/html": [
       "<div>\n",
       "<style scoped>\n",
       "    .dataframe tbody tr th:only-of-type {\n",
       "        vertical-align: middle;\n",
       "    }\n",
       "\n",
       "    .dataframe tbody tr th {\n",
       "        vertical-align: top;\n",
       "    }\n",
       "\n",
       "    .dataframe thead th {\n",
       "        text-align: right;\n",
       "    }\n",
       "</style>\n",
       "<table border=\"1\" class=\"dataframe\">\n",
       "  <thead>\n",
       "    <tr style=\"text-align: right;\">\n",
       "      <th></th>\n",
       "      <th>hotel</th>\n",
       "      <th>is_canceled</th>\n",
       "      <th>lead_time</th>\n",
       "      <th>arrival_date_year</th>\n",
       "      <th>arrival_date_month</th>\n",
       "      <th>arrival_date_week_number</th>\n",
       "      <th>arrival_date_day_of_month</th>\n",
       "      <th>stays_in_weekend_nights</th>\n",
       "      <th>stays_in_week_nights</th>\n",
       "      <th>adults</th>\n",
       "      <th>...</th>\n",
       "      <th>deposit_type</th>\n",
       "      <th>agent</th>\n",
       "      <th>company</th>\n",
       "      <th>days_in_waiting_list</th>\n",
       "      <th>customer_type</th>\n",
       "      <th>adr</th>\n",
       "      <th>required_car_parking_spaces</th>\n",
       "      <th>total_of_special_requests</th>\n",
       "      <th>reservation_status</th>\n",
       "      <th>reservation_status_date</th>\n",
       "    </tr>\n",
       "  </thead>\n",
       "  <tbody>\n",
       "    <tr>\n",
       "      <th>0</th>\n",
       "      <td>Resort Hotel</td>\n",
       "      <td>0</td>\n",
       "      <td>342</td>\n",
       "      <td>2015</td>\n",
       "      <td>July</td>\n",
       "      <td>27</td>\n",
       "      <td>1</td>\n",
       "      <td>0</td>\n",
       "      <td>0</td>\n",
       "      <td>2</td>\n",
       "      <td>...</td>\n",
       "      <td>No Deposit</td>\n",
       "      <td>14.0</td>\n",
       "      <td>178.0</td>\n",
       "      <td>0</td>\n",
       "      <td>Transient</td>\n",
       "      <td>0.00</td>\n",
       "      <td>0</td>\n",
       "      <td>0</td>\n",
       "      <td>Check-Out</td>\n",
       "      <td>7/1/2015</td>\n",
       "    </tr>\n",
       "    <tr>\n",
       "      <th>1</th>\n",
       "      <td>Resort Hotel</td>\n",
       "      <td>0</td>\n",
       "      <td>737</td>\n",
       "      <td>2015</td>\n",
       "      <td>July</td>\n",
       "      <td>27</td>\n",
       "      <td>1</td>\n",
       "      <td>0</td>\n",
       "      <td>0</td>\n",
       "      <td>2</td>\n",
       "      <td>...</td>\n",
       "      <td>No Deposit</td>\n",
       "      <td>14.0</td>\n",
       "      <td>178.0</td>\n",
       "      <td>0</td>\n",
       "      <td>Transient</td>\n",
       "      <td>0.00</td>\n",
       "      <td>0</td>\n",
       "      <td>0</td>\n",
       "      <td>Check-Out</td>\n",
       "      <td>7/1/2015</td>\n",
       "    </tr>\n",
       "    <tr>\n",
       "      <th>2</th>\n",
       "      <td>Resort Hotel</td>\n",
       "      <td>0</td>\n",
       "      <td>7</td>\n",
       "      <td>2015</td>\n",
       "      <td>July</td>\n",
       "      <td>27</td>\n",
       "      <td>1</td>\n",
       "      <td>0</td>\n",
       "      <td>1</td>\n",
       "      <td>1</td>\n",
       "      <td>...</td>\n",
       "      <td>No Deposit</td>\n",
       "      <td>14.0</td>\n",
       "      <td>178.0</td>\n",
       "      <td>0</td>\n",
       "      <td>Transient</td>\n",
       "      <td>75.00</td>\n",
       "      <td>0</td>\n",
       "      <td>0</td>\n",
       "      <td>Check-Out</td>\n",
       "      <td>7/2/2015</td>\n",
       "    </tr>\n",
       "    <tr>\n",
       "      <th>3</th>\n",
       "      <td>Resort Hotel</td>\n",
       "      <td>0</td>\n",
       "      <td>13</td>\n",
       "      <td>2015</td>\n",
       "      <td>July</td>\n",
       "      <td>27</td>\n",
       "      <td>1</td>\n",
       "      <td>0</td>\n",
       "      <td>1</td>\n",
       "      <td>1</td>\n",
       "      <td>...</td>\n",
       "      <td>No Deposit</td>\n",
       "      <td>304.0</td>\n",
       "      <td>178.0</td>\n",
       "      <td>0</td>\n",
       "      <td>Transient</td>\n",
       "      <td>75.00</td>\n",
       "      <td>0</td>\n",
       "      <td>0</td>\n",
       "      <td>Check-Out</td>\n",
       "      <td>7/2/2015</td>\n",
       "    </tr>\n",
       "    <tr>\n",
       "      <th>4</th>\n",
       "      <td>Resort Hotel</td>\n",
       "      <td>0</td>\n",
       "      <td>14</td>\n",
       "      <td>2015</td>\n",
       "      <td>July</td>\n",
       "      <td>27</td>\n",
       "      <td>1</td>\n",
       "      <td>0</td>\n",
       "      <td>2</td>\n",
       "      <td>2</td>\n",
       "      <td>...</td>\n",
       "      <td>No Deposit</td>\n",
       "      <td>240.0</td>\n",
       "      <td>178.0</td>\n",
       "      <td>0</td>\n",
       "      <td>Transient</td>\n",
       "      <td>98.00</td>\n",
       "      <td>0</td>\n",
       "      <td>1</td>\n",
       "      <td>Check-Out</td>\n",
       "      <td>7/3/2015</td>\n",
       "    </tr>\n",
       "    <tr>\n",
       "      <th>...</th>\n",
       "      <td>...</td>\n",
       "      <td>...</td>\n",
       "      <td>...</td>\n",
       "      <td>...</td>\n",
       "      <td>...</td>\n",
       "      <td>...</td>\n",
       "      <td>...</td>\n",
       "      <td>...</td>\n",
       "      <td>...</td>\n",
       "      <td>...</td>\n",
       "      <td>...</td>\n",
       "      <td>...</td>\n",
       "      <td>...</td>\n",
       "      <td>...</td>\n",
       "      <td>...</td>\n",
       "      <td>...</td>\n",
       "      <td>...</td>\n",
       "      <td>...</td>\n",
       "      <td>...</td>\n",
       "      <td>...</td>\n",
       "      <td>...</td>\n",
       "    </tr>\n",
       "    <tr>\n",
       "      <th>119385</th>\n",
       "      <td>City Hotel</td>\n",
       "      <td>0</td>\n",
       "      <td>23</td>\n",
       "      <td>2017</td>\n",
       "      <td>August</td>\n",
       "      <td>35</td>\n",
       "      <td>30</td>\n",
       "      <td>2</td>\n",
       "      <td>5</td>\n",
       "      <td>2</td>\n",
       "      <td>...</td>\n",
       "      <td>No Deposit</td>\n",
       "      <td>394.0</td>\n",
       "      <td>178.0</td>\n",
       "      <td>0</td>\n",
       "      <td>Transient</td>\n",
       "      <td>96.14</td>\n",
       "      <td>0</td>\n",
       "      <td>0</td>\n",
       "      <td>Check-Out</td>\n",
       "      <td>9/6/2017</td>\n",
       "    </tr>\n",
       "    <tr>\n",
       "      <th>119386</th>\n",
       "      <td>City Hotel</td>\n",
       "      <td>0</td>\n",
       "      <td>102</td>\n",
       "      <td>2017</td>\n",
       "      <td>August</td>\n",
       "      <td>35</td>\n",
       "      <td>31</td>\n",
       "      <td>2</td>\n",
       "      <td>5</td>\n",
       "      <td>3</td>\n",
       "      <td>...</td>\n",
       "      <td>No Deposit</td>\n",
       "      <td>9.0</td>\n",
       "      <td>178.0</td>\n",
       "      <td>0</td>\n",
       "      <td>Transient</td>\n",
       "      <td>225.43</td>\n",
       "      <td>0</td>\n",
       "      <td>2</td>\n",
       "      <td>Check-Out</td>\n",
       "      <td>9/7/2017</td>\n",
       "    </tr>\n",
       "    <tr>\n",
       "      <th>119387</th>\n",
       "      <td>City Hotel</td>\n",
       "      <td>0</td>\n",
       "      <td>34</td>\n",
       "      <td>2017</td>\n",
       "      <td>August</td>\n",
       "      <td>35</td>\n",
       "      <td>31</td>\n",
       "      <td>2</td>\n",
       "      <td>5</td>\n",
       "      <td>2</td>\n",
       "      <td>...</td>\n",
       "      <td>No Deposit</td>\n",
       "      <td>9.0</td>\n",
       "      <td>178.0</td>\n",
       "      <td>0</td>\n",
       "      <td>Transient</td>\n",
       "      <td>157.71</td>\n",
       "      <td>0</td>\n",
       "      <td>4</td>\n",
       "      <td>Check-Out</td>\n",
       "      <td>9/7/2017</td>\n",
       "    </tr>\n",
       "    <tr>\n",
       "      <th>119388</th>\n",
       "      <td>City Hotel</td>\n",
       "      <td>0</td>\n",
       "      <td>109</td>\n",
       "      <td>2017</td>\n",
       "      <td>August</td>\n",
       "      <td>35</td>\n",
       "      <td>31</td>\n",
       "      <td>2</td>\n",
       "      <td>5</td>\n",
       "      <td>2</td>\n",
       "      <td>...</td>\n",
       "      <td>No Deposit</td>\n",
       "      <td>89.0</td>\n",
       "      <td>178.0</td>\n",
       "      <td>0</td>\n",
       "      <td>Transient</td>\n",
       "      <td>104.40</td>\n",
       "      <td>0</td>\n",
       "      <td>0</td>\n",
       "      <td>Check-Out</td>\n",
       "      <td>9/7/2017</td>\n",
       "    </tr>\n",
       "    <tr>\n",
       "      <th>119389</th>\n",
       "      <td>City Hotel</td>\n",
       "      <td>0</td>\n",
       "      <td>205</td>\n",
       "      <td>2017</td>\n",
       "      <td>August</td>\n",
       "      <td>35</td>\n",
       "      <td>29</td>\n",
       "      <td>2</td>\n",
       "      <td>7</td>\n",
       "      <td>2</td>\n",
       "      <td>...</td>\n",
       "      <td>No Deposit</td>\n",
       "      <td>9.0</td>\n",
       "      <td>178.0</td>\n",
       "      <td>0</td>\n",
       "      <td>Transient</td>\n",
       "      <td>151.20</td>\n",
       "      <td>0</td>\n",
       "      <td>2</td>\n",
       "      <td>Check-Out</td>\n",
       "      <td>9/7/2017</td>\n",
       "    </tr>\n",
       "  </tbody>\n",
       "</table>\n",
       "<p>75011 rows × 32 columns</p>\n",
       "</div>"
      ],
      "text/plain": [
       "               hotel  is_canceled  lead_time  arrival_date_year  \\\n",
       "0       Resort Hotel            0        342               2015   \n",
       "1       Resort Hotel            0        737               2015   \n",
       "2       Resort Hotel            0          7               2015   \n",
       "3       Resort Hotel            0         13               2015   \n",
       "4       Resort Hotel            0         14               2015   \n",
       "...              ...          ...        ...                ...   \n",
       "119385    City Hotel            0         23               2017   \n",
       "119386    City Hotel            0        102               2017   \n",
       "119387    City Hotel            0         34               2017   \n",
       "119388    City Hotel            0        109               2017   \n",
       "119389    City Hotel            0        205               2017   \n",
       "\n",
       "       arrival_date_month  arrival_date_week_number  \\\n",
       "0                    July                        27   \n",
       "1                    July                        27   \n",
       "2                    July                        27   \n",
       "3                    July                        27   \n",
       "4                    July                        27   \n",
       "...                   ...                       ...   \n",
       "119385             August                        35   \n",
       "119386             August                        35   \n",
       "119387             August                        35   \n",
       "119388             August                        35   \n",
       "119389             August                        35   \n",
       "\n",
       "        arrival_date_day_of_month  stays_in_weekend_nights  \\\n",
       "0                               1                        0   \n",
       "1                               1                        0   \n",
       "2                               1                        0   \n",
       "3                               1                        0   \n",
       "4                               1                        0   \n",
       "...                           ...                      ...   \n",
       "119385                         30                        2   \n",
       "119386                         31                        2   \n",
       "119387                         31                        2   \n",
       "119388                         31                        2   \n",
       "119389                         29                        2   \n",
       "\n",
       "        stays_in_week_nights  adults  ...  deposit_type  agent company  \\\n",
       "0                          0       2  ...    No Deposit   14.0   178.0   \n",
       "1                          0       2  ...    No Deposit   14.0   178.0   \n",
       "2                          1       1  ...    No Deposit   14.0   178.0   \n",
       "3                          1       1  ...    No Deposit  304.0   178.0   \n",
       "4                          2       2  ...    No Deposit  240.0   178.0   \n",
       "...                      ...     ...  ...           ...    ...     ...   \n",
       "119385                     5       2  ...    No Deposit  394.0   178.0   \n",
       "119386                     5       3  ...    No Deposit    9.0   178.0   \n",
       "119387                     5       2  ...    No Deposit    9.0   178.0   \n",
       "119388                     5       2  ...    No Deposit   89.0   178.0   \n",
       "119389                     7       2  ...    No Deposit    9.0   178.0   \n",
       "\n",
       "       days_in_waiting_list customer_type     adr  \\\n",
       "0                         0     Transient    0.00   \n",
       "1                         0     Transient    0.00   \n",
       "2                         0     Transient   75.00   \n",
       "3                         0     Transient   75.00   \n",
       "4                         0     Transient   98.00   \n",
       "...                     ...           ...     ...   \n",
       "119385                    0     Transient   96.14   \n",
       "119386                    0     Transient  225.43   \n",
       "119387                    0     Transient  157.71   \n",
       "119388                    0     Transient  104.40   \n",
       "119389                    0     Transient  151.20   \n",
       "\n",
       "        required_car_parking_spaces  total_of_special_requests  \\\n",
       "0                                 0                          0   \n",
       "1                                 0                          0   \n",
       "2                                 0                          0   \n",
       "3                                 0                          0   \n",
       "4                                 0                          1   \n",
       "...                             ...                        ...   \n",
       "119385                            0                          0   \n",
       "119386                            0                          2   \n",
       "119387                            0                          4   \n",
       "119388                            0                          0   \n",
       "119389                            0                          2   \n",
       "\n",
       "        reservation_status reservation_status_date  \n",
       "0                Check-Out                7/1/2015  \n",
       "1                Check-Out                7/1/2015  \n",
       "2                Check-Out                7/2/2015  \n",
       "3                Check-Out                7/2/2015  \n",
       "4                Check-Out                7/3/2015  \n",
       "...                    ...                     ...  \n",
       "119385           Check-Out                9/6/2017  \n",
       "119386           Check-Out                9/7/2017  \n",
       "119387           Check-Out                9/7/2017  \n",
       "119388           Check-Out                9/7/2017  \n",
       "119389           Check-Out                9/7/2017  \n",
       "\n",
       "[75011 rows x 32 columns]"
      ]
     },
     "execution_count": 29,
     "metadata": {},
     "output_type": "execute_result"
    }
   ],
   "source": [
    "filter_condition = final_data['is_canceled'] == 0\n",
    "\n",
    "clean_data = final_data[filter_condition]\n",
    "clean_data"
   ]
  },
  {
   "cell_type": "code",
   "execution_count": 30,
   "id": "0b5815f1",
   "metadata": {},
   "outputs": [
    {
     "name": "stderr",
     "output_type": "stream",
     "text": [
      "C:\\Users\\aishw\\AppData\\Local\\Temp\\ipykernel_23100\\2797426689.py:1: SettingWithCopyWarning: \n",
      "A value is trying to be set on a copy of a slice from a DataFrame.\n",
      "Try using .loc[row_indexer,col_indexer] = value instead\n",
      "\n",
      "See the caveats in the documentation: https://pandas.pydata.org/pandas-docs/stable/user_guide/indexing.html#returning-a-view-versus-a-copy\n",
      "  clean_data[\"total_nights\"] = clean_data[\"stays_in_weekend_nights\"] + clean_data[\"stays_in_week_nights\"]\n"
     ]
    }
   ],
   "source": [
    "clean_data[\"total_nights\"] = clean_data[\"stays_in_weekend_nights\"] + clean_data[\"stays_in_week_nights\"]\n"
   ]
  },
  {
   "cell_type": "code",
   "execution_count": 31,
   "id": "9a732897",
   "metadata": {},
   "outputs": [
    {
     "name": "stdout",
     "output_type": "stream",
     "text": [
      "    total_nights         hotel  is_canceled\n",
      "0              0    City Hotel          251\n",
      "1              0  Resort Hotel          371\n",
      "2              1    City Hotel         9155\n",
      "3              1  Resort Hotel         6579\n",
      "4              2    City Hotel        10983\n",
      "..           ...           ...          ...\n",
      "57            46  Resort Hotel            1\n",
      "58            48    City Hotel            1\n",
      "59            56  Resort Hotel            1\n",
      "60            60  Resort Hotel            1\n",
      "61            69  Resort Hotel            1\n",
      "\n",
      "[62 rows x 3 columns]\n"
     ]
    }
   ],
   "source": [
    "stay = clean_data.groupby(['total_nights', \"hotel\"]).agg('count').reset_index()\n",
    "\n",
    "stay = stay.iloc[:, 0:3]\n",
    "print(stay)"
   ]
  },
  {
   "cell_type": "code",
   "execution_count": 32,
   "id": "b65f8ff0",
   "metadata": {},
   "outputs": [],
   "source": [
    "stay = stay.rename(columns = {'is_canceled': 'Number of stays'})"
   ]
  },
  {
   "cell_type": "code",
   "execution_count": 33,
   "id": "857e45af",
   "metadata": {
    "scrolled": true
   },
   "outputs": [
    {
     "name": "stdout",
     "output_type": "stream",
     "text": [
      "    total_nights         hotel  Number of stays\n",
      "0              0    City Hotel              251\n",
      "1              0  Resort Hotel              371\n",
      "2              1    City Hotel             9155\n",
      "3              1  Resort Hotel             6579\n",
      "4              2    City Hotel            10983\n",
      "..           ...           ...              ...\n",
      "57            46  Resort Hotel                1\n",
      "58            48    City Hotel                1\n",
      "59            56  Resort Hotel                1\n",
      "60            60  Resort Hotel                1\n",
      "61            69  Resort Hotel                1\n",
      "\n",
      "[62 rows x 3 columns]\n"
     ]
    }
   ],
   "source": [
    "print(stay)"
   ]
  },
  {
   "cell_type": "code",
   "execution_count": 34,
   "id": "0fc07a53",
   "metadata": {},
   "outputs": [
    {
     "name": "stdout",
     "output_type": "stream",
     "text": [
      "['City Hotel' 'Resort Hotel']\n"
     ]
    }
   ],
   "source": [
    "print(stay['hotel'].unique())"
   ]
  },
  {
   "cell_type": "code",
   "execution_count": 35,
   "id": "b5e0019b",
   "metadata": {
    "scrolled": true
   },
   "outputs": [
    {
     "data": {
      "image/png": "[encoded data removed]",
      "text/plain": [
       "<Figure size 640x480 with 1 Axes>"
      ]
     },
     "metadata": {},
     "output_type": "display_data"
    }
   ],
   "source": [
    "#plot the barplot\n",
    "\n",
    "sns.barplot(x = \"total_nights\", y = \"Number of stays\",hue = \"hotel\", data = stay)\n",
    "plt.show()"
   ]
  },
  {
   "cell_type": "markdown",
   "id": "957fb440",
   "metadata": {},
   "source": [
    "## Select important Numerical Features using co-relation"
   ]
  },
  {
   "cell_type": "code",
   "execution_count": 37,
   "id": "c70f56d1",
   "metadata": {
    "scrolled": true
   },
   "outputs": [
    {
     "name": "stderr",
     "output_type": "stream",
     "text": [
      "C:\\Users\\aishw\\AppData\\Local\\Temp\\ipykernel_23100\\3741488391.py:1: FutureWarning: The default value of numeric_only in DataFrame.corr is deprecated. In a future version, it will default to False. Select only valid columns or specify the value of numeric_only to silence this warning.\n",
      "  correlation = final_data.corr()\n"
     ]
    },
    {
     "data": {
      "text/html": [
       "<div>\n",
       "<style scoped>\n",
       "    .dataframe tbody tr th:only-of-type {\n",
       "        vertical-align: middle;\n",
       "    }\n",
       "\n",
       "    .dataframe tbody tr th {\n",
       "        vertical-align: top;\n",
       "    }\n",
       "\n",
       "    .dataframe thead th {\n",
       "        text-align: right;\n",
       "    }\n",
       "</style>\n",
       "<table border=\"1\" class=\"dataframe\">\n",
       "  <thead>\n",
       "    <tr style=\"text-align: right;\">\n",
       "      <th></th>\n",
       "      <th>is_canceled</th>\n",
       "      <th>lead_time</th>\n",
       "      <th>arrival_date_year</th>\n",
       "      <th>arrival_date_week_number</th>\n",
       "      <th>arrival_date_day_of_month</th>\n",
       "      <th>stays_in_weekend_nights</th>\n",
       "      <th>stays_in_week_nights</th>\n",
       "      <th>adults</th>\n",
       "      <th>children</th>\n",
       "      <th>babies</th>\n",
       "      <th>is_repeated_guest</th>\n",
       "      <th>previous_cancellations</th>\n",
       "      <th>previous_bookings_not_canceled</th>\n",
       "      <th>booking_changes</th>\n",
       "      <th>agent</th>\n",
       "      <th>company</th>\n",
       "      <th>days_in_waiting_list</th>\n",
       "      <th>adr</th>\n",
       "      <th>required_car_parking_spaces</th>\n",
       "      <th>total_of_special_requests</th>\n",
       "    </tr>\n",
       "  </thead>\n",
       "  <tbody>\n",
       "    <tr>\n",
       "      <th>is_canceled</th>\n",
       "      <td>1.000000</td>\n",
       "      <td>0.292876</td>\n",
       "      <td>0.016622</td>\n",
       "      <td>0.008315</td>\n",
       "      <td>-0.005948</td>\n",
       "      <td>-0.001323</td>\n",
       "      <td>0.025542</td>\n",
       "      <td>0.058182</td>\n",
       "      <td>0.004851</td>\n",
       "      <td>-0.032569</td>\n",
       "      <td>-0.083745</td>\n",
       "      <td>0.110139</td>\n",
       "      <td>-0.057365</td>\n",
       "      <td>-0.144832</td>\n",
       "      <td>-0.051954</td>\n",
       "      <td>-0.012508</td>\n",
       "      <td>0.054301</td>\n",
       "      <td>0.046492</td>\n",
       "      <td>-0.195701</td>\n",
       "      <td>-0.234877</td>\n",
       "    </tr>\n",
       "    <tr>\n",
       "      <th>lead_time</th>\n",
       "      <td>0.292876</td>\n",
       "      <td>1.000000</td>\n",
       "      <td>0.040334</td>\n",
       "      <td>0.127046</td>\n",
       "      <td>0.002306</td>\n",
       "      <td>0.085985</td>\n",
       "      <td>0.166892</td>\n",
       "      <td>0.117575</td>\n",
       "      <td>-0.037878</td>\n",
       "      <td>-0.021003</td>\n",
       "      <td>-0.123209</td>\n",
       "      <td>0.086025</td>\n",
       "      <td>-0.073599</td>\n",
       "      <td>0.002230</td>\n",
       "      <td>-0.021416</td>\n",
       "      <td>0.018010</td>\n",
       "      <td>0.170008</td>\n",
       "      <td>-0.065018</td>\n",
       "      <td>-0.116624</td>\n",
       "      <td>-0.095949</td>\n",
       "    </tr>\n",
       "    <tr>\n",
       "      <th>arrival_date_year</th>\n",
       "      <td>0.016622</td>\n",
       "      <td>0.040334</td>\n",
       "      <td>1.000000</td>\n",
       "      <td>-0.540373</td>\n",
       "      <td>-0.000121</td>\n",
       "      <td>0.021694</td>\n",
       "      <td>0.031203</td>\n",
       "      <td>0.030266</td>\n",
       "      <td>0.054710</td>\n",
       "      <td>-0.013192</td>\n",
       "      <td>0.010281</td>\n",
       "      <td>-0.119905</td>\n",
       "      <td>0.029234</td>\n",
       "      <td>0.031416</td>\n",
       "      <td>0.057106</td>\n",
       "      <td>0.061596</td>\n",
       "      <td>-0.056348</td>\n",
       "      <td>0.198429</td>\n",
       "      <td>-0.013812</td>\n",
       "      <td>0.108610</td>\n",
       "    </tr>\n",
       "    <tr>\n",
       "      <th>arrival_date_week_number</th>\n",
       "      <td>0.008315</td>\n",
       "      <td>0.127046</td>\n",
       "      <td>-0.540373</td>\n",
       "      <td>1.000000</td>\n",
       "      <td>0.066572</td>\n",
       "      <td>0.018629</td>\n",
       "      <td>0.016047</td>\n",
       "      <td>0.026567</td>\n",
       "      <td>0.005556</td>\n",
       "      <td>0.010417</td>\n",
       "      <td>-0.031125</td>\n",
       "      <td>0.035493</td>\n",
       "      <td>-0.021009</td>\n",
       "      <td>0.006311</td>\n",
       "      <td>-0.019901</td>\n",
       "      <td>-0.022909</td>\n",
       "      <td>0.022677</td>\n",
       "      <td>0.076281</td>\n",
       "      <td>0.001980</td>\n",
       "      <td>0.026202</td>\n",
       "    </tr>\n",
       "    <tr>\n",
       "      <th>arrival_date_day_of_month</th>\n",
       "      <td>-0.005948</td>\n",
       "      <td>0.002306</td>\n",
       "      <td>-0.000121</td>\n",
       "      <td>0.066572</td>\n",
       "      <td>1.000000</td>\n",
       "      <td>-0.016225</td>\n",
       "      <td>-0.028362</td>\n",
       "      <td>-0.001754</td>\n",
       "      <td>0.014550</td>\n",
       "      <td>-0.000235</td>\n",
       "      <td>-0.006471</td>\n",
       "      <td>-0.027027</td>\n",
       "      <td>-0.000306</td>\n",
       "      <td>0.011266</td>\n",
       "      <td>0.000338</td>\n",
       "      <td>0.009982</td>\n",
       "      <td>0.022532</td>\n",
       "      <td>0.030291</td>\n",
       "      <td>0.008569</td>\n",
       "      <td>0.003026</td>\n",
       "    </tr>\n",
       "    <tr>\n",
       "      <th>stays_in_weekend_nights</th>\n",
       "      <td>-0.001323</td>\n",
       "      <td>0.085985</td>\n",
       "      <td>0.021694</td>\n",
       "      <td>0.018629</td>\n",
       "      <td>-0.016225</td>\n",
       "      <td>1.000000</td>\n",
       "      <td>0.494175</td>\n",
       "      <td>0.094759</td>\n",
       "      <td>0.046135</td>\n",
       "      <td>0.018607</td>\n",
       "      <td>-0.086009</td>\n",
       "      <td>-0.012769</td>\n",
       "      <td>-0.042859</td>\n",
       "      <td>0.050191</td>\n",
       "      <td>0.158526</td>\n",
       "      <td>0.003923</td>\n",
       "      <td>-0.054399</td>\n",
       "      <td>0.050670</td>\n",
       "      <td>-0.018520</td>\n",
       "      <td>0.073124</td>\n",
       "    </tr>\n",
       "    <tr>\n",
       "      <th>stays_in_week_nights</th>\n",
       "      <td>0.025542</td>\n",
       "      <td>0.166892</td>\n",
       "      <td>0.031203</td>\n",
       "      <td>0.016047</td>\n",
       "      <td>-0.028362</td>\n",
       "      <td>0.494175</td>\n",
       "      <td>1.000000</td>\n",
       "      <td>0.096214</td>\n",
       "      <td>0.044652</td>\n",
       "      <td>0.020373</td>\n",
       "      <td>-0.095302</td>\n",
       "      <td>-0.013976</td>\n",
       "      <td>-0.048873</td>\n",
       "      <td>0.080018</td>\n",
       "      <td>0.193685</td>\n",
       "      <td>0.032162</td>\n",
       "      <td>-0.002026</td>\n",
       "      <td>0.066847</td>\n",
       "      <td>-0.024933</td>\n",
       "      <td>0.068738</td>\n",
       "    </tr>\n",
       "    <tr>\n",
       "      <th>adults</th>\n",
       "      <td>0.058182</td>\n",
       "      <td>0.117575</td>\n",
       "      <td>0.030266</td>\n",
       "      <td>0.026567</td>\n",
       "      <td>-0.001754</td>\n",
       "      <td>0.094759</td>\n",
       "      <td>0.096214</td>\n",
       "      <td>1.000000</td>\n",
       "      <td>0.029409</td>\n",
       "      <td>0.017890</td>\n",
       "      <td>-0.140973</td>\n",
       "      <td>-0.007070</td>\n",
       "      <td>-0.108856</td>\n",
       "      <td>-0.041472</td>\n",
       "      <td>0.015216</td>\n",
       "      <td>0.023700</td>\n",
       "      <td>-0.008365</td>\n",
       "      <td>0.224253</td>\n",
       "      <td>0.014438</td>\n",
       "      <td>0.123353</td>\n",
       "    </tr>\n",
       "    <tr>\n",
       "      <th>children</th>\n",
       "      <td>0.004851</td>\n",
       "      <td>-0.037878</td>\n",
       "      <td>0.054710</td>\n",
       "      <td>0.005556</td>\n",
       "      <td>0.014550</td>\n",
       "      <td>0.046135</td>\n",
       "      <td>0.044652</td>\n",
       "      <td>0.029409</td>\n",
       "      <td>1.000000</td>\n",
       "      <td>0.023999</td>\n",
       "      <td>-0.032475</td>\n",
       "      <td>-0.024755</td>\n",
       "      <td>-0.021078</td>\n",
       "      <td>0.051000</td>\n",
       "      <td>0.048982</td>\n",
       "      <td>-0.001510</td>\n",
       "      <td>-0.033293</td>\n",
       "      <td>0.325057</td>\n",
       "      <td>0.056247</td>\n",
       "      <td>0.081747</td>\n",
       "    </tr>\n",
       "    <tr>\n",
       "      <th>babies</th>\n",
       "      <td>-0.032569</td>\n",
       "      <td>-0.021003</td>\n",
       "      <td>-0.013192</td>\n",
       "      <td>0.010417</td>\n",
       "      <td>-0.000235</td>\n",
       "      <td>0.018607</td>\n",
       "      <td>0.020373</td>\n",
       "      <td>0.017890</td>\n",
       "      <td>0.023999</td>\n",
       "      <td>1.000000</td>\n",
       "      <td>-0.008813</td>\n",
       "      <td>-0.007509</td>\n",
       "      <td>-0.006552</td>\n",
       "      <td>0.085605</td>\n",
       "      <td>0.030899</td>\n",
       "      <td>0.001336</td>\n",
       "      <td>-0.010627</td>\n",
       "      <td>0.029043</td>\n",
       "      <td>0.037389</td>\n",
       "      <td>0.097939</td>\n",
       "    </tr>\n",
       "    <tr>\n",
       "      <th>is_repeated_guest</th>\n",
       "      <td>-0.083745</td>\n",
       "      <td>-0.123209</td>\n",
       "      <td>0.010281</td>\n",
       "      <td>-0.031125</td>\n",
       "      <td>-0.006471</td>\n",
       "      <td>-0.086009</td>\n",
       "      <td>-0.095302</td>\n",
       "      <td>-0.140973</td>\n",
       "      <td>-0.032475</td>\n",
       "      <td>-0.008813</td>\n",
       "      <td>1.000000</td>\n",
       "      <td>0.082740</td>\n",
       "      <td>0.420642</td>\n",
       "      <td>0.013044</td>\n",
       "      <td>-0.040506</td>\n",
       "      <td>-0.118098</td>\n",
       "      <td>-0.022057</td>\n",
       "      <td>-0.130807</td>\n",
       "      <td>0.077928</td>\n",
       "      <td>0.012963</td>\n",
       "    </tr>\n",
       "    <tr>\n",
       "      <th>previous_cancellations</th>\n",
       "      <td>0.110139</td>\n",
       "      <td>0.086025</td>\n",
       "      <td>-0.119905</td>\n",
       "      <td>0.035493</td>\n",
       "      <td>-0.027027</td>\n",
       "      <td>-0.012769</td>\n",
       "      <td>-0.013976</td>\n",
       "      <td>-0.007070</td>\n",
       "      <td>-0.024755</td>\n",
       "      <td>-0.007509</td>\n",
       "      <td>0.082740</td>\n",
       "      <td>1.000000</td>\n",
       "      <td>0.152570</td>\n",
       "      <td>-0.027261</td>\n",
       "      <td>-0.017120</td>\n",
       "      <td>-0.029816</td>\n",
       "      <td>0.005941</td>\n",
       "      <td>-0.065974</td>\n",
       "      <td>-0.018540</td>\n",
       "      <td>-0.048488</td>\n",
       "    </tr>\n",
       "    <tr>\n",
       "      <th>previous_bookings_not_canceled</th>\n",
       "      <td>-0.057365</td>\n",
       "      <td>-0.073599</td>\n",
       "      <td>0.029234</td>\n",
       "      <td>-0.021009</td>\n",
       "      <td>-0.000306</td>\n",
       "      <td>-0.042859</td>\n",
       "      <td>-0.048873</td>\n",
       "      <td>-0.108856</td>\n",
       "      <td>-0.021078</td>\n",
       "      <td>-0.006552</td>\n",
       "      <td>0.420642</td>\n",
       "      <td>0.152570</td>\n",
       "      <td>1.000000</td>\n",
       "      <td>0.011963</td>\n",
       "      <td>-0.038331</td>\n",
       "      <td>-0.164544</td>\n",
       "      <td>-0.009416</td>\n",
       "      <td>-0.072335</td>\n",
       "      <td>0.047506</td>\n",
       "      <td>0.037775</td>\n",
       "    </tr>\n",
       "    <tr>\n",
       "      <th>booking_changes</th>\n",
       "      <td>-0.144832</td>\n",
       "      <td>0.002230</td>\n",
       "      <td>0.031416</td>\n",
       "      <td>0.006311</td>\n",
       "      <td>0.011266</td>\n",
       "      <td>0.050191</td>\n",
       "      <td>0.080018</td>\n",
       "      <td>-0.041472</td>\n",
       "      <td>0.051000</td>\n",
       "      <td>0.085605</td>\n",
       "      <td>0.013044</td>\n",
       "      <td>-0.027261</td>\n",
       "      <td>0.011963</td>\n",
       "      <td>1.000000</td>\n",
       "      <td>0.042321</td>\n",
       "      <td>0.049300</td>\n",
       "      <td>-0.011916</td>\n",
       "      <td>0.026601</td>\n",
       "      <td>0.067490</td>\n",
       "      <td>0.055003</td>\n",
       "    </tr>\n",
       "    <tr>\n",
       "      <th>agent</th>\n",
       "      <td>-0.051954</td>\n",
       "      <td>-0.021416</td>\n",
       "      <td>0.057106</td>\n",
       "      <td>-0.019901</td>\n",
       "      <td>0.000338</td>\n",
       "      <td>0.158526</td>\n",
       "      <td>0.193685</td>\n",
       "      <td>0.015216</td>\n",
       "      <td>0.048982</td>\n",
       "      <td>0.030899</td>\n",
       "      <td>-0.040506</td>\n",
       "      <td>-0.017120</td>\n",
       "      <td>-0.038331</td>\n",
       "      <td>0.042321</td>\n",
       "      <td>1.000000</td>\n",
       "      <td>-0.000998</td>\n",
       "      <td>-0.043565</td>\n",
       "      <td>0.009664</td>\n",
       "      <td>0.125000</td>\n",
       "      <td>0.056616</td>\n",
       "    </tr>\n",
       "    <tr>\n",
       "      <th>company</th>\n",
       "      <td>-0.012508</td>\n",
       "      <td>0.018010</td>\n",
       "      <td>0.061596</td>\n",
       "      <td>-0.022909</td>\n",
       "      <td>0.009982</td>\n",
       "      <td>0.003923</td>\n",
       "      <td>0.032162</td>\n",
       "      <td>0.023700</td>\n",
       "      <td>-0.001510</td>\n",
       "      <td>0.001336</td>\n",
       "      <td>-0.118098</td>\n",
       "      <td>-0.029816</td>\n",
       "      <td>-0.164544</td>\n",
       "      <td>0.049300</td>\n",
       "      <td>-0.000998</td>\n",
       "      <td>1.000000</td>\n",
       "      <td>-0.002280</td>\n",
       "      <td>0.000750</td>\n",
       "      <td>0.000411</td>\n",
       "      <td>-0.025455</td>\n",
       "    </tr>\n",
       "    <tr>\n",
       "      <th>days_in_waiting_list</th>\n",
       "      <td>0.054301</td>\n",
       "      <td>0.170008</td>\n",
       "      <td>-0.056348</td>\n",
       "      <td>0.022677</td>\n",
       "      <td>0.022532</td>\n",
       "      <td>-0.054399</td>\n",
       "      <td>-0.002026</td>\n",
       "      <td>-0.008365</td>\n",
       "      <td>-0.033293</td>\n",
       "      <td>-0.010627</td>\n",
       "      <td>-0.022057</td>\n",
       "      <td>0.005941</td>\n",
       "      <td>-0.009416</td>\n",
       "      <td>-0.011916</td>\n",
       "      <td>-0.043565</td>\n",
       "      <td>-0.002280</td>\n",
       "      <td>1.000000</td>\n",
       "      <td>-0.040859</td>\n",
       "      <td>-0.030601</td>\n",
       "      <td>-0.082755</td>\n",
       "    </tr>\n",
       "    <tr>\n",
       "      <th>adr</th>\n",
       "      <td>0.046492</td>\n",
       "      <td>-0.065018</td>\n",
       "      <td>0.198429</td>\n",
       "      <td>0.076281</td>\n",
       "      <td>0.030291</td>\n",
       "      <td>0.050670</td>\n",
       "      <td>0.066847</td>\n",
       "      <td>0.224253</td>\n",
       "      <td>0.325057</td>\n",
       "      <td>0.029043</td>\n",
       "      <td>-0.130807</td>\n",
       "      <td>-0.065974</td>\n",
       "      <td>-0.072335</td>\n",
       "      <td>0.026601</td>\n",
       "      <td>0.009664</td>\n",
       "      <td>0.000750</td>\n",
       "      <td>-0.040859</td>\n",
       "      <td>1.000000</td>\n",
       "      <td>0.056510</td>\n",
       "      <td>0.172308</td>\n",
       "    </tr>\n",
       "    <tr>\n",
       "      <th>required_car_parking_spaces</th>\n",
       "      <td>-0.195701</td>\n",
       "      <td>-0.116624</td>\n",
       "      <td>-0.013812</td>\n",
       "      <td>0.001980</td>\n",
       "      <td>0.008569</td>\n",
       "      <td>-0.018520</td>\n",
       "      <td>-0.024933</td>\n",
       "      <td>0.014438</td>\n",
       "      <td>0.056247</td>\n",
       "      <td>0.037389</td>\n",
       "      <td>0.077928</td>\n",
       "      <td>-0.018540</td>\n",
       "      <td>0.047506</td>\n",
       "      <td>0.067490</td>\n",
       "      <td>0.125000</td>\n",
       "      <td>0.000411</td>\n",
       "      <td>-0.030601</td>\n",
       "      <td>0.056510</td>\n",
       "      <td>1.000000</td>\n",
       "      <td>0.082718</td>\n",
       "    </tr>\n",
       "    <tr>\n",
       "      <th>total_of_special_requests</th>\n",
       "      <td>-0.234877</td>\n",
       "      <td>-0.095949</td>\n",
       "      <td>0.108610</td>\n",
       "      <td>0.026202</td>\n",
       "      <td>0.003026</td>\n",
       "      <td>0.073124</td>\n",
       "      <td>0.068738</td>\n",
       "      <td>0.123353</td>\n",
       "      <td>0.081747</td>\n",
       "      <td>0.097939</td>\n",
       "      <td>0.012963</td>\n",
       "      <td>-0.048488</td>\n",
       "      <td>0.037775</td>\n",
       "      <td>0.055003</td>\n",
       "      <td>0.056616</td>\n",
       "      <td>-0.025455</td>\n",
       "      <td>-0.082755</td>\n",
       "      <td>0.172308</td>\n",
       "      <td>0.082718</td>\n",
       "      <td>1.000000</td>\n",
       "    </tr>\n",
       "  </tbody>\n",
       "</table>\n",
       "</div>"
      ],
      "text/plain": [
       "                                is_canceled  lead_time  arrival_date_year  \\\n",
       "is_canceled                        1.000000   0.292876           0.016622   \n",
       "lead_time                          0.292876   1.000000           0.040334   \n",
       "arrival_date_year                  0.016622   0.040334           1.000000   \n",
       "arrival_date_week_number           0.008315   0.127046          -0.540373   \n",
       "arrival_date_day_of_month         -0.005948   0.002306          -0.000121   \n",
       "stays_in_weekend_nights           -0.001323   0.085985           0.021694   \n",
       "stays_in_week_nights               0.025542   0.166892           0.031203   \n",
       "adults                             0.058182   0.117575           0.030266   \n",
       "children                           0.004851  -0.037878           0.054710   \n",
       "babies                            -0.032569  -0.021003          -0.013192   \n",
       "is_repeated_guest                 -0.083745  -0.123209           0.010281   \n",
       "previous_cancellations             0.110139   0.086025          -0.119905   \n",
       "previous_bookings_not_canceled    -0.057365  -0.073599           0.029234   \n",
       "booking_changes                   -0.144832   0.002230           0.031416   \n",
       "agent                             -0.051954  -0.021416           0.057106   \n",
       "company                           -0.012508   0.018010           0.061596   \n",
       "days_in_waiting_list               0.054301   0.170008          -0.056348   \n",
       "adr                                0.046492  -0.065018           0.198429   \n",
       "required_car_parking_spaces       -0.195701  -0.116624          -0.013812   \n",
       "total_of_special_requests         -0.234877  -0.095949           0.108610   \n",
       "\n",
       "                                arrival_date_week_number  \\\n",
       "is_canceled                                     0.008315   \n",
       "lead_time                                       0.127046   \n",
       "arrival_date_year                              -0.540373   \n",
       "arrival_date_week_number                        1.000000   \n",
       "arrival_date_day_of_month                       0.066572   \n",
       "stays_in_weekend_nights                         0.018629   \n",
       "stays_in_week_nights                            0.016047   \n",
       "adults                                          0.026567   \n",
       "children                                        0.005556   \n",
       "babies                                          0.010417   \n",
       "is_repeated_guest                              -0.031125   \n",
       "previous_cancellations                          0.035493   \n",
       "previous_bookings_not_canceled                 -0.021009   \n",
       "booking_changes                                 0.006311   \n",
       "agent                                          -0.019901   \n",
       "company                                        -0.022909   \n",
       "days_in_waiting_list                            0.022677   \n",
       "adr                                             0.076281   \n",
       "required_car_parking_spaces                     0.001980   \n",
       "total_of_special_requests                       0.026202   \n",
       "\n",
       "                                arrival_date_day_of_month  \\\n",
       "is_canceled                                     -0.005948   \n",
       "lead_time                                        0.002306   \n",
       "arrival_date_year                               -0.000121   \n",
       "arrival_date_week_number                         0.066572   \n",
       "arrival_date_day_of_month                        1.000000   \n",
       "stays_in_weekend_nights                         -0.016225   \n",
       "stays_in_week_nights                            -0.028362   \n",
       "adults                                          -0.001754   \n",
       "children                                         0.014550   \n",
       "babies                                          -0.000235   \n",
       "is_repeated_guest                               -0.006471   \n",
       "previous_cancellations                          -0.027027   \n",
       "previous_bookings_not_canceled                  -0.000306   \n",
       "booking_changes                                  0.011266   \n",
       "agent                                            0.000338   \n",
       "company                                          0.009982   \n",
       "days_in_waiting_list                             0.022532   \n",
       "adr                                              0.030291   \n",
       "required_car_parking_spaces                      0.008569   \n",
       "total_of_special_requests                        0.003026   \n",
       "\n",
       "                                stays_in_weekend_nights  stays_in_week_nights  \\\n",
       "is_canceled                                   -0.001323              0.025542   \n",
       "lead_time                                      0.085985              0.166892   \n",
       "arrival_date_year                              0.021694              0.031203   \n",
       "arrival_date_week_number                       0.018629              0.016047   \n",
       "arrival_date_day_of_month                     -0.016225             -0.028362   \n",
       "stays_in_weekend_nights                        1.000000              0.494175   \n",
       "stays_in_week_nights                           0.494175              1.000000   \n",
       "adults                                         0.094759              0.096214   \n",
       "children                                       0.046135              0.044652   \n",
       "babies                                         0.018607              0.020373   \n",
       "is_repeated_guest                             -0.086009             -0.095302   \n",
       "previous_cancellations                        -0.012769             -0.013976   \n",
       "previous_bookings_not_canceled                -0.042859             -0.048873   \n",
       "booking_changes                                0.050191              0.080018   \n",
       "agent                                          0.158526              0.193685   \n",
       "company                                        0.003923              0.032162   \n",
       "days_in_waiting_list                          -0.054399             -0.002026   \n",
       "adr                                            0.050670              0.066847   \n",
       "required_car_parking_spaces                   -0.018520             -0.024933   \n",
       "total_of_special_requests                      0.073124              0.068738   \n",
       "\n",
       "                                  adults  children    babies  \\\n",
       "is_canceled                     0.058182  0.004851 -0.032569   \n",
       "lead_time                       0.117575 -0.037878 -0.021003   \n",
       "arrival_date_year               0.030266  0.054710 -0.013192   \n",
       "arrival_date_week_number        0.026567  0.005556  0.010417   \n",
       "arrival_date_day_of_month      -0.001754  0.014550 -0.000235   \n",
       "stays_in_weekend_nights         0.094759  0.046135  0.018607   \n",
       "stays_in_week_nights            0.096214  0.044652  0.020373   \n",
       "adults                          1.000000  0.029409  0.017890   \n",
       "children                        0.029409  1.000000  0.023999   \n",
       "babies                          0.017890  0.023999  1.000000   \n",
       "is_repeated_guest              -0.140973 -0.032475 -0.008813   \n",
       "previous_cancellations         -0.007070 -0.024755 -0.007509   \n",
       "previous_bookings_not_canceled -0.108856 -0.021078 -0.006552   \n",
       "booking_changes                -0.041472  0.051000  0.085605   \n",
       "agent                           0.015216  0.048982  0.030899   \n",
       "company                         0.023700 -0.001510  0.001336   \n",
       "days_in_waiting_list           -0.008365 -0.033293 -0.010627   \n",
       "adr                             0.224253  0.325057  0.029043   \n",
       "required_car_parking_spaces     0.014438  0.056247  0.037389   \n",
       "total_of_special_requests       0.123353  0.081747  0.097939   \n",
       "\n",
       "                                is_repeated_guest  previous_cancellations  \\\n",
       "is_canceled                             -0.083745                0.110139   \n",
       "lead_time                               -0.123209                0.086025   \n",
       "arrival_date_year                        0.010281               -0.119905   \n",
       "arrival_date_week_number                -0.031125                0.035493   \n",
       "arrival_date_day_of_month               -0.006471               -0.027027   \n",
       "stays_in_weekend_nights                 -0.086009               -0.012769   \n",
       "stays_in_week_nights                    -0.095302               -0.013976   \n",
       "adults                                  -0.140973               -0.007070   \n",
       "children                                -0.032475               -0.024755   \n",
       "babies                                  -0.008813               -0.007509   \n",
       "is_repeated_guest                        1.000000                0.082740   \n",
       "previous_cancellations                   0.082740                1.000000   \n",
       "previous_bookings_not_canceled           0.420642                0.152570   \n",
       "booking_changes                          0.013044               -0.027261   \n",
       "agent                                   -0.040506               -0.017120   \n",
       "company                                 -0.118098               -0.029816   \n",
       "days_in_waiting_list                    -0.022057                0.005941   \n",
       "adr                                     -0.130807               -0.065974   \n",
       "required_car_parking_spaces              0.077928               -0.018540   \n",
       "total_of_special_requests                0.012963               -0.048488   \n",
       "\n",
       "                                previous_bookings_not_canceled  \\\n",
       "is_canceled                                          -0.057365   \n",
       "lead_time                                            -0.073599   \n",
       "arrival_date_year                                     0.029234   \n",
       "arrival_date_week_number                             -0.021009   \n",
       "arrival_date_day_of_month                            -0.000306   \n",
       "stays_in_weekend_nights                              -0.042859   \n",
       "stays_in_week_nights                                 -0.048873   \n",
       "adults                                               -0.108856   \n",
       "children                                             -0.021078   \n",
       "babies                                               -0.006552   \n",
       "is_repeated_guest                                     0.420642   \n",
       "previous_cancellations                                0.152570   \n",
       "previous_bookings_not_canceled                        1.000000   \n",
       "booking_changes                                       0.011963   \n",
       "agent                                                -0.038331   \n",
       "company                                              -0.164544   \n",
       "days_in_waiting_list                                 -0.009416   \n",
       "adr                                                  -0.072335   \n",
       "required_car_parking_spaces                           0.047506   \n",
       "total_of_special_requests                             0.037775   \n",
       "\n",
       "                                booking_changes     agent   company  \\\n",
       "is_canceled                           -0.144832 -0.051954 -0.012508   \n",
       "lead_time                              0.002230 -0.021416  0.018010   \n",
       "arrival_date_year                      0.031416  0.057106  0.061596   \n",
       "arrival_date_week_number               0.006311 -0.019901 -0.022909   \n",
       "arrival_date_day_of_month              0.011266  0.000338  0.009982   \n",
       "stays_in_weekend_nights                0.050191  0.158526  0.003923   \n",
       "stays_in_week_nights                   0.080018  0.193685  0.032162   \n",
       "adults                                -0.041472  0.015216  0.023700   \n",
       "children                               0.051000  0.048982 -0.001510   \n",
       "babies                                 0.085605  0.030899  0.001336   \n",
       "is_repeated_guest                      0.013044 -0.040506 -0.118098   \n",
       "previous_cancellations                -0.027261 -0.017120 -0.029816   \n",
       "previous_bookings_not_canceled         0.011963 -0.038331 -0.164544   \n",
       "booking_changes                        1.000000  0.042321  0.049300   \n",
       "agent                                  0.042321  1.000000 -0.000998   \n",
       "company                                0.049300 -0.000998  1.000000   \n",
       "days_in_waiting_list                  -0.011916 -0.043565 -0.002280   \n",
       "adr                                    0.026601  0.009664  0.000750   \n",
       "required_car_parking_spaces            0.067490  0.125000  0.000411   \n",
       "total_of_special_requests              0.055003  0.056616 -0.025455   \n",
       "\n",
       "                                days_in_waiting_list       adr  \\\n",
       "is_canceled                                 0.054301  0.046492   \n",
       "lead_time                                   0.170008 -0.065018   \n",
       "arrival_date_year                          -0.056348  0.198429   \n",
       "arrival_date_week_number                    0.022677  0.076281   \n",
       "arrival_date_day_of_month                   0.022532  0.030291   \n",
       "stays_in_weekend_nights                    -0.054399  0.050670   \n",
       "stays_in_week_nights                       -0.002026  0.066847   \n",
       "adults                                     -0.008365  0.224253   \n",
       "children                                   -0.033293  0.325057   \n",
       "babies                                     -0.010627  0.029043   \n",
       "is_repeated_guest                          -0.022057 -0.130807   \n",
       "previous_cancellations                      0.005941 -0.065974   \n",
       "previous_bookings_not_canceled             -0.009416 -0.072335   \n",
       "booking_changes                            -0.011916  0.026601   \n",
       "agent                                      -0.043565  0.009664   \n",
       "company                                    -0.002280  0.000750   \n",
       "days_in_waiting_list                        1.000000 -0.040859   \n",
       "adr                                        -0.040859  1.000000   \n",
       "required_car_parking_spaces                -0.030601  0.056510   \n",
       "total_of_special_requests                  -0.082755  0.172308   \n",
       "\n",
       "                                required_car_parking_spaces  \\\n",
       "is_canceled                                       -0.195701   \n",
       "lead_time                                         -0.116624   \n",
       "arrival_date_year                                 -0.013812   \n",
       "arrival_date_week_number                           0.001980   \n",
       "arrival_date_day_of_month                          0.008569   \n",
       "stays_in_weekend_nights                           -0.018520   \n",
       "stays_in_week_nights                              -0.024933   \n",
       "adults                                             0.014438   \n",
       "children                                           0.056247   \n",
       "babies                                             0.037389   \n",
       "is_repeated_guest                                  0.077928   \n",
       "previous_cancellations                            -0.018540   \n",
       "previous_bookings_not_canceled                     0.047506   \n",
       "booking_changes                                    0.067490   \n",
       "agent                                              0.125000   \n",
       "company                                            0.000411   \n",
       "days_in_waiting_list                              -0.030601   \n",
       "adr                                                0.056510   \n",
       "required_car_parking_spaces                        1.000000   \n",
       "total_of_special_requests                          0.082718   \n",
       "\n",
       "                                total_of_special_requests  \n",
       "is_canceled                                     -0.234877  \n",
       "lead_time                                       -0.095949  \n",
       "arrival_date_year                                0.108610  \n",
       "arrival_date_week_number                         0.026202  \n",
       "arrival_date_day_of_month                        0.003026  \n",
       "stays_in_weekend_nights                          0.073124  \n",
       "stays_in_week_nights                             0.068738  \n",
       "adults                                           0.123353  \n",
       "children                                         0.081747  \n",
       "babies                                           0.097939  \n",
       "is_repeated_guest                                0.012963  \n",
       "previous_cancellations                          -0.048488  \n",
       "previous_bookings_not_canceled                   0.037775  \n",
       "booking_changes                                  0.055003  \n",
       "agent                                            0.056616  \n",
       "company                                         -0.025455  \n",
       "days_in_waiting_list                            -0.082755  \n",
       "adr                                              0.172308  \n",
       "required_car_parking_spaces                      0.082718  \n",
       "total_of_special_requests                        1.000000  "
      ]
     },
     "execution_count": 37,
     "metadata": {},
     "output_type": "execute_result"
    }
   ],
   "source": [
    "correlation = final_data.corr()\n",
    "correlation"
   ]
  },
  {
   "cell_type": "code",
   "execution_count": 38,
   "id": "07316cf3",
   "metadata": {},
   "outputs": [],
   "source": [
    "correlation = correlation[\"is_canceled\"][1:]"
   ]
  },
  {
   "cell_type": "code",
   "execution_count": 39,
   "id": "c436d6c2",
   "metadata": {},
   "outputs": [
    {
     "data": {
      "text/plain": [
       "lead_time                         0.292876\n",
       "total_of_special_requests         0.234877\n",
       "required_car_parking_spaces       0.195701\n",
       "booking_changes                   0.144832\n",
       "previous_cancellations            0.110139\n",
       "is_repeated_guest                 0.083745\n",
       "adults                            0.058182\n",
       "previous_bookings_not_canceled    0.057365\n",
       "days_in_waiting_list              0.054301\n",
       "agent                             0.051954\n",
       "adr                               0.046492\n",
       "babies                            0.032569\n",
       "stays_in_week_nights              0.025542\n",
       "arrival_date_year                 0.016622\n",
       "company                           0.012508\n",
       "arrival_date_week_number          0.008315\n",
       "arrival_date_day_of_month         0.005948\n",
       "children                          0.004851\n",
       "stays_in_weekend_nights           0.001323\n",
       "Name: is_canceled, dtype: float64"
      ]
     },
     "execution_count": 39,
     "metadata": {},
     "output_type": "execute_result"
    }
   ],
   "source": [
    "correlation.abs().sort_values(ascending = False)"
   ]
  },
  {
   "cell_type": "code",
   "execution_count": 40,
   "id": "84fbdabb",
   "metadata": {},
   "outputs": [],
   "source": [
    "list_not = [\"days_in_waiting_list\", \"arrival_date_year\"]"
   ]
  },
  {
   "cell_type": "code",
   "execution_count": 41,
   "id": "83f9d69f",
   "metadata": {},
   "outputs": [],
   "source": [
    "num_features = [col for col in final_data.columns if final_data[col].dtype != \"O\" and col not in list_not]  #numerical one"
   ]
  },
  {
   "cell_type": "code",
   "execution_count": 42,
   "id": "8947c0f1",
   "metadata": {},
   "outputs": [
    {
     "name": "stdout",
     "output_type": "stream",
     "text": [
      "['is_canceled', 'lead_time', 'arrival_date_week_number', 'arrival_date_day_of_month', 'stays_in_weekend_nights', 'stays_in_week_nights', 'adults', 'children', 'babies', 'is_repeated_guest', 'previous_cancellations', 'previous_bookings_not_canceled', 'booking_changes', 'agent', 'company', 'adr', 'required_car_parking_spaces', 'total_of_special_requests']\n"
     ]
    }
   ],
   "source": [
    "print(num_features)"
   ]
  },
  {
   "cell_type": "markdown",
   "id": "d9b3604a",
   "metadata": {},
   "source": [
    "## Select important Categorical features"
   ]
  },
  {
   "cell_type": "code",
   "execution_count": 43,
   "id": "95c1e6c0",
   "metadata": {},
   "outputs": [
    {
     "data": {
      "text/plain": [
       "Check-Out    75011\n",
       "Canceled     42993\n",
       "No-Show       1206\n",
       "Name: reservation_status, dtype: int64"
      ]
     },
     "execution_count": 43,
     "metadata": {},
     "output_type": "execute_result"
    }
   ],
   "source": [
    "final_data[\"reservation_status\"].value_counts()"
   ]
  },
  {
   "cell_type": "code",
   "execution_count": 44,
   "id": "66f68b20",
   "metadata": {},
   "outputs": [
    {
     "data": {
      "text/plain": [
       "Index(['hotel', 'is_canceled', 'lead_time', 'arrival_date_year',\n",
       "       'arrival_date_month', 'arrival_date_week_number',\n",
       "       'arrival_date_day_of_month', 'stays_in_weekend_nights',\n",
       "       'stays_in_week_nights', 'adults', 'children', 'babies', 'meal',\n",
       "       'country', 'market_segment', 'distribution_channel',\n",
       "       'is_repeated_guest', 'previous_cancellations',\n",
       "       'previous_bookings_not_canceled', 'reserved_room_type',\n",
       "       'assigned_room_type', 'booking_changes', 'deposit_type', 'agent',\n",
       "       'company', 'days_in_waiting_list', 'customer_type', 'adr',\n",
       "       'required_car_parking_spaces', 'total_of_special_requests',\n",
       "       'reservation_status', 'reservation_status_date'],\n",
       "      dtype='object')"
      ]
     },
     "execution_count": 44,
     "metadata": {},
     "output_type": "execute_result"
    }
   ],
   "source": [
    "final_data.columns"
   ]
  },
  {
   "cell_type": "code",
   "execution_count": 45,
   "id": "91227c70",
   "metadata": {},
   "outputs": [],
   "source": [
    "cat_not = [\"country\", \"reservation_status\", \"booking_changes\", \"assigned_room_type\", \"days_in_waiting_list\" ]"
   ]
  },
  {
   "cell_type": "code",
   "execution_count": 46,
   "id": "c81f9bd8",
   "metadata": {},
   "outputs": [],
   "source": [
    "cat_features = [col for col in final_data.columns \n",
    "                if final_data[col].dtype == \"O\" and col not in cat_not]"
   ]
  },
  {
   "cell_type": "code",
   "execution_count": 47,
   "id": "44a702cc",
   "metadata": {},
   "outputs": [
    {
     "name": "stdout",
     "output_type": "stream",
     "text": [
      "['hotel', 'arrival_date_month', 'meal', 'market_segment', 'distribution_channel', 'reserved_room_type', 'deposit_type', 'customer_type', 'reservation_status_date']\n"
     ]
    }
   ],
   "source": [
    "print(cat_features)"
   ]
  },
  {
   "cell_type": "code",
   "execution_count": 48,
   "id": "262a23fa",
   "metadata": {},
   "outputs": [
    {
     "name": "stdout",
     "output_type": "stream",
     "text": [
      "['is_canceled', 'lead_time', 'arrival_date_week_number', 'arrival_date_day_of_month', 'stays_in_weekend_nights', 'stays_in_week_nights', 'adults', 'children', 'babies', 'is_repeated_guest', 'previous_cancellations', 'previous_bookings_not_canceled', 'booking_changes', 'agent', 'company', 'adr', 'required_car_parking_spaces', 'total_of_special_requests']\n"
     ]
    }
   ],
   "source": [
    "print(num_features)"
   ]
  },
  {
   "cell_type": "code",
   "execution_count": 49,
   "id": "4699c6dc",
   "metadata": {},
   "outputs": [],
   "source": [
    "data_cat = final_data[cat_features]"
   ]
  },
  {
   "cell_type": "code",
   "execution_count": 50,
   "id": "3b9a8330",
   "metadata": {},
   "outputs": [
    {
     "name": "stdout",
     "output_type": "stream",
     "text": [
      "          hotel arrival_date_month meal market_segment distribution_channel  \\\n",
      "0  Resort Hotel               July   BB         Direct               Direct   \n",
      "1  Resort Hotel               July   BB         Direct               Direct   \n",
      "2  Resort Hotel               July   BB         Direct               Direct   \n",
      "3  Resort Hotel               July   BB      Corporate            Corporate   \n",
      "4  Resort Hotel               July   BB      Online TA                TA/TO   \n",
      "\n",
      "  reserved_room_type deposit_type customer_type reservation_status_date  \n",
      "0                  C   No Deposit     Transient                7/1/2015  \n",
      "1                  C   No Deposit     Transient                7/1/2015  \n",
      "2                  A   No Deposit     Transient                7/2/2015  \n",
      "3                  A   No Deposit     Transient                7/2/2015  \n",
      "4                  A   No Deposit     Transient                7/3/2015  \n"
     ]
    }
   ],
   "source": [
    "print(data_cat.head())"
   ]
  },
  {
   "cell_type": "code",
   "execution_count": 51,
   "id": "ddd2fd43",
   "metadata": {},
   "outputs": [],
   "source": [
    "num_data = final_data[num_features] #numerical data\n",
    "\n",
    "cat_data = data_cat #categorical data\n",
    "\n",
    "\n",
    "final_data = pd.concat([num_data, cat_data], axis = 1) #final dataframe\n"
   ]
  },
  {
   "cell_type": "code",
   "execution_count": 52,
   "id": "188dc7c5",
   "metadata": {},
   "outputs": [
    {
     "data": {
      "text/plain": [
       "0    75011\n",
       "1    44199\n",
       "Name: is_canceled, dtype: int64"
      ]
     },
     "execution_count": 52,
     "metadata": {},
     "output_type": "execute_result"
    }
   ],
   "source": [
    "final_data.is_canceled.value_counts()"
   ]
  },
  {
   "cell_type": "markdown",
   "id": "d8f7599c",
   "metadata": {},
   "source": [
    "## Handle the outliers"
   ]
  },
  {
   "cell_type": "code",
   "execution_count": 55,
   "id": "8a8b9290",
   "metadata": {},
   "outputs": [
    {
     "data": {
      "text/plain": [
       "count    119210.000000\n",
       "mean        101.969092\n",
       "std          50.434007\n",
       "min          -6.380000\n",
       "25%          69.500000\n",
       "50%          94.950000\n",
       "75%         126.000000\n",
       "max        5400.000000\n",
       "Name: adr, dtype: float64"
      ]
     },
     "execution_count": 55,
     "metadata": {},
     "output_type": "execute_result"
    }
   ],
   "source": [
    "final_data.describe()[\"adr\"]"
   ]
  },
  {
   "cell_type": "code",
   "execution_count": 57,
   "id": "1b926bed",
   "metadata": {},
   "outputs": [
    {
     "name": "stderr",
     "output_type": "stream",
     "text": [
      "C:\\Users\\aishw\\AppData\\Local\\Temp\\ipykernel_23100\\1327042367.py:1: UserWarning: \n",
      "\n",
      "`distplot` is a deprecated function and will be removed in seaborn v0.14.0.\n",
      "\n",
      "Please adapt your code to use either `displot` (a figure-level function with\n",
      "similar flexibility) or `histplot` (an axes-level function for histograms).\n",
      "\n",
      "For a guide to updating your code to use the new functions, please see\n",
      "https://gist.github.com/mwaskom/de44147ed2974457ad6372750bbe5751\n",
      "\n",
      "  sns.distplot(final_data[\"lead_time\"])\n"
     ]
    },
    {
     "data": {
      "text/plain": [
       "<Axes: xlabel='lead_time', ylabel='Density'>"
      ]
     },
     "execution_count": 57,
     "metadata": {},
     "output_type": "execute_result"
    },
    {
     "data": {
      "image/png": "[encoded data removed]",
      "text/plain": [
       "<Figure size 640x480 with 1 Axes>"
      ]
     },
     "metadata": {},
     "output_type": "display_data"
    }
   ],
   "source": [
    "sns.distplot(final_data[\"lead_time\"])"
   ]
  },
  {
   "cell_type": "code",
   "execution_count": 60,
   "id": "ccb3400d",
   "metadata": {
    "scrolled": true
   },
   "outputs": [],
   "source": [
    "def handle_outlier(col):\n",
    "    final_data[col] = np.log1p(final_data[col])"
   ]
  },
  {
   "cell_type": "code",
   "execution_count": 61,
   "id": "5ade1e2a",
   "metadata": {},
   "outputs": [],
   "source": [
    "handle_outlier(\"lead_time\")"
   ]
  },
  {
   "cell_type": "code",
   "execution_count": 63,
   "id": "2c2fef8a",
   "metadata": {},
   "outputs": [
    {
     "name": "stderr",
     "output_type": "stream",
     "text": [
      "C:\\Users\\aishw\\AppData\\Local\\Temp\\ipykernel_23100\\531841522.py:1: UserWarning: \n",
      "\n",
      "`distplot` is a deprecated function and will be removed in seaborn v0.14.0.\n",
      "\n",
      "Please adapt your code to use either `displot` (a figure-level function with\n",
      "similar flexibility) or `histplot` (an axes-level function for histograms).\n",
      "\n",
      "For a guide to updating your code to use the new functions, please see\n",
      "https://gist.github.com/mwaskom/de44147ed2974457ad6372750bbe5751\n",
      "\n",
      "  sns.distplot(final_data[\"lead_time\"].dropna())\n"
     ]
    },
    {
     "data": {
      "text/plain": [
       "<Axes: xlabel='lead_time', ylabel='Density'>"
      ]
     },
     "execution_count": 63,
     "metadata": {},
     "output_type": "execute_result"
    },
    {
     "data": {
      "image/png": "[encoded data removed]",
      "text/plain": [
       "<Figure size 640x480 with 1 Axes>"
      ]
     },
     "metadata": {},
     "output_type": "display_data"
    }
   ],
   "source": [
    "sns.distplot(final_data[\"lead_time\"].dropna())"
   ]
  },
  {
   "cell_type": "code",
   "execution_count": 65,
   "id": "9f31b870",
   "metadata": {
    "scrolled": true
   },
   "outputs": [
    {
     "name": "stderr",
     "output_type": "stream",
     "text": [
      "C:\\Users\\aishw\\AppData\\Local\\Temp\\ipykernel_23100\\2159145395.py:1: UserWarning: \n",
      "\n",
      "`distplot` is a deprecated function and will be removed in seaborn v0.14.0.\n",
      "\n",
      "Please adapt your code to use either `displot` (a figure-level function with\n",
      "similar flexibility) or `histplot` (an axes-level function for histograms).\n",
      "\n",
      "For a guide to updating your code to use the new functions, please see\n",
      "https://gist.github.com/mwaskom/de44147ed2974457ad6372750bbe5751\n",
      "\n",
      "  sns.distplot(final_data[\"adr\"])\n"
     ]
    },
    {
     "data": {
      "text/plain": [
       "<Axes: xlabel='adr', ylabel='Density'>"
      ]
     },
     "execution_count": 65,
     "metadata": {},
     "output_type": "execute_result"
    },
    {
     "data": {
      "image/png": "[encoded data removed]",
      "text/plain": [
       "<Figure size 640x480 with 1 Axes>"
      ]
     },
     "metadata": {},
     "output_type": "display_data"
    }
   ],
   "source": [
    "sns.distplot(final_data[\"adr\"])"
   ]
  },
  {
   "cell_type": "code",
   "execution_count": 67,
   "id": "1db4cdd3",
   "metadata": {},
   "outputs": [],
   "source": [
    "handle_outlier(\"adr\")"
   ]
  },
  {
   "cell_type": "code",
   "execution_count": 70,
   "id": "077ae7ed",
   "metadata": {
    "scrolled": false
   },
   "outputs": [
    {
     "data": {
      "text/plain": [
       "is_canceled                       0\n",
       "lead_time                         0\n",
       "arrival_date_week_number          0\n",
       "arrival_date_day_of_month         0\n",
       "stays_in_weekend_nights           0\n",
       "stays_in_week_nights              0\n",
       "adults                            0\n",
       "children                          0\n",
       "babies                            0\n",
       "is_repeated_guest                 0\n",
       "previous_cancellations            0\n",
       "previous_bookings_not_canceled    0\n",
       "booking_changes                   0\n",
       "agent                             0\n",
       "company                           0\n",
       "adr                               1\n",
       "required_car_parking_spaces       0\n",
       "total_of_special_requests         0\n",
       "hotel                             0\n",
       "arrival_date_month                0\n",
       "meal                              0\n",
       "market_segment                    0\n",
       "distribution_channel              0\n",
       "reserved_room_type                0\n",
       "deposit_type                      0\n",
       "customer_type                     0\n",
       "reservation_status_date           0\n",
       "dtype: int64"
      ]
     },
     "execution_count": 70,
     "metadata": {},
     "output_type": "execute_result"
    }
   ],
   "source": [
    "final_data.isna().sum()\n"
   ]
  },
  {
   "cell_type": "code",
   "execution_count": 403,
   "id": "13ce8bdb",
   "metadata": {},
   "outputs": [
    {
     "data": {
      "text/plain": [
       "hotel                              object\n",
       "is_canceled                         int64\n",
       "lead_time                           int64\n",
       "arrival_date_year                   int64\n",
       "arrival_date_month                 object\n",
       "arrival_date_week_number            int64\n",
       "arrival_date_day_of_month           int64\n",
       "stays_in_weekend_nights             int64\n",
       "stays_in_week_nights                int64\n",
       "adults                              int64\n",
       "children                          float64\n",
       "babies                              int64\n",
       "meal                               object\n",
       "country                            object\n",
       "market_segment                     object\n",
       "distribution_channel               object\n",
       "is_repeated_guest                   int64\n",
       "previous_cancellations              int64\n",
       "previous_bookings_not_canceled      int64\n",
       "reserved_room_type                 object\n",
       "assigned_room_type                 object\n",
       "booking_changes                     int64\n",
       "deposit_type                       object\n",
       "agent                             float64\n",
       "company                           float64\n",
       "days_in_waiting_list                int64\n",
       "customer_type                      object\n",
       "adr                               float64\n",
       "required_car_parking_spaces         int64\n",
       "total_of_special_requests           int64\n",
       "reservation_status                 object\n",
       "reservation_status_date            object\n",
       "dtype: object"
      ]
     },
     "execution_count": 403,
     "metadata": {},
     "output_type": "execute_result"
    }
   ],
   "source": [
    "final_data.dtypes"
   ]
  },
  {
   "cell_type": "code",
   "execution_count": 72,
   "id": "e231f370",
   "metadata": {},
   "outputs": [],
   "source": [
    "final_data.dropna(inplace = True)"
   ]
  },
  {
   "cell_type": "code",
   "execution_count": 73,
   "id": "79674091",
   "metadata": {},
   "outputs": [
    {
     "data": {
      "text/plain": [
       "array(['Resort Hotel', 'City Hotel'], dtype=object)"
      ]
     },
     "execution_count": 73,
     "metadata": {},
     "output_type": "execute_result"
    }
   ],
   "source": [
    "final_data.hotel.unique()"
   ]
  },
  {
   "cell_type": "code",
   "execution_count": 74,
   "id": "72f4c7a8",
   "metadata": {},
   "outputs": [
    {
     "data": {
      "text/plain": [
       "array(['July', 'August', 'September', 'October', 'November', 'December',\n",
       "       'January', 'February', 'March', 'April', 'May', 'June'],\n",
       "      dtype=object)"
      ]
     },
     "execution_count": 74,
     "metadata": {},
     "output_type": "execute_result"
    }
   ],
   "source": [
    "final_data.arrival_date_month.unique()"
   ]
  },
  {
   "cell_type": "code",
   "execution_count": 75,
   "id": "d0e61913",
   "metadata": {},
   "outputs": [
    {
     "data": {
      "text/plain": [
       "array(['No Deposit', 'Refundable', 'Non Refund'], dtype=object)"
      ]
     },
     "execution_count": 75,
     "metadata": {},
     "output_type": "execute_result"
    }
   ],
   "source": [
    "final_data.deposit_type.unique()"
   ]
  },
  {
   "cell_type": "code",
   "execution_count": 76,
   "id": "b9e8ab53",
   "metadata": {},
   "outputs": [
    {
     "data": {
      "text/plain": [
       "array(['BB', 'FB', 'HB', 'SC', 'Undefined'], dtype=object)"
      ]
     },
     "execution_count": 76,
     "metadata": {},
     "output_type": "execute_result"
    }
   ],
   "source": [
    "final_data.meal.unique()"
   ]
  },
  {
   "cell_type": "code",
   "execution_count": 77,
   "id": "053e30e4",
   "metadata": {},
   "outputs": [
    {
     "data": {
      "text/plain": [
       "{'hotel': array(['Resort Hotel', 'City Hotel'], dtype=object),\n",
       " 'arrival_date_month': array(['July', 'August', 'September', 'October', 'November', 'December',\n",
       "        'January', 'February', 'March', 'April', 'May', 'June'],\n",
       "       dtype=object),\n",
       " 'meal': array(['BB', 'FB', 'HB', 'SC', 'Undefined'], dtype=object),\n",
       " 'market_segment': array(['Direct', 'Corporate', 'Online TA', 'Offline TA/TO',\n",
       "        'Complementary', 'Groups', 'Undefined', 'Aviation'], dtype=object),\n",
       " 'distribution_channel': array(['Direct', 'Corporate', 'TA/TO', 'Undefined', 'GDS'], dtype=object),\n",
       " 'reserved_room_type': array(['C', 'A', 'D', 'E', 'G', 'F', 'H', 'L', 'B'], dtype=object),\n",
       " 'deposit_type': array(['No Deposit', 'Refundable', 'Non Refund'], dtype=object),\n",
       " 'customer_type': array(['Transient', 'Contract', 'Transient-Party', 'Group'], dtype=object),\n",
       " 'reservation_status_date': array(['7/1/2015', '7/2/2015', '7/3/2015', '5/6/2015', '4/22/2015',\n",
       "        '6/23/2015', '7/5/2015', '7/6/2015', '7/7/2015', '7/8/2015',\n",
       "        '5/11/2015', '7/15/2015', '7/16/2015', '5/29/2015', '5/19/2015',\n",
       "        '6/19/2015', '5/23/2015', '5/18/2015', '7/9/2015', '6/2/2015',\n",
       "        '7/13/2015', '7/4/2015', '6/29/2015', '6/16/2015', '6/18/2015',\n",
       "        '6/12/2015', '6/9/2015', '5/26/2015', '7/11/2015', '7/12/2015',\n",
       "        '7/17/2015', '4/15/2015', '5/13/2015', '7/10/2015', '5/20/2015',\n",
       "        '5/12/2015', '7/14/2015', '6/17/2015', '5/1/2015', '3/30/2015',\n",
       "        '7/19/2015', '6/3/2015', '6/26/2015', '5/14/2015', '7/20/2015',\n",
       "        '5/7/2015', '5/28/2015', '4/13/2015', '3/25/2015', '7/21/2015',\n",
       "        '6/27/2015', '7/18/2015', '7/23/2015', '6/8/2015', '6/22/2015',\n",
       "        '6/24/2015', '3/5/2015', '6/1/2015', '4/24/2015', '7/22/2015',\n",
       "        '5/27/2015', '4/6/2015', '4/11/2015', '7/25/2015', '7/28/2015',\n",
       "        '7/29/2015', '6/25/2015', '7/24/2015', '6/5/2015', '6/30/2015',\n",
       "        '6/13/2015', '6/11/2015', '7/30/2015', '7/27/2015', '4/29/2015',\n",
       "        '6/4/2015', '7/26/2015', '8/1/2015', '8/2/2015', '6/15/2015',\n",
       "        '4/23/2015', '7/31/2015', '5/25/2015', '8/3/2015', '4/17/2015',\n",
       "        '8/4/2015', '8/6/2015', '5/15/2015', '5/9/2015', '3/17/2015',\n",
       "        '5/22/2015', '8/7/2015', '4/4/2015', '8/5/2015', '8/8/2015',\n",
       "        '8/10/2015', '5/4/2015', '6/6/2015', '8/9/2015', '8/15/2015',\n",
       "        '8/11/2015', '3/28/2015', '8/14/2015', '8/12/2015', '8/16/2015',\n",
       "        '5/16/2015', '8/21/2015', '8/13/2015', '8/17/2015', '4/20/2015',\n",
       "        '8/18/2015', '8/23/2015', '8/22/2015', '8/19/2015', '8/20/2015',\n",
       "        '8/29/2015', '3/31/2015', '5/30/2015', '8/25/2015', '4/14/2015',\n",
       "        '8/24/2015', '3/24/2015', '5/21/2015', '8/28/2015', '8/26/2015',\n",
       "        '8/27/2015', '8/30/2015', '8/31/2015', '9/6/2015', '9/3/2015',\n",
       "        '9/4/2015', '9/2/2015', '9/1/2015', '9/5/2015', '6/20/2015',\n",
       "        '9/7/2015', '9/10/2015', '9/11/2015', '9/8/2015', '9/9/2015',\n",
       "        '9/13/2015', '9/15/2015', '4/10/2015', '1/2/2015', '11/18/2014',\n",
       "        '9/12/2015', '9/17/2015', '9/14/2015', '4/7/2015', '9/19/2015',\n",
       "        '9/16/2015', '9/20/2015', '1/18/2015', '10/23/2015', '1/22/2015',\n",
       "        '1/1/2015', '9/22/2015', '9/24/2015', '9/18/2015', '9/21/2015',\n",
       "        '9/30/2015', '9/25/2015', '9/27/2015', '9/28/2015', '10/12/2015',\n",
       "        '9/29/2015', '9/23/2015', '10/1/2015', '9/26/2015', '4/18/2015',\n",
       "        '10/2/2015', '10/4/2015', '10/8/2015', '10/3/2015', '10/7/2015',\n",
       "        '10/9/2015', '10/11/2015', '10/5/2015', '10/6/2015', '10/10/2015',\n",
       "        '10/14/2015', '10/15/2015', '10/18/2015', '10/13/2015',\n",
       "        '10/20/2015', '10/19/2015', '10/31/2015', '10/16/2015',\n",
       "        '10/21/2015', '10/22/2015', '10/17/2015', '10/24/2015',\n",
       "        '10/25/2015', '10/28/2015', '10/27/2015', '10/26/2015',\n",
       "        '10/30/2015', '11/5/2015', '10/29/2015', '11/3/2015', '11/7/2015',\n",
       "        '11/4/2015', '11/1/2015', '11/2/2015', '11/17/2015', '11/6/2015',\n",
       "        '11/10/2015', '11/8/2015', '11/9/2015', '11/15/2015', '11/16/2015',\n",
       "        '11/11/2015', '11/12/2015', '11/14/2015', '11/13/2015',\n",
       "        '11/18/2015', '11/22/2015', '11/19/2015', '11/21/2015',\n",
       "        '11/20/2015', '11/24/2015', '11/25/2015', '11/23/2015',\n",
       "        '11/28/2015', '11/26/2015', '11/27/2015', '11/29/2015',\n",
       "        '12/4/2015', '12/1/2015', '12/6/2015', '12/8/2015', '12/2/2015',\n",
       "        '12/3/2015', '12/31/2015', '12/5/2015', '12/10/2015', '12/17/2015',\n",
       "        '11/30/2015', '12/12/2015', '12/7/2015', '1/5/2016', '12/11/2015',\n",
       "        '12/13/2015', '12/15/2015', '12/16/2015', '12/19/2015',\n",
       "        '12/18/2015', '12/26/2015', '12/27/2015', '12/22/2015',\n",
       "        '12/23/2015', '12/24/2015', '12/29/2015', '12/28/2015',\n",
       "        '12/20/2015', '12/30/2015', '1/2/2016', '1/1/2016', '12/25/2015',\n",
       "        '1/3/2016', '1/4/2016', '1/11/2016', '1/7/2016', '12/21/2015',\n",
       "        '1/9/2016', '1/10/2016', '1/8/2016', '1/6/2016', '1/12/2016',\n",
       "        '1/13/2016', '1/23/2016', '2/9/2016', '1/15/2016', '1/16/2016',\n",
       "        '1/17/2016', '1/19/2016', '1/18/2016', '1/21/2016', '1/24/2016',\n",
       "        '1/22/2016', '1/29/2016', '1/27/2016', '1/25/2016', '3/8/2016',\n",
       "        '1/26/2016', '1/20/2016', '1/30/2016', '2/1/2016', '2/2/2016',\n",
       "        '2/8/2016', '2/7/2016', '1/28/2016', '2/5/2016', '2/3/2016',\n",
       "        '2/13/2016', '2/10/2016', '2/4/2016', '2/12/2016', '2/11/2016',\n",
       "        '2/16/2016', '2/14/2016', '2/15/2016', '2/20/2016', '2/6/2016',\n",
       "        '1/14/2016', '2/17/2016', '2/21/2016', '2/24/2016', '2/25/2016',\n",
       "        '2/19/2016', '2/18/2016', '2/26/2016', '2/23/2016', '3/5/2016',\n",
       "        '2/22/2016', '2/27/2016', '3/3/2016', '3/24/2016', '3/4/2016',\n",
       "        '2/29/2016', '3/1/2016', '3/2/2016', '3/30/2016', '3/7/2016',\n",
       "        '3/14/2016', '3/21/2016', '3/9/2016', '3/12/2016', '3/22/2016',\n",
       "        '3/10/2016', '3/11/2016', '3/20/2016', '3/15/2016', '3/17/2016',\n",
       "        '3/16/2016', '3/19/2016', '3/27/2016', '3/18/2016', '3/26/2016',\n",
       "        '3/31/2016', '3/28/2016', '3/29/2016', '4/1/2016', '3/23/2016',\n",
       "        '4/2/2016', '3/25/2016', '3/13/2016', '4/4/2016', '4/3/2016',\n",
       "        '4/5/2016', '4/8/2016', '4/6/2016', '4/9/2016', '4/12/2016',\n",
       "        '4/16/2016', '4/17/2016', '4/27/2016', '4/14/2016', '4/18/2016',\n",
       "        '4/21/2016', '4/19/2016', '4/20/2016', '4/10/2016', '4/13/2016',\n",
       "        '4/11/2016', '4/7/2016', '4/15/2016', '4/22/2016', '4/23/2016',\n",
       "        '4/26/2016', '4/28/2016', '4/24/2016', '4/25/2016', '4/29/2016',\n",
       "        '4/30/2016', '5/1/2016', '5/10/2016', '5/2/2016', '5/7/2016',\n",
       "        '5/8/2016', '5/12/2016', '5/4/2016', '5/6/2016', '5/3/2016',\n",
       "        '5/9/2016', '5/5/2016', '5/13/2016', '5/14/2016', '5/18/2016',\n",
       "        '5/19/2016', '5/15/2016', '5/16/2016', '5/11/2016', '5/21/2016',\n",
       "        '5/22/2016', '5/20/2016', '5/24/2016', '5/25/2016', '5/26/2016',\n",
       "        '5/23/2016', '5/27/2016', '5/17/2016', '5/29/2016', '5/28/2016',\n",
       "        '5/30/2016', '5/31/2016', '6/1/2016', '6/3/2016', '6/8/2016',\n",
       "        '6/2/2016', '6/5/2016', '6/6/2016', '6/13/2016', '6/7/2016',\n",
       "        '6/10/2016', '6/11/2016', '6/16/2016', '6/12/2016', '6/14/2016',\n",
       "        '6/17/2016', '6/4/2016', '6/18/2016', '6/21/2016', '6/9/2016',\n",
       "        '6/24/2016', '6/20/2016', '6/25/2016', '6/22/2016', '6/26/2016',\n",
       "        '6/23/2016', '7/1/2016', '6/15/2016', '6/28/2016', '7/2/2016',\n",
       "        '6/19/2016', '6/27/2016', '7/4/2016', '6/30/2016', '7/5/2016',\n",
       "        '7/8/2016', '7/9/2016', '7/7/2016', '7/12/2016', '6/29/2016',\n",
       "        '7/10/2016', '7/15/2016', '7/3/2016', '7/16/2016', '7/14/2016',\n",
       "        '7/18/2016', '7/13/2016', '7/6/2016', '7/20/2016', '7/21/2016',\n",
       "        '7/23/2016', '7/19/2016', '7/11/2016', '7/28/2016', '7/17/2016',\n",
       "        '7/25/2016', '7/22/2016', '7/29/2016', '8/3/2016', '8/2/2016',\n",
       "        '8/4/2016', '8/8/2016', '8/10/2016', '8/1/2016', '8/6/2016',\n",
       "        '3/6/2016', '8/5/2016', '7/26/2016', '8/7/2016', '7/30/2016',\n",
       "        '7/24/2016', '8/12/2016', '7/27/2016', '8/13/2016', '8/18/2016',\n",
       "        '8/16/2016', '8/15/2016', '8/17/2016', '8/11/2016', '7/31/2016',\n",
       "        '8/19/2016', '9/1/2016', '8/23/2016', '8/26/2016', '8/20/2016',\n",
       "        '8/21/2016', '9/4/2016', '8/22/2016', '8/27/2016', '8/25/2016',\n",
       "        '8/9/2016', '9/5/2016', '8/24/2016', '9/10/2016', '8/29/2016',\n",
       "        '9/9/2016', '8/30/2016', '9/13/2016', '8/31/2016', '9/14/2016',\n",
       "        '9/12/2016', '9/15/2016', '8/14/2016', '9/2/2016', '9/8/2016',\n",
       "        '9/19/2016', '9/16/2016', '9/7/2016', '9/21/2016', '9/6/2016',\n",
       "        '9/22/2016', '9/17/2016', '9/20/2016', '9/3/2016', '9/26/2016',\n",
       "        '9/23/2016', '9/18/2016', '9/29/2016', '10/2/2016', '10/1/2016',\n",
       "        '9/27/2016', '9/25/2016', '10/5/2016', '9/11/2016', '9/30/2016',\n",
       "        '10/9/2016', '10/3/2016', '10/6/2016', '10/11/2016', '9/24/2016',\n",
       "        '10/13/2016', '9/28/2016', '10/8/2016', '10/7/2016', '10/16/2016',\n",
       "        '8/28/2016', '10/17/2016', '10/18/2016', '10/10/2016', '10/4/2016',\n",
       "        '10/15/2016', '10/19/2016', '10/21/2016', '10/12/2016',\n",
       "        '10/24/2016', '10/26/2016', '10/23/2016', '10/20/2016',\n",
       "        '10/25/2016', '10/27/2016', '10/28/2016', '10/30/2016',\n",
       "        '10/29/2016', '11/1/2016', '11/4/2016', '10/14/2016', '11/7/2016',\n",
       "        '11/3/2016', '11/10/2016', '11/14/2016', '11/2/2016', '10/31/2016',\n",
       "        '11/11/2016', '11/8/2016', '11/5/2016', '11/25/2016', '11/9/2016',\n",
       "        '11/20/2016', '10/22/2016', '11/22/2016', '11/16/2016',\n",
       "        '11/23/2016', '11/17/2016', '11/6/2016', '11/15/2016',\n",
       "        '11/13/2016', '11/12/2016', '11/21/2016', '11/27/2016',\n",
       "        '11/19/2016', '11/30/2016', '11/18/2016', '12/2/2016', '12/4/2016',\n",
       "        '11/29/2016', '12/7/2016', '11/28/2016', '12/3/2016', '12/6/2016',\n",
       "        '11/24/2016', '12/8/2016', '12/5/2016', '12/10/2016', '12/13/2016',\n",
       "        '12/14/2016', '12/16/2016', '12/15/2016', '12/17/2016',\n",
       "        '12/19/2016', '12/21/2016', '12/20/2016', '12/22/2016',\n",
       "        '12/23/2016', '12/24/2016', '12/1/2016', '12/27/2016',\n",
       "        '12/29/2016', '12/30/2016', '12/12/2016', '1/2/2017', '12/11/2016',\n",
       "        '1/3/2017', '1/4/2017', '1/1/2017', '12/26/2016', '1/6/2017',\n",
       "        '12/28/2016', '12/18/2016', '1/10/2017', '1/11/2017', '1/7/2017',\n",
       "        '1/12/2017', '1/16/2017', '1/14/2017', '1/13/2017', '1/5/2017',\n",
       "        '1/17/2017', '1/20/2017', '12/9/2016', '1/26/2017', '12/31/2016',\n",
       "        '1/23/2017', '1/27/2017', '1/28/2017', '1/19/2017', '1/25/2017',\n",
       "        '1/24/2017', '1/29/2017', '1/18/2017', '12/25/2016', '1/15/2017',\n",
       "        '1/21/2017', '2/1/2017', '2/2/2017', '1/31/2017', '2/3/2017',\n",
       "        '2/4/2017', '2/6/2017', '2/7/2017', '2/8/2017', '1/30/2017',\n",
       "        '2/9/2017', '1/9/2017', '2/11/2017', '2/10/2017', '2/12/2017',\n",
       "        '2/13/2017', '2/14/2017', '2/16/2017', '2/17/2017', '2/18/2017',\n",
       "        '2/19/2017', '2/20/2017', '2/15/2017', '2/21/2017', '2/22/2017',\n",
       "        '2/26/2017', '2/23/2017', '2/24/2017', '2/25/2017', '2/28/2017',\n",
       "        '3/5/2017', '2/27/2017', '3/3/2017', '3/6/2017', '3/2/2017',\n",
       "        '3/8/2017', '3/9/2017', '3/10/2017', '3/7/2017', '3/12/2017',\n",
       "        '3/13/2017', '3/14/2017', '3/1/2017', '3/18/2017', '3/17/2017',\n",
       "        '3/24/2017', '3/22/2017', '3/26/2017', '3/27/2017', '3/11/2017',\n",
       "        '3/28/2017', '3/29/2017', '3/30/2017', '3/31/2017', '3/19/2017',\n",
       "        '1/22/2017', '4/2/2017', '3/20/2017', '4/3/2017', '1/8/2017',\n",
       "        '3/23/2017', '4/5/2017', '2/5/2017', '4/4/2017', '3/15/2017',\n",
       "        '4/7/2017', '3/25/2017', '4/8/2017', '4/6/2017', '3/21/2017',\n",
       "        '4/10/2017', '4/1/2017', '4/11/2017', '4/13/2017', '4/15/2017',\n",
       "        '4/12/2017', '3/4/2017', '4/19/2017', '4/22/2017', '4/20/2017',\n",
       "        '5/2/2017', '4/9/2017', '4/23/2017', '4/24/2017', '4/16/2017',\n",
       "        '4/28/2017', '4/18/2017', '4/26/2017', '4/25/2017', '4/17/2017',\n",
       "        '4/21/2017', '5/3/2017', '5/4/2017', '3/16/2017', '5/5/2017',\n",
       "        '4/29/2017', '4/14/2017', '5/8/2017', '4/27/2017', '5/11/2017',\n",
       "        '5/1/2017', '5/10/2017', '5/13/2017', '5/6/2017', '5/14/2017',\n",
       "        '5/16/2017', '4/30/2017', '5/15/2017', '5/7/2017', '5/9/2017',\n",
       "        '5/17/2017', '5/21/2017', '5/12/2017', '5/22/2017', '5/24/2017',\n",
       "        '5/23/2017', '5/25/2017', '5/26/2017', '5/28/2017', '5/27/2017',\n",
       "        '5/29/2017', '5/19/2017', '5/31/2017', '5/20/2017', '6/1/2017',\n",
       "        '5/30/2017', '6/2/2017', '11/26/2016', '6/4/2017', '6/5/2017',\n",
       "        '6/6/2017', '6/7/2017', '5/18/2017', '6/9/2017', '6/10/2017',\n",
       "        '6/11/2017', '6/12/2017', '6/14/2017', '6/8/2017', '6/16/2017',\n",
       "        '6/13/2017', '6/3/2017', '6/24/2017', '6/20/2017', '6/19/2017',\n",
       "        '6/21/2017', '6/26/2017', '6/27/2017', '6/22/2017', '6/28/2017',\n",
       "        '6/15/2017', '6/29/2017', '6/30/2017', '6/18/2017', '7/4/2017',\n",
       "        '7/8/2017', '7/5/2017', '7/3/2017', '7/7/2017', '7/1/2017',\n",
       "        '7/6/2017', '7/11/2017', '7/12/2017', '6/23/2017', '7/13/2017',\n",
       "        '7/2/2017', '7/10/2017', '7/14/2017', '7/15/2017', '7/16/2017',\n",
       "        '7/18/2017', '7/17/2017', '7/19/2017', '7/20/2017', '7/21/2017',\n",
       "        '6/25/2017', '6/17/2017', '7/24/2017', '7/26/2017', '7/9/2017',\n",
       "        '7/27/2017', '7/28/2017', '7/31/2017', '7/29/2017', '7/22/2017',\n",
       "        '8/2/2017', '8/1/2017', '8/3/2017', '8/4/2017', '7/25/2017',\n",
       "        '7/23/2017', '8/9/2017', '8/10/2017', '7/30/2017', '8/7/2017',\n",
       "        '8/13/2017', '8/5/2017', '8/14/2017', '8/8/2017', '8/16/2017',\n",
       "        '8/17/2017', '8/15/2017', '8/18/2017', '8/20/2017', '8/22/2017',\n",
       "        '8/6/2017', '8/25/2017', '8/26/2017', '8/23/2017', '8/11/2017',\n",
       "        '8/27/2017', '8/21/2017', '8/29/2017', '8/31/2017', '8/12/2017',\n",
       "        '8/19/2017', '1/31/2016', '9/1/2017', '8/28/2017', '4/3/2015',\n",
       "        '1/21/2015', '1/28/2015', '1/29/2015', '1/30/2015', '2/2/2015',\n",
       "        '2/5/2015', '2/6/2015', '2/9/2015', '2/10/2015', '2/11/2015',\n",
       "        '2/12/2015', '2/19/2015', '2/20/2015', '2/23/2015', '2/24/2015',\n",
       "        '2/25/2015', '2/26/2015', '2/27/2015', '3/3/2015', '3/4/2015',\n",
       "        '3/6/2015', '3/9/2015', '3/11/2015', '3/12/2015', '3/18/2015',\n",
       "        '4/2/2015', '6/14/2015', '4/8/2015', '4/16/2015', '4/25/2015',\n",
       "        '4/28/2015', '5/8/2015', '9/6/2017', '2/28/2016', '12/9/2015',\n",
       "        '12/14/2015', '9/9/2017', '9/2/2017', '8/24/2017', '8/30/2017',\n",
       "        '9/3/2017', '9/4/2017', '9/5/2017', '9/7/2017', '9/8/2017',\n",
       "        '9/10/2017', '9/12/2017', '9/14/2017', '4/30/2015', '4/21/2015',\n",
       "        '4/5/2015', '3/13/2015', '5/5/2015', '3/29/2015', '6/10/2015',\n",
       "        '4/27/2015', '10/17/2014', '1/20/2015', '2/17/2015', '3/10/2015',\n",
       "        '3/23/2015'], dtype=object)}"
      ]
     },
     "execution_count": 77,
     "metadata": {},
     "output_type": "execute_result"
    }
   ],
   "source": [
    "d={}\n",
    "columns=final_data.columns\n",
    "for i in columns:\n",
    "    if final_data[i].dtype == object:\n",
    "        unique=final_data[i].unique()\n",
    "        d[i]=unique\n",
    "d"
   ]
  },
  {
   "cell_type": "code",
   "execution_count": 78,
   "id": "cda33f6f",
   "metadata": {},
   "outputs": [
    {
     "data": {
      "text/plain": [
       "(119209, 27)"
      ]
     },
     "execution_count": 78,
     "metadata": {},
     "output_type": "execute_result"
    }
   ],
   "source": [
    "final_data.shape"
   ]
  },
  {
   "cell_type": "markdown",
   "id": "5cc1d916",
   "metadata": {},
   "source": [
    "## Feature Encoding"
   ]
  },
  {
   "cell_type": "markdown",
   "id": "1bf5fd4b",
   "metadata": {},
   "source": [
    "## Mean encoding"
   ]
  },
  {
   "cell_type": "code",
   "execution_count": 80,
   "id": "d32f5e29",
   "metadata": {},
   "outputs": [
    {
     "data": {
      "text/plain": [
       "['hotel',\n",
       " 'arrival_date_month',\n",
       " 'meal',\n",
       " 'market_segment',\n",
       " 'distribution_channel',\n",
       " 'reserved_room_type',\n",
       " 'deposit_type',\n",
       " 'customer_type']"
      ]
     },
     "execution_count": 80,
     "metadata": {},
     "output_type": "execute_result"
    }
   ],
   "source": [
    "ob_columns=[]\n",
    "for i in final_data.columns:\n",
    "    if final_data[i].dtype == object:\n",
    "        if i not in ['reservation_status_date', 'country']:\n",
    "            ob_columns.append(i) \n",
    "ob_columns      "
   ]
  },
  {
   "cell_type": "code",
   "execution_count": 81,
   "id": "cb8790fc",
   "metadata": {},
   "outputs": [],
   "source": [
    "from category_encoders import TargetEncoder\n",
    "target_encoder = TargetEncoder()\n",
    "def mean_encode(df, col, mean_col):\n",
    "    df_dict = df.groupby([col])[mean_col].mean().to_dict()\n",
    "    df[col] = df[col].map(df_dict)\n",
    "    return df\n",
    "\n",
    "for col in final_data.columns[0:8]:\n",
    "    final_data = mean_encode(final_data, col, \"is_canceled\")\n",
    "\n",
    "final_data=final_data.drop(ob_columns,axis=1)"
   ]
  },
  {
   "cell_type": "code",
   "execution_count": 82,
   "id": "080fd73c",
   "metadata": {
    "scrolled": true
   },
   "outputs": [
    {
     "data": {
      "text/html": [
       "<div>\n",
       "<style scoped>\n",
       "    .dataframe tbody tr th:only-of-type {\n",
       "        vertical-align: middle;\n",
       "    }\n",
       "\n",
       "    .dataframe tbody tr th {\n",
       "        vertical-align: top;\n",
       "    }\n",
       "\n",
       "    .dataframe thead th {\n",
       "        text-align: right;\n",
       "    }\n",
       "</style>\n",
       "<table border=\"1\" class=\"dataframe\">\n",
       "  <thead>\n",
       "    <tr style=\"text-align: right;\">\n",
       "      <th></th>\n",
       "      <th>is_canceled</th>\n",
       "      <th>lead_time</th>\n",
       "      <th>arrival_date_week_number</th>\n",
       "      <th>arrival_date_day_of_month</th>\n",
       "      <th>stays_in_weekend_nights</th>\n",
       "      <th>stays_in_week_nights</th>\n",
       "      <th>adults</th>\n",
       "      <th>children</th>\n",
       "      <th>babies</th>\n",
       "      <th>is_repeated_guest</th>\n",
       "      <th>previous_cancellations</th>\n",
       "      <th>previous_bookings_not_canceled</th>\n",
       "      <th>booking_changes</th>\n",
       "      <th>agent</th>\n",
       "      <th>company</th>\n",
       "      <th>adr</th>\n",
       "      <th>required_car_parking_spaces</th>\n",
       "      <th>total_of_special_requests</th>\n",
       "      <th>reservation_status_date</th>\n",
       "    </tr>\n",
       "  </thead>\n",
       "  <tbody>\n",
       "    <tr>\n",
       "      <th>0</th>\n",
       "      <td>0.0</td>\n",
       "      <td>0.717241</td>\n",
       "      <td>0.369745</td>\n",
       "      <td>0.398895</td>\n",
       "      <td>0.375470</td>\n",
       "      <td>0.250924</td>\n",
       "      <td>0.393158</td>\n",
       "      <td>0.371301</td>\n",
       "      <td>0</td>\n",
       "      <td>0</td>\n",
       "      <td>0</td>\n",
       "      <td>0</td>\n",
       "      <td>3</td>\n",
       "      <td>14.0</td>\n",
       "      <td>178.0</td>\n",
       "      <td>0.000000</td>\n",
       "      <td>0</td>\n",
       "      <td>0</td>\n",
       "      <td>7/1/2015</td>\n",
       "    </tr>\n",
       "    <tr>\n",
       "      <th>1</th>\n",
       "      <td>0.0</td>\n",
       "      <td>0.000000</td>\n",
       "      <td>0.369745</td>\n",
       "      <td>0.398895</td>\n",
       "      <td>0.375470</td>\n",
       "      <td>0.250924</td>\n",
       "      <td>0.393158</td>\n",
       "      <td>0.371301</td>\n",
       "      <td>0</td>\n",
       "      <td>0</td>\n",
       "      <td>0</td>\n",
       "      <td>0</td>\n",
       "      <td>4</td>\n",
       "      <td>14.0</td>\n",
       "      <td>178.0</td>\n",
       "      <td>0.000000</td>\n",
       "      <td>0</td>\n",
       "      <td>0</td>\n",
       "      <td>7/1/2015</td>\n",
       "    </tr>\n",
       "    <tr>\n",
       "      <th>2</th>\n",
       "      <td>0.0</td>\n",
       "      <td>0.129421</td>\n",
       "      <td>0.369745</td>\n",
       "      <td>0.398895</td>\n",
       "      <td>0.375470</td>\n",
       "      <td>0.324508</td>\n",
       "      <td>0.289834</td>\n",
       "      <td>0.371301</td>\n",
       "      <td>0</td>\n",
       "      <td>0</td>\n",
       "      <td>0</td>\n",
       "      <td>0</td>\n",
       "      <td>0</td>\n",
       "      <td>14.0</td>\n",
       "      <td>178.0</td>\n",
       "      <td>1.673489</td>\n",
       "      <td>0</td>\n",
       "      <td>0</td>\n",
       "      <td>7/2/2015</td>\n",
       "    </tr>\n",
       "    <tr>\n",
       "      <th>3</th>\n",
       "      <td>0.0</td>\n",
       "      <td>0.204629</td>\n",
       "      <td>0.369745</td>\n",
       "      <td>0.398895</td>\n",
       "      <td>0.375470</td>\n",
       "      <td>0.324508</td>\n",
       "      <td>0.289834</td>\n",
       "      <td>0.371301</td>\n",
       "      <td>0</td>\n",
       "      <td>0</td>\n",
       "      <td>0</td>\n",
       "      <td>0</td>\n",
       "      <td>0</td>\n",
       "      <td>304.0</td>\n",
       "      <td>178.0</td>\n",
       "      <td>1.673489</td>\n",
       "      <td>0</td>\n",
       "      <td>0</td>\n",
       "      <td>7/2/2015</td>\n",
       "    </tr>\n",
       "    <tr>\n",
       "      <th>4</th>\n",
       "      <td>0.0</td>\n",
       "      <td>0.223029</td>\n",
       "      <td>0.369745</td>\n",
       "      <td>0.398895</td>\n",
       "      <td>0.375470</td>\n",
       "      <td>0.441729</td>\n",
       "      <td>0.393158</td>\n",
       "      <td>0.371301</td>\n",
       "      <td>0</td>\n",
       "      <td>0</td>\n",
       "      <td>0</td>\n",
       "      <td>0</td>\n",
       "      <td>0</td>\n",
       "      <td>240.0</td>\n",
       "      <td>178.0</td>\n",
       "      <td>1.721895</td>\n",
       "      <td>0</td>\n",
       "      <td>1</td>\n",
       "      <td>7/3/2015</td>\n",
       "    </tr>\n",
       "    <tr>\n",
       "      <th>...</th>\n",
       "      <td>...</td>\n",
       "      <td>...</td>\n",
       "      <td>...</td>\n",
       "      <td>...</td>\n",
       "      <td>...</td>\n",
       "      <td>...</td>\n",
       "      <td>...</td>\n",
       "      <td>...</td>\n",
       "      <td>...</td>\n",
       "      <td>...</td>\n",
       "      <td>...</td>\n",
       "      <td>...</td>\n",
       "      <td>...</td>\n",
       "      <td>...</td>\n",
       "      <td>...</td>\n",
       "      <td>...</td>\n",
       "      <td>...</td>\n",
       "      <td>...</td>\n",
       "      <td>...</td>\n",
       "    </tr>\n",
       "    <tr>\n",
       "      <th>119385</th>\n",
       "      <td>0.0</td>\n",
       "      <td>0.329705</td>\n",
       "      <td>0.356784</td>\n",
       "      <td>0.380593</td>\n",
       "      <td>0.375068</td>\n",
       "      <td>0.348844</td>\n",
       "      <td>0.393158</td>\n",
       "      <td>0.371301</td>\n",
       "      <td>0</td>\n",
       "      <td>0</td>\n",
       "      <td>0</td>\n",
       "      <td>0</td>\n",
       "      <td>0</td>\n",
       "      <td>394.0</td>\n",
       "      <td>178.0</td>\n",
       "      <td>1.718499</td>\n",
       "      <td>0</td>\n",
       "      <td>0</td>\n",
       "      <td>9/6/2017</td>\n",
       "    </tr>\n",
       "    <tr>\n",
       "      <th>119386</th>\n",
       "      <td>0.0</td>\n",
       "      <td>0.441048</td>\n",
       "      <td>0.356784</td>\n",
       "      <td>0.344359</td>\n",
       "      <td>0.375068</td>\n",
       "      <td>0.348844</td>\n",
       "      <td>0.346824</td>\n",
       "      <td>0.371301</td>\n",
       "      <td>0</td>\n",
       "      <td>0</td>\n",
       "      <td>0</td>\n",
       "      <td>0</td>\n",
       "      <td>0</td>\n",
       "      <td>9.0</td>\n",
       "      <td>178.0</td>\n",
       "      <td>1.859797</td>\n",
       "      <td>0</td>\n",
       "      <td>2</td>\n",
       "      <td>9/7/2017</td>\n",
       "    </tr>\n",
       "    <tr>\n",
       "      <th>119387</th>\n",
       "      <td>0.0</td>\n",
       "      <td>0.398551</td>\n",
       "      <td>0.356784</td>\n",
       "      <td>0.344359</td>\n",
       "      <td>0.375068</td>\n",
       "      <td>0.348844</td>\n",
       "      <td>0.393158</td>\n",
       "      <td>0.371301</td>\n",
       "      <td>0</td>\n",
       "      <td>0</td>\n",
       "      <td>0</td>\n",
       "      <td>0</td>\n",
       "      <td>0</td>\n",
       "      <td>9.0</td>\n",
       "      <td>178.0</td>\n",
       "      <td>1.802877</td>\n",
       "      <td>0</td>\n",
       "      <td>4</td>\n",
       "      <td>9/7/2017</td>\n",
       "    </tr>\n",
       "    <tr>\n",
       "      <th>119388</th>\n",
       "      <td>0.0</td>\n",
       "      <td>0.444444</td>\n",
       "      <td>0.356784</td>\n",
       "      <td>0.344359</td>\n",
       "      <td>0.375068</td>\n",
       "      <td>0.348844</td>\n",
       "      <td>0.393158</td>\n",
       "      <td>0.371301</td>\n",
       "      <td>0</td>\n",
       "      <td>0</td>\n",
       "      <td>0</td>\n",
       "      <td>0</td>\n",
       "      <td>0</td>\n",
       "      <td>89.0</td>\n",
       "      <td>178.0</td>\n",
       "      <td>1.733029</td>\n",
       "      <td>0</td>\n",
       "      <td>0</td>\n",
       "      <td>9/7/2017</td>\n",
       "    </tr>\n",
       "    <tr>\n",
       "      <th>119389</th>\n",
       "      <td>0.0</td>\n",
       "      <td>0.577922</td>\n",
       "      <td>0.356784</td>\n",
       "      <td>0.352514</td>\n",
       "      <td>0.375068</td>\n",
       "      <td>0.315430</td>\n",
       "      <td>0.393158</td>\n",
       "      <td>0.371301</td>\n",
       "      <td>0</td>\n",
       "      <td>0</td>\n",
       "      <td>0</td>\n",
       "      <td>0</td>\n",
       "      <td>0</td>\n",
       "      <td>9.0</td>\n",
       "      <td>178.0</td>\n",
       "      <td>1.795950</td>\n",
       "      <td>0</td>\n",
       "      <td>2</td>\n",
       "      <td>9/7/2017</td>\n",
       "    </tr>\n",
       "  </tbody>\n",
       "</table>\n",
       "<p>119209 rows × 19 columns</p>\n",
       "</div>"
      ],
      "text/plain": [
       "        is_canceled  lead_time  arrival_date_week_number  \\\n",
       "0               0.0   0.717241                  0.369745   \n",
       "1               0.0   0.000000                  0.369745   \n",
       "2               0.0   0.129421                  0.369745   \n",
       "3               0.0   0.204629                  0.369745   \n",
       "4               0.0   0.223029                  0.369745   \n",
       "...             ...        ...                       ...   \n",
       "119385          0.0   0.329705                  0.356784   \n",
       "119386          0.0   0.441048                  0.356784   \n",
       "119387          0.0   0.398551                  0.356784   \n",
       "119388          0.0   0.444444                  0.356784   \n",
       "119389          0.0   0.577922                  0.356784   \n",
       "\n",
       "        arrival_date_day_of_month  stays_in_weekend_nights  \\\n",
       "0                        0.398895                 0.375470   \n",
       "1                        0.398895                 0.375470   \n",
       "2                        0.398895                 0.375470   \n",
       "3                        0.398895                 0.375470   \n",
       "4                        0.398895                 0.375470   \n",
       "...                           ...                      ...   \n",
       "119385                   0.380593                 0.375068   \n",
       "119386                   0.344359                 0.375068   \n",
       "119387                   0.344359                 0.375068   \n",
       "119388                   0.344359                 0.375068   \n",
       "119389                   0.352514                 0.375068   \n",
       "\n",
       "        stays_in_week_nights    adults  children  babies  is_repeated_guest  \\\n",
       "0                   0.250924  0.393158  0.371301       0                  0   \n",
       "1                   0.250924  0.393158  0.371301       0                  0   \n",
       "2                   0.324508  0.289834  0.371301       0                  0   \n",
       "3                   0.324508  0.289834  0.371301       0                  0   \n",
       "4                   0.441729  0.393158  0.371301       0                  0   \n",
       "...                      ...       ...       ...     ...                ...   \n",
       "119385              0.348844  0.393158  0.371301       0                  0   \n",
       "119386              0.348844  0.346824  0.371301       0                  0   \n",
       "119387              0.348844  0.393158  0.371301       0                  0   \n",
       "119388              0.348844  0.393158  0.371301       0                  0   \n",
       "119389              0.315430  0.393158  0.371301       0                  0   \n",
       "\n",
       "        previous_cancellations  previous_bookings_not_canceled  \\\n",
       "0                            0                               0   \n",
       "1                            0                               0   \n",
       "2                            0                               0   \n",
       "3                            0                               0   \n",
       "4                            0                               0   \n",
       "...                        ...                             ...   \n",
       "119385                       0                               0   \n",
       "119386                       0                               0   \n",
       "119387                       0                               0   \n",
       "119388                       0                               0   \n",
       "119389                       0                               0   \n",
       "\n",
       "        booking_changes  agent  company       adr  \\\n",
       "0                     3   14.0    178.0  0.000000   \n",
       "1                     4   14.0    178.0  0.000000   \n",
       "2                     0   14.0    178.0  1.673489   \n",
       "3                     0  304.0    178.0  1.673489   \n",
       "4                     0  240.0    178.0  1.721895   \n",
       "...                 ...    ...      ...       ...   \n",
       "119385                0  394.0    178.0  1.718499   \n",
       "119386                0    9.0    178.0  1.859797   \n",
       "119387                0    9.0    178.0  1.802877   \n",
       "119388                0   89.0    178.0  1.733029   \n",
       "119389                0    9.0    178.0  1.795950   \n",
       "\n",
       "        required_car_parking_spaces  total_of_special_requests  \\\n",
       "0                                 0                          0   \n",
       "1                                 0                          0   \n",
       "2                                 0                          0   \n",
       "3                                 0                          0   \n",
       "4                                 0                          1   \n",
       "...                             ...                        ...   \n",
       "119385                            0                          0   \n",
       "119386                            0                          2   \n",
       "119387                            0                          4   \n",
       "119388                            0                          0   \n",
       "119389                            0                          2   \n",
       "\n",
       "       reservation_status_date  \n",
       "0                     7/1/2015  \n",
       "1                     7/1/2015  \n",
       "2                     7/2/2015  \n",
       "3                     7/2/2015  \n",
       "4                     7/3/2015  \n",
       "...                        ...  \n",
       "119385                9/6/2017  \n",
       "119386                9/7/2017  \n",
       "119387                9/7/2017  \n",
       "119388                9/7/2017  \n",
       "119389                9/7/2017  \n",
       "\n",
       "[119209 rows x 19 columns]"
      ]
     },
     "execution_count": 82,
     "metadata": {},
     "output_type": "execute_result"
    }
   ],
   "source": [
    "final_data"
   ]
  },
  {
   "cell_type": "code",
   "execution_count": 83,
   "id": "8dd6c623",
   "metadata": {},
   "outputs": [],
   "source": [
    "x=final_data.drop('is_canceled',axis=1)\n",
    "y=final_data.is_canceled"
   ]
  },
  {
   "cell_type": "code",
   "execution_count": 84,
   "id": "3af0efa4",
   "metadata": {},
   "outputs": [
    {
     "data": {
      "text/html": [
       "<div>\n",
       "<style scoped>\n",
       "    .dataframe tbody tr th:only-of-type {\n",
       "        vertical-align: middle;\n",
       "    }\n",
       "\n",
       "    .dataframe tbody tr th {\n",
       "        vertical-align: top;\n",
       "    }\n",
       "\n",
       "    .dataframe thead th {\n",
       "        text-align: right;\n",
       "    }\n",
       "</style>\n",
       "<table border=\"1\" class=\"dataframe\">\n",
       "  <thead>\n",
       "    <tr style=\"text-align: right;\">\n",
       "      <th></th>\n",
       "      <th>lead_time</th>\n",
       "      <th>arrival_date_week_number</th>\n",
       "      <th>arrival_date_day_of_month</th>\n",
       "      <th>stays_in_weekend_nights</th>\n",
       "      <th>stays_in_week_nights</th>\n",
       "      <th>adults</th>\n",
       "      <th>children</th>\n",
       "      <th>babies</th>\n",
       "      <th>is_repeated_guest</th>\n",
       "      <th>previous_cancellations</th>\n",
       "      <th>previous_bookings_not_canceled</th>\n",
       "      <th>booking_changes</th>\n",
       "      <th>agent</th>\n",
       "      <th>company</th>\n",
       "      <th>adr</th>\n",
       "      <th>required_car_parking_spaces</th>\n",
       "      <th>total_of_special_requests</th>\n",
       "      <th>reservation_status_date</th>\n",
       "    </tr>\n",
       "  </thead>\n",
       "  <tbody>\n",
       "    <tr>\n",
       "      <th>0</th>\n",
       "      <td>0.717241</td>\n",
       "      <td>0.369745</td>\n",
       "      <td>0.398895</td>\n",
       "      <td>0.375470</td>\n",
       "      <td>0.250924</td>\n",
       "      <td>0.393158</td>\n",
       "      <td>0.371301</td>\n",
       "      <td>0</td>\n",
       "      <td>0</td>\n",
       "      <td>0</td>\n",
       "      <td>0</td>\n",
       "      <td>3</td>\n",
       "      <td>14.0</td>\n",
       "      <td>178.0</td>\n",
       "      <td>0.000000</td>\n",
       "      <td>0</td>\n",
       "      <td>0</td>\n",
       "      <td>7/1/2015</td>\n",
       "    </tr>\n",
       "    <tr>\n",
       "      <th>1</th>\n",
       "      <td>0.000000</td>\n",
       "      <td>0.369745</td>\n",
       "      <td>0.398895</td>\n",
       "      <td>0.375470</td>\n",
       "      <td>0.250924</td>\n",
       "      <td>0.393158</td>\n",
       "      <td>0.371301</td>\n",
       "      <td>0</td>\n",
       "      <td>0</td>\n",
       "      <td>0</td>\n",
       "      <td>0</td>\n",
       "      <td>4</td>\n",
       "      <td>14.0</td>\n",
       "      <td>178.0</td>\n",
       "      <td>0.000000</td>\n",
       "      <td>0</td>\n",
       "      <td>0</td>\n",
       "      <td>7/1/2015</td>\n",
       "    </tr>\n",
       "    <tr>\n",
       "      <th>2</th>\n",
       "      <td>0.129421</td>\n",
       "      <td>0.369745</td>\n",
       "      <td>0.398895</td>\n",
       "      <td>0.375470</td>\n",
       "      <td>0.324508</td>\n",
       "      <td>0.289834</td>\n",
       "      <td>0.371301</td>\n",
       "      <td>0</td>\n",
       "      <td>0</td>\n",
       "      <td>0</td>\n",
       "      <td>0</td>\n",
       "      <td>0</td>\n",
       "      <td>14.0</td>\n",
       "      <td>178.0</td>\n",
       "      <td>1.673489</td>\n",
       "      <td>0</td>\n",
       "      <td>0</td>\n",
       "      <td>7/2/2015</td>\n",
       "    </tr>\n",
       "    <tr>\n",
       "      <th>3</th>\n",
       "      <td>0.204629</td>\n",
       "      <td>0.369745</td>\n",
       "      <td>0.398895</td>\n",
       "      <td>0.375470</td>\n",
       "      <td>0.324508</td>\n",
       "      <td>0.289834</td>\n",
       "      <td>0.371301</td>\n",
       "      <td>0</td>\n",
       "      <td>0</td>\n",
       "      <td>0</td>\n",
       "      <td>0</td>\n",
       "      <td>0</td>\n",
       "      <td>304.0</td>\n",
       "      <td>178.0</td>\n",
       "      <td>1.673489</td>\n",
       "      <td>0</td>\n",
       "      <td>0</td>\n",
       "      <td>7/2/2015</td>\n",
       "    </tr>\n",
       "    <tr>\n",
       "      <th>4</th>\n",
       "      <td>0.223029</td>\n",
       "      <td>0.369745</td>\n",
       "      <td>0.398895</td>\n",
       "      <td>0.375470</td>\n",
       "      <td>0.441729</td>\n",
       "      <td>0.393158</td>\n",
       "      <td>0.371301</td>\n",
       "      <td>0</td>\n",
       "      <td>0</td>\n",
       "      <td>0</td>\n",
       "      <td>0</td>\n",
       "      <td>0</td>\n",
       "      <td>240.0</td>\n",
       "      <td>178.0</td>\n",
       "      <td>1.721895</td>\n",
       "      <td>0</td>\n",
       "      <td>1</td>\n",
       "      <td>7/3/2015</td>\n",
       "    </tr>\n",
       "    <tr>\n",
       "      <th>...</th>\n",
       "      <td>...</td>\n",
       "      <td>...</td>\n",
       "      <td>...</td>\n",
       "      <td>...</td>\n",
       "      <td>...</td>\n",
       "      <td>...</td>\n",
       "      <td>...</td>\n",
       "      <td>...</td>\n",
       "      <td>...</td>\n",
       "      <td>...</td>\n",
       "      <td>...</td>\n",
       "      <td>...</td>\n",
       "      <td>...</td>\n",
       "      <td>...</td>\n",
       "      <td>...</td>\n",
       "      <td>...</td>\n",
       "      <td>...</td>\n",
       "      <td>...</td>\n",
       "    </tr>\n",
       "    <tr>\n",
       "      <th>119385</th>\n",
       "      <td>0.329705</td>\n",
       "      <td>0.356784</td>\n",
       "      <td>0.380593</td>\n",
       "      <td>0.375068</td>\n",
       "      <td>0.348844</td>\n",
       "      <td>0.393158</td>\n",
       "      <td>0.371301</td>\n",
       "      <td>0</td>\n",
       "      <td>0</td>\n",
       "      <td>0</td>\n",
       "      <td>0</td>\n",
       "      <td>0</td>\n",
       "      <td>394.0</td>\n",
       "      <td>178.0</td>\n",
       "      <td>1.718499</td>\n",
       "      <td>0</td>\n",
       "      <td>0</td>\n",
       "      <td>9/6/2017</td>\n",
       "    </tr>\n",
       "    <tr>\n",
       "      <th>119386</th>\n",
       "      <td>0.441048</td>\n",
       "      <td>0.356784</td>\n",
       "      <td>0.344359</td>\n",
       "      <td>0.375068</td>\n",
       "      <td>0.348844</td>\n",
       "      <td>0.346824</td>\n",
       "      <td>0.371301</td>\n",
       "      <td>0</td>\n",
       "      <td>0</td>\n",
       "      <td>0</td>\n",
       "      <td>0</td>\n",
       "      <td>0</td>\n",
       "      <td>9.0</td>\n",
       "      <td>178.0</td>\n",
       "      <td>1.859797</td>\n",
       "      <td>0</td>\n",
       "      <td>2</td>\n",
       "      <td>9/7/2017</td>\n",
       "    </tr>\n",
       "    <tr>\n",
       "      <th>119387</th>\n",
       "      <td>0.398551</td>\n",
       "      <td>0.356784</td>\n",
       "      <td>0.344359</td>\n",
       "      <td>0.375068</td>\n",
       "      <td>0.348844</td>\n",
       "      <td>0.393158</td>\n",
       "      <td>0.371301</td>\n",
       "      <td>0</td>\n",
       "      <td>0</td>\n",
       "      <td>0</td>\n",
       "      <td>0</td>\n",
       "      <td>0</td>\n",
       "      <td>9.0</td>\n",
       "      <td>178.0</td>\n",
       "      <td>1.802877</td>\n",
       "      <td>0</td>\n",
       "      <td>4</td>\n",
       "      <td>9/7/2017</td>\n",
       "    </tr>\n",
       "    <tr>\n",
       "      <th>119388</th>\n",
       "      <td>0.444444</td>\n",
       "      <td>0.356784</td>\n",
       "      <td>0.344359</td>\n",
       "      <td>0.375068</td>\n",
       "      <td>0.348844</td>\n",
       "      <td>0.393158</td>\n",
       "      <td>0.371301</td>\n",
       "      <td>0</td>\n",
       "      <td>0</td>\n",
       "      <td>0</td>\n",
       "      <td>0</td>\n",
       "      <td>0</td>\n",
       "      <td>89.0</td>\n",
       "      <td>178.0</td>\n",
       "      <td>1.733029</td>\n",
       "      <td>0</td>\n",
       "      <td>0</td>\n",
       "      <td>9/7/2017</td>\n",
       "    </tr>\n",
       "    <tr>\n",
       "      <th>119389</th>\n",
       "      <td>0.577922</td>\n",
       "      <td>0.356784</td>\n",
       "      <td>0.352514</td>\n",
       "      <td>0.375068</td>\n",
       "      <td>0.315430</td>\n",
       "      <td>0.393158</td>\n",
       "      <td>0.371301</td>\n",
       "      <td>0</td>\n",
       "      <td>0</td>\n",
       "      <td>0</td>\n",
       "      <td>0</td>\n",
       "      <td>0</td>\n",
       "      <td>9.0</td>\n",
       "      <td>178.0</td>\n",
       "      <td>1.795950</td>\n",
       "      <td>0</td>\n",
       "      <td>2</td>\n",
       "      <td>9/7/2017</td>\n",
       "    </tr>\n",
       "  </tbody>\n",
       "</table>\n",
       "<p>119209 rows × 18 columns</p>\n",
       "</div>"
      ],
      "text/plain": [
       "        lead_time  arrival_date_week_number  arrival_date_day_of_month  \\\n",
       "0        0.717241                  0.369745                   0.398895   \n",
       "1        0.000000                  0.369745                   0.398895   \n",
       "2        0.129421                  0.369745                   0.398895   \n",
       "3        0.204629                  0.369745                   0.398895   \n",
       "4        0.223029                  0.369745                   0.398895   \n",
       "...           ...                       ...                        ...   \n",
       "119385   0.329705                  0.356784                   0.380593   \n",
       "119386   0.441048                  0.356784                   0.344359   \n",
       "119387   0.398551                  0.356784                   0.344359   \n",
       "119388   0.444444                  0.356784                   0.344359   \n",
       "119389   0.577922                  0.356784                   0.352514   \n",
       "\n",
       "        stays_in_weekend_nights  stays_in_week_nights    adults  children  \\\n",
       "0                      0.375470              0.250924  0.393158  0.371301   \n",
       "1                      0.375470              0.250924  0.393158  0.371301   \n",
       "2                      0.375470              0.324508  0.289834  0.371301   \n",
       "3                      0.375470              0.324508  0.289834  0.371301   \n",
       "4                      0.375470              0.441729  0.393158  0.371301   \n",
       "...                         ...                   ...       ...       ...   \n",
       "119385                 0.375068              0.348844  0.393158  0.371301   \n",
       "119386                 0.375068              0.348844  0.346824  0.371301   \n",
       "119387                 0.375068              0.348844  0.393158  0.371301   \n",
       "119388                 0.375068              0.348844  0.393158  0.371301   \n",
       "119389                 0.375068              0.315430  0.393158  0.371301   \n",
       "\n",
       "        babies  is_repeated_guest  previous_cancellations  \\\n",
       "0            0                  0                       0   \n",
       "1            0                  0                       0   \n",
       "2            0                  0                       0   \n",
       "3            0                  0                       0   \n",
       "4            0                  0                       0   \n",
       "...        ...                ...                     ...   \n",
       "119385       0                  0                       0   \n",
       "119386       0                  0                       0   \n",
       "119387       0                  0                       0   \n",
       "119388       0                  0                       0   \n",
       "119389       0                  0                       0   \n",
       "\n",
       "        previous_bookings_not_canceled  booking_changes  agent  company  \\\n",
       "0                                    0                3   14.0    178.0   \n",
       "1                                    0                4   14.0    178.0   \n",
       "2                                    0                0   14.0    178.0   \n",
       "3                                    0                0  304.0    178.0   \n",
       "4                                    0                0  240.0    178.0   \n",
       "...                                ...              ...    ...      ...   \n",
       "119385                               0                0  394.0    178.0   \n",
       "119386                               0                0    9.0    178.0   \n",
       "119387                               0                0    9.0    178.0   \n",
       "119388                               0                0   89.0    178.0   \n",
       "119389                               0                0    9.0    178.0   \n",
       "\n",
       "             adr  required_car_parking_spaces  total_of_special_requests  \\\n",
       "0       0.000000                            0                          0   \n",
       "1       0.000000                            0                          0   \n",
       "2       1.673489                            0                          0   \n",
       "3       1.673489                            0                          0   \n",
       "4       1.721895                            0                          1   \n",
       "...          ...                          ...                        ...   \n",
       "119385  1.718499                            0                          0   \n",
       "119386  1.859797                            0                          2   \n",
       "119387  1.802877                            0                          4   \n",
       "119388  1.733029                            0                          0   \n",
       "119389  1.795950                            0                          2   \n",
       "\n",
       "       reservation_status_date  \n",
       "0                     7/1/2015  \n",
       "1                     7/1/2015  \n",
       "2                     7/2/2015  \n",
       "3                     7/2/2015  \n",
       "4                     7/3/2015  \n",
       "...                        ...  \n",
       "119385                9/6/2017  \n",
       "119386                9/7/2017  \n",
       "119387                9/7/2017  \n",
       "119388                9/7/2017  \n",
       "119389                9/7/2017  \n",
       "\n",
       "[119209 rows x 18 columns]"
      ]
     },
     "execution_count": 84,
     "metadata": {},
     "output_type": "execute_result"
    }
   ],
   "source": [
    "x"
   ]
  },
  {
   "cell_type": "code",
   "execution_count": 85,
   "id": "bf19f798",
   "metadata": {},
   "outputs": [
    {
     "data": {
      "text/plain": [
       "0         0.0\n",
       "1         0.0\n",
       "2         0.0\n",
       "3         0.0\n",
       "4         0.0\n",
       "         ... \n",
       "119385    0.0\n",
       "119386    0.0\n",
       "119387    0.0\n",
       "119388    0.0\n",
       "119389    0.0\n",
       "Name: is_canceled, Length: 119209, dtype: float64"
      ]
     },
     "execution_count": 85,
     "metadata": {},
     "output_type": "execute_result"
    }
   ],
   "source": [
    "y"
   ]
  },
  {
   "cell_type": "code",
   "execution_count": 86,
   "id": "7db54ae6",
   "metadata": {},
   "outputs": [
    {
     "data": {
      "text/plain": [
       "is_canceled                       0\n",
       "lead_time                         0\n",
       "arrival_date_week_number          0\n",
       "arrival_date_day_of_month         0\n",
       "stays_in_weekend_nights           0\n",
       "stays_in_week_nights              0\n",
       "adults                            0\n",
       "children                          0\n",
       "babies                            0\n",
       "is_repeated_guest                 0\n",
       "previous_cancellations            0\n",
       "previous_bookings_not_canceled    0\n",
       "booking_changes                   0\n",
       "agent                             0\n",
       "company                           0\n",
       "adr                               0\n",
       "required_car_parking_spaces       0\n",
       "total_of_special_requests         0\n",
       "reservation_status_date           0\n",
       "dtype: int64"
      ]
     },
     "execution_count": 86,
     "metadata": {},
     "output_type": "execute_result"
    }
   ],
   "source": [
    "final_data.isna().sum()"
   ]
  },
  {
   "cell_type": "code",
   "execution_count": 87,
   "id": "b8651c0c",
   "metadata": {
    "scrolled": true
   },
   "outputs": [
    {
     "data": {
      "text/plain": [
       "is_canceled                       float64\n",
       "lead_time                         float64\n",
       "arrival_date_week_number          float64\n",
       "arrival_date_day_of_month         float64\n",
       "stays_in_weekend_nights           float64\n",
       "stays_in_week_nights              float64\n",
       "adults                            float64\n",
       "children                          float64\n",
       "babies                              int64\n",
       "is_repeated_guest                   int64\n",
       "previous_cancellations              int64\n",
       "previous_bookings_not_canceled      int64\n",
       "booking_changes                     int64\n",
       "agent                             float64\n",
       "company                           float64\n",
       "adr                               float64\n",
       "required_car_parking_spaces         int64\n",
       "total_of_special_requests           int64\n",
       "reservation_status_date            object\n",
       "dtype: object"
      ]
     },
     "execution_count": 87,
     "metadata": {},
     "output_type": "execute_result"
    }
   ],
   "source": [
    "final_data.dtypes"
   ]
  },
  {
   "cell_type": "code",
   "execution_count": 88,
   "id": "32b3bc87",
   "metadata": {
    "scrolled": true
   },
   "outputs": [
    {
     "data": {
      "text/plain": [
       "0"
      ]
     },
     "execution_count": 88,
     "metadata": {},
     "output_type": "execute_result"
    }
   ],
   "source": [
    "x.isna().sum().sum()"
   ]
  },
  {
   "cell_type": "code",
   "execution_count": 89,
   "id": "e4d8d94e",
   "metadata": {},
   "outputs": [
    {
     "data": {
      "text/plain": [
       "Index(['lead_time', 'arrival_date_week_number', 'arrival_date_day_of_month',\n",
       "       'stays_in_weekend_nights', 'stays_in_week_nights', 'adults', 'children',\n",
       "       'babies', 'is_repeated_guest', 'previous_cancellations',\n",
       "       'previous_bookings_not_canceled', 'booking_changes', 'agent', 'company',\n",
       "       'adr', 'required_car_parking_spaces', 'total_of_special_requests',\n",
       "       'reservation_status_date'],\n",
       "      dtype='object')"
      ]
     },
     "execution_count": 89,
     "metadata": {},
     "output_type": "execute_result"
    }
   ],
   "source": [
    "x.columns"
   ]
  },
  {
   "cell_type": "code",
   "execution_count": 90,
   "id": "995cb6c5",
   "metadata": {
    "scrolled": false
   },
   "outputs": [
    {
     "data": {
      "text/plain": [
       "lead_time                         float64\n",
       "arrival_date_week_number          float64\n",
       "arrival_date_day_of_month         float64\n",
       "stays_in_weekend_nights           float64\n",
       "stays_in_week_nights              float64\n",
       "adults                            float64\n",
       "children                          float64\n",
       "babies                              int64\n",
       "is_repeated_guest                   int64\n",
       "previous_cancellations              int64\n",
       "previous_bookings_not_canceled      int64\n",
       "booking_changes                     int64\n",
       "agent                             float64\n",
       "company                           float64\n",
       "adr                               float64\n",
       "required_car_parking_spaces         int64\n",
       "total_of_special_requests           int64\n",
       "reservation_status_date            object\n",
       "dtype: object"
      ]
     },
     "execution_count": 90,
     "metadata": {},
     "output_type": "execute_result"
    }
   ],
   "source": [
    "x.dtypes"
   ]
  },
  {
   "cell_type": "code",
   "execution_count": 91,
   "id": "0c87ee74",
   "metadata": {},
   "outputs": [
    {
     "data": {
      "text/plain": [
       "array(['7/1/2015', '7/1/2015', '7/2/2015', ..., '9/7/2017', '9/7/2017',\n",
       "       '9/7/2017'], dtype=object)"
      ]
     },
     "execution_count": 91,
     "metadata": {},
     "output_type": "execute_result"
    }
   ],
   "source": [
    "final_data.reservation_status_date.values"
   ]
  },
  {
   "cell_type": "code",
   "execution_count": 92,
   "id": "345706ad",
   "metadata": {},
   "outputs": [
    {
     "data": {
      "text/html": [
       "<div>\n",
       "<style scoped>\n",
       "    .dataframe tbody tr th:only-of-type {\n",
       "        vertical-align: middle;\n",
       "    }\n",
       "\n",
       "    .dataframe tbody tr th {\n",
       "        vertical-align: top;\n",
       "    }\n",
       "\n",
       "    .dataframe thead th {\n",
       "        text-align: right;\n",
       "    }\n",
       "</style>\n",
       "<table border=\"1\" class=\"dataframe\">\n",
       "  <thead>\n",
       "    <tr style=\"text-align: right;\">\n",
       "      <th></th>\n",
       "      <th>lead_time</th>\n",
       "      <th>arrival_date_week_number</th>\n",
       "      <th>arrival_date_day_of_month</th>\n",
       "      <th>stays_in_weekend_nights</th>\n",
       "      <th>stays_in_week_nights</th>\n",
       "      <th>adults</th>\n",
       "      <th>children</th>\n",
       "      <th>babies</th>\n",
       "      <th>is_repeated_guest</th>\n",
       "      <th>previous_cancellations</th>\n",
       "      <th>previous_bookings_not_canceled</th>\n",
       "      <th>booking_changes</th>\n",
       "      <th>agent</th>\n",
       "      <th>company</th>\n",
       "      <th>adr</th>\n",
       "      <th>required_car_parking_spaces</th>\n",
       "      <th>total_of_special_requests</th>\n",
       "      <th>reservation_status_day</th>\n",
       "      <th>reservation_status_month</th>\n",
       "      <th>reservation_status_year</th>\n",
       "    </tr>\n",
       "  </thead>\n",
       "  <tbody>\n",
       "    <tr>\n",
       "      <th>0</th>\n",
       "      <td>0.717241</td>\n",
       "      <td>0.369745</td>\n",
       "      <td>0.398895</td>\n",
       "      <td>0.375470</td>\n",
       "      <td>0.250924</td>\n",
       "      <td>0.393158</td>\n",
       "      <td>0.371301</td>\n",
       "      <td>0</td>\n",
       "      <td>0</td>\n",
       "      <td>0</td>\n",
       "      <td>0</td>\n",
       "      <td>3</td>\n",
       "      <td>14.0</td>\n",
       "      <td>178.0</td>\n",
       "      <td>0.000000</td>\n",
       "      <td>0</td>\n",
       "      <td>0</td>\n",
       "      <td>9</td>\n",
       "      <td>7</td>\n",
       "      <td>2017</td>\n",
       "    </tr>\n",
       "    <tr>\n",
       "      <th>1</th>\n",
       "      <td>0.000000</td>\n",
       "      <td>0.369745</td>\n",
       "      <td>0.398895</td>\n",
       "      <td>0.375470</td>\n",
       "      <td>0.250924</td>\n",
       "      <td>0.393158</td>\n",
       "      <td>0.371301</td>\n",
       "      <td>0</td>\n",
       "      <td>0</td>\n",
       "      <td>0</td>\n",
       "      <td>0</td>\n",
       "      <td>4</td>\n",
       "      <td>14.0</td>\n",
       "      <td>178.0</td>\n",
       "      <td>0.000000</td>\n",
       "      <td>0</td>\n",
       "      <td>0</td>\n",
       "      <td>9</td>\n",
       "      <td>7</td>\n",
       "      <td>2017</td>\n",
       "    </tr>\n",
       "    <tr>\n",
       "      <th>2</th>\n",
       "      <td>0.129421</td>\n",
       "      <td>0.369745</td>\n",
       "      <td>0.398895</td>\n",
       "      <td>0.375470</td>\n",
       "      <td>0.324508</td>\n",
       "      <td>0.289834</td>\n",
       "      <td>0.371301</td>\n",
       "      <td>0</td>\n",
       "      <td>0</td>\n",
       "      <td>0</td>\n",
       "      <td>0</td>\n",
       "      <td>0</td>\n",
       "      <td>14.0</td>\n",
       "      <td>178.0</td>\n",
       "      <td>1.673489</td>\n",
       "      <td>0</td>\n",
       "      <td>0</td>\n",
       "      <td>9</td>\n",
       "      <td>7</td>\n",
       "      <td>2017</td>\n",
       "    </tr>\n",
       "    <tr>\n",
       "      <th>3</th>\n",
       "      <td>0.204629</td>\n",
       "      <td>0.369745</td>\n",
       "      <td>0.398895</td>\n",
       "      <td>0.375470</td>\n",
       "      <td>0.324508</td>\n",
       "      <td>0.289834</td>\n",
       "      <td>0.371301</td>\n",
       "      <td>0</td>\n",
       "      <td>0</td>\n",
       "      <td>0</td>\n",
       "      <td>0</td>\n",
       "      <td>0</td>\n",
       "      <td>304.0</td>\n",
       "      <td>178.0</td>\n",
       "      <td>1.673489</td>\n",
       "      <td>0</td>\n",
       "      <td>0</td>\n",
       "      <td>9</td>\n",
       "      <td>7</td>\n",
       "      <td>2017</td>\n",
       "    </tr>\n",
       "    <tr>\n",
       "      <th>4</th>\n",
       "      <td>0.223029</td>\n",
       "      <td>0.369745</td>\n",
       "      <td>0.398895</td>\n",
       "      <td>0.375470</td>\n",
       "      <td>0.441729</td>\n",
       "      <td>0.393158</td>\n",
       "      <td>0.371301</td>\n",
       "      <td>0</td>\n",
       "      <td>0</td>\n",
       "      <td>0</td>\n",
       "      <td>0</td>\n",
       "      <td>0</td>\n",
       "      <td>240.0</td>\n",
       "      <td>178.0</td>\n",
       "      <td>1.721895</td>\n",
       "      <td>0</td>\n",
       "      <td>1</td>\n",
       "      <td>9</td>\n",
       "      <td>7</td>\n",
       "      <td>2017</td>\n",
       "    </tr>\n",
       "    <tr>\n",
       "      <th>...</th>\n",
       "      <td>...</td>\n",
       "      <td>...</td>\n",
       "      <td>...</td>\n",
       "      <td>...</td>\n",
       "      <td>...</td>\n",
       "      <td>...</td>\n",
       "      <td>...</td>\n",
       "      <td>...</td>\n",
       "      <td>...</td>\n",
       "      <td>...</td>\n",
       "      <td>...</td>\n",
       "      <td>...</td>\n",
       "      <td>...</td>\n",
       "      <td>...</td>\n",
       "      <td>...</td>\n",
       "      <td>...</td>\n",
       "      <td>...</td>\n",
       "      <td>...</td>\n",
       "      <td>...</td>\n",
       "      <td>...</td>\n",
       "    </tr>\n",
       "    <tr>\n",
       "      <th>119385</th>\n",
       "      <td>0.329705</td>\n",
       "      <td>0.356784</td>\n",
       "      <td>0.380593</td>\n",
       "      <td>0.375068</td>\n",
       "      <td>0.348844</td>\n",
       "      <td>0.393158</td>\n",
       "      <td>0.371301</td>\n",
       "      <td>0</td>\n",
       "      <td>0</td>\n",
       "      <td>0</td>\n",
       "      <td>0</td>\n",
       "      <td>0</td>\n",
       "      <td>394.0</td>\n",
       "      <td>178.0</td>\n",
       "      <td>1.718499</td>\n",
       "      <td>0</td>\n",
       "      <td>0</td>\n",
       "      <td>9</td>\n",
       "      <td>7</td>\n",
       "      <td>2017</td>\n",
       "    </tr>\n",
       "    <tr>\n",
       "      <th>119386</th>\n",
       "      <td>0.441048</td>\n",
       "      <td>0.356784</td>\n",
       "      <td>0.344359</td>\n",
       "      <td>0.375068</td>\n",
       "      <td>0.348844</td>\n",
       "      <td>0.346824</td>\n",
       "      <td>0.371301</td>\n",
       "      <td>0</td>\n",
       "      <td>0</td>\n",
       "      <td>0</td>\n",
       "      <td>0</td>\n",
       "      <td>0</td>\n",
       "      <td>9.0</td>\n",
       "      <td>178.0</td>\n",
       "      <td>1.859797</td>\n",
       "      <td>0</td>\n",
       "      <td>2</td>\n",
       "      <td>9</td>\n",
       "      <td>7</td>\n",
       "      <td>2017</td>\n",
       "    </tr>\n",
       "    <tr>\n",
       "      <th>119387</th>\n",
       "      <td>0.398551</td>\n",
       "      <td>0.356784</td>\n",
       "      <td>0.344359</td>\n",
       "      <td>0.375068</td>\n",
       "      <td>0.348844</td>\n",
       "      <td>0.393158</td>\n",
       "      <td>0.371301</td>\n",
       "      <td>0</td>\n",
       "      <td>0</td>\n",
       "      <td>0</td>\n",
       "      <td>0</td>\n",
       "      <td>0</td>\n",
       "      <td>9.0</td>\n",
       "      <td>178.0</td>\n",
       "      <td>1.802877</td>\n",
       "      <td>0</td>\n",
       "      <td>4</td>\n",
       "      <td>9</td>\n",
       "      <td>7</td>\n",
       "      <td>2017</td>\n",
       "    </tr>\n",
       "    <tr>\n",
       "      <th>119388</th>\n",
       "      <td>0.444444</td>\n",
       "      <td>0.356784</td>\n",
       "      <td>0.344359</td>\n",
       "      <td>0.375068</td>\n",
       "      <td>0.348844</td>\n",
       "      <td>0.393158</td>\n",
       "      <td>0.371301</td>\n",
       "      <td>0</td>\n",
       "      <td>0</td>\n",
       "      <td>0</td>\n",
       "      <td>0</td>\n",
       "      <td>0</td>\n",
       "      <td>89.0</td>\n",
       "      <td>178.0</td>\n",
       "      <td>1.733029</td>\n",
       "      <td>0</td>\n",
       "      <td>0</td>\n",
       "      <td>9</td>\n",
       "      <td>7</td>\n",
       "      <td>2017</td>\n",
       "    </tr>\n",
       "    <tr>\n",
       "      <th>119389</th>\n",
       "      <td>0.577922</td>\n",
       "      <td>0.356784</td>\n",
       "      <td>0.352514</td>\n",
       "      <td>0.375068</td>\n",
       "      <td>0.315430</td>\n",
       "      <td>0.393158</td>\n",
       "      <td>0.371301</td>\n",
       "      <td>0</td>\n",
       "      <td>0</td>\n",
       "      <td>0</td>\n",
       "      <td>0</td>\n",
       "      <td>0</td>\n",
       "      <td>9.0</td>\n",
       "      <td>178.0</td>\n",
       "      <td>1.795950</td>\n",
       "      <td>0</td>\n",
       "      <td>2</td>\n",
       "      <td>9</td>\n",
       "      <td>7</td>\n",
       "      <td>2017</td>\n",
       "    </tr>\n",
       "  </tbody>\n",
       "</table>\n",
       "<p>119209 rows × 20 columns</p>\n",
       "</div>"
      ],
      "text/plain": [
       "        lead_time  arrival_date_week_number  arrival_date_day_of_month  \\\n",
       "0        0.717241                  0.369745                   0.398895   \n",
       "1        0.000000                  0.369745                   0.398895   \n",
       "2        0.129421                  0.369745                   0.398895   \n",
       "3        0.204629                  0.369745                   0.398895   \n",
       "4        0.223029                  0.369745                   0.398895   \n",
       "...           ...                       ...                        ...   \n",
       "119385   0.329705                  0.356784                   0.380593   \n",
       "119386   0.441048                  0.356784                   0.344359   \n",
       "119387   0.398551                  0.356784                   0.344359   \n",
       "119388   0.444444                  0.356784                   0.344359   \n",
       "119389   0.577922                  0.356784                   0.352514   \n",
       "\n",
       "        stays_in_weekend_nights  stays_in_week_nights    adults  children  \\\n",
       "0                      0.375470              0.250924  0.393158  0.371301   \n",
       "1                      0.375470              0.250924  0.393158  0.371301   \n",
       "2                      0.375470              0.324508  0.289834  0.371301   \n",
       "3                      0.375470              0.324508  0.289834  0.371301   \n",
       "4                      0.375470              0.441729  0.393158  0.371301   \n",
       "...                         ...                   ...       ...       ...   \n",
       "119385                 0.375068              0.348844  0.393158  0.371301   \n",
       "119386                 0.375068              0.348844  0.346824  0.371301   \n",
       "119387                 0.375068              0.348844  0.393158  0.371301   \n",
       "119388                 0.375068              0.348844  0.393158  0.371301   \n",
       "119389                 0.375068              0.315430  0.393158  0.371301   \n",
       "\n",
       "        babies  is_repeated_guest  previous_cancellations  \\\n",
       "0            0                  0                       0   \n",
       "1            0                  0                       0   \n",
       "2            0                  0                       0   \n",
       "3            0                  0                       0   \n",
       "4            0                  0                       0   \n",
       "...        ...                ...                     ...   \n",
       "119385       0                  0                       0   \n",
       "119386       0                  0                       0   \n",
       "119387       0                  0                       0   \n",
       "119388       0                  0                       0   \n",
       "119389       0                  0                       0   \n",
       "\n",
       "        previous_bookings_not_canceled  booking_changes  agent  company  \\\n",
       "0                                    0                3   14.0    178.0   \n",
       "1                                    0                4   14.0    178.0   \n",
       "2                                    0                0   14.0    178.0   \n",
       "3                                    0                0  304.0    178.0   \n",
       "4                                    0                0  240.0    178.0   \n",
       "...                                ...              ...    ...      ...   \n",
       "119385                               0                0  394.0    178.0   \n",
       "119386                               0                0    9.0    178.0   \n",
       "119387                               0                0    9.0    178.0   \n",
       "119388                               0                0   89.0    178.0   \n",
       "119389                               0                0    9.0    178.0   \n",
       "\n",
       "             adr  required_car_parking_spaces  total_of_special_requests  \\\n",
       "0       0.000000                            0                          0   \n",
       "1       0.000000                            0                          0   \n",
       "2       1.673489                            0                          0   \n",
       "3       1.673489                            0                          0   \n",
       "4       1.721895                            0                          1   \n",
       "...          ...                          ...                        ...   \n",
       "119385  1.718499                            0                          0   \n",
       "119386  1.859797                            0                          2   \n",
       "119387  1.802877                            0                          4   \n",
       "119388  1.733029                            0                          0   \n",
       "119389  1.795950                            0                          2   \n",
       "\n",
       "        reservation_status_day  reservation_status_month  \\\n",
       "0                            9                         7   \n",
       "1                            9                         7   \n",
       "2                            9                         7   \n",
       "3                            9                         7   \n",
       "4                            9                         7   \n",
       "...                        ...                       ...   \n",
       "119385                       9                         7   \n",
       "119386                       9                         7   \n",
       "119387                       9                         7   \n",
       "119388                       9                         7   \n",
       "119389                       9                         7   \n",
       "\n",
       "        reservation_status_year  \n",
       "0                          2017  \n",
       "1                          2017  \n",
       "2                          2017  \n",
       "3                          2017  \n",
       "4                          2017  \n",
       "...                         ...  \n",
       "119385                     2017  \n",
       "119386                     2017  \n",
       "119387                     2017  \n",
       "119388                     2017  \n",
       "119389                     2017  \n",
       "\n",
       "[119209 rows x 20 columns]"
      ]
     },
     "execution_count": 92,
     "metadata": {},
     "output_type": "execute_result"
    }
   ],
   "source": [
    "for i in final_data.reservation_status_date.values:\n",
    "    split_val=i.split('/')\n",
    "    x['reservation_status'+'_day']=int(split_val[0])\n",
    "    x['reservation_status'+'_month']=int(split_val[1])\n",
    "    x['reservation_status'+'_year']=int(split_val[2])\n",
    "x=x.drop('reservation_status_date',axis=1)\n",
    "x"
   ]
  },
  {
   "cell_type": "code",
   "execution_count": 95,
   "id": "0b15c28e",
   "metadata": {
    "scrolled": false
   },
   "outputs": [
    {
     "data": {
      "text/plain": [
       "0"
      ]
     },
     "execution_count": 95,
     "metadata": {},
     "output_type": "execute_result"
    }
   ],
   "source": [
    "x.isna().sum().sum()"
   ]
  },
  {
   "cell_type": "markdown",
   "id": "bfe5a29f",
   "metadata": {},
   "source": [
    "## Lasso Regression"
   ]
  },
  {
   "cell_type": "code",
   "execution_count": 96,
   "id": "0a4d913a",
   "metadata": {},
   "outputs": [],
   "source": [
    "from sklearn.linear_model import Lasso\n",
    "from sklearn.feature_selection import SelectFromModel"
   ]
  },
  {
   "cell_type": "code",
   "execution_count": 97,
   "id": "8bcd7f04",
   "metadata": {},
   "outputs": [],
   "source": [
    "feature_sel_model = SelectFromModel(Lasso(alpha = 0.005, random_state = 0))"
   ]
  },
  {
   "cell_type": "code",
   "execution_count": 98,
   "id": "477e9426",
   "metadata": {},
   "outputs": [
    {
     "data": {
      "text/html": [
       "<style>#sk-container-id-1 {color: black;background-color: white;}#sk-container-id-1 pre{padding: 0;}#sk-container-id-1 div.sk-toggleable {background-color: white;}#sk-container-id-1 label.sk-toggleable__label {cursor: pointer;display: block;width: 100%;margin-bottom: 0;padding: 0.3em;box-sizing: border-box;text-align: center;}#sk-container-id-1 label.sk-toggleable__label-arrow:before {content: \"▸\";float: left;margin-right: 0.25em;color: #696969;}#sk-container-id-1 label.sk-toggleable__label-arrow:hover:before {color: black;}#sk-container-id-1 div.sk-estimator:hover label.sk-toggleable__label-arrow:before {color: black;}#sk-container-id-1 div.sk-toggleable__content {max-height: 0;max-width: 0;overflow: hidden;text-align: left;background-color: #f0f8ff;}#sk-container-id-1 div.sk-toggleable__content pre {margin: 0.2em;color: black;border-radius: 0.25em;background-color: #f0f8ff;}#sk-container-id-1 input.sk-toggleable__control:checked~div.sk-toggleable__content {max-height: 200px;max-width: 100%;overflow: auto;}#sk-container-id-1 input.sk-toggleable__control:checked~label.sk-toggleable__label-arrow:before {content: \"▾\";}#sk-container-id-1 div.sk-estimator input.sk-toggleable__control:checked~label.sk-toggleable__label {background-color: #d4ebff;}#sk-container-id-1 div.sk-label input.sk-toggleable__control:checked~label.sk-toggleable__label {background-color: #d4ebff;}#sk-container-id-1 input.sk-hidden--visually {border: 0;clip: rect(1px 1px 1px 1px);clip: rect(1px, 1px, 1px, 1px);height: 1px;margin: -1px;overflow: hidden;padding: 0;position: absolute;width: 1px;}#sk-container-id-1 div.sk-estimator {font-family: monospace;background-color: #f0f8ff;border: 1px dotted black;border-radius: 0.25em;box-sizing: border-box;margin-bottom: 0.5em;}#sk-container-id-1 div.sk-estimator:hover {background-color: #d4ebff;}#sk-container-id-1 div.sk-parallel-item::after {content: \"\";width: 100%;border-bottom: 1px solid gray;flex-grow: 1;}#sk-container-id-1 div.sk-label:hover label.sk-toggleable__label {background-color: #d4ebff;}#sk-container-id-1 div.sk-serial::before {content: \"\";position: absolute;border-left: 1px solid gray;box-sizing: border-box;top: 0;bottom: 0;left: 50%;z-index: 0;}#sk-container-id-1 div.sk-serial {display: flex;flex-direction: column;align-items: center;background-color: white;padding-right: 0.2em;padding-left: 0.2em;position: relative;}#sk-container-id-1 div.sk-item {position: relative;z-index: 1;}#sk-container-id-1 div.sk-parallel {display: flex;align-items: stretch;justify-content: center;background-color: white;position: relative;}#sk-container-id-1 div.sk-item::before, #sk-container-id-1 div.sk-parallel-item::before {content: \"\";position: absolute;border-left: 1px solid gray;box-sizing: border-box;top: 0;bottom: 0;left: 50%;z-index: -1;}#sk-container-id-1 div.sk-parallel-item {display: flex;flex-direction: column;z-index: 1;position: relative;background-color: white;}#sk-container-id-1 div.sk-parallel-item:first-child::after {align-self: flex-end;width: 50%;}#sk-container-id-1 div.sk-parallel-item:last-child::after {align-self: flex-start;width: 50%;}#sk-container-id-1 div.sk-parallel-item:only-child::after {width: 0;}#sk-container-id-1 div.sk-dashed-wrapped {border: 1px dashed gray;margin: 0 0.4em 0.5em 0.4em;box-sizing: border-box;padding-bottom: 0.4em;background-color: white;}#sk-container-id-1 div.sk-label label {font-family: monospace;font-weight: bold;display: inline-block;line-height: 1.2em;}#sk-container-id-1 div.sk-label-container {text-align: center;}#sk-container-id-1 div.sk-container {/* jupyter's `normalize.less` sets `[hidden] { display: none; }` but bootstrap.min.css set `[hidden] { display: none !important; }` so we also need the `!important` here to be able to override the default hidden behavior on the sphinx rendered scikit-learn.org. See: https://github.com/scikit-learn/scikit-learn/issues/21755 */display: inline-block !important;position: relative;}#sk-container-id-1 div.sk-text-repr-fallback {display: none;}</style><div id=\"sk-container-id-1\" class=\"sk-top-container\"><div class=\"sk-text-repr-fallback\"><pre>SelectFromModel(estimator=Lasso(alpha=0.005, random_state=0))</pre><b>In a Jupyter environment, please rerun this cell to show the HTML representation or trust the notebook. <br />On GitHub, the HTML representation is unable to render, please try loading this page with nbviewer.org.</b></div><div class=\"sk-container\" hidden><div class=\"sk-item sk-dashed-wrapped\"><div class=\"sk-label-container\"><div class=\"sk-label sk-toggleable\"><input class=\"sk-toggleable__control sk-hidden--visually\" id=\"sk-estimator-id-1\" type=\"checkbox\" ><label for=\"sk-estimator-id-1\" class=\"sk-toggleable__label sk-toggleable__label-arrow\">SelectFromModel</label><div class=\"sk-toggleable__content\"><pre>SelectFromModel(estimator=Lasso(alpha=0.005, random_state=0))</pre></div></div></div><div class=\"sk-parallel\"><div class=\"sk-parallel-item\"><div class=\"sk-item\"><div class=\"sk-label-container\"><div class=\"sk-label sk-toggleable\"><input class=\"sk-toggleable__control sk-hidden--visually\" id=\"sk-estimator-id-2\" type=\"checkbox\" ><label for=\"sk-estimator-id-2\" class=\"sk-toggleable__label sk-toggleable__label-arrow\">estimator: Lasso</label><div class=\"sk-toggleable__content\"><pre>Lasso(alpha=0.005, random_state=0)</pre></div></div></div><div class=\"sk-serial\"><div class=\"sk-item\"><div class=\"sk-estimator sk-toggleable\"><input class=\"sk-toggleable__control sk-hidden--visually\" id=\"sk-estimator-id-3\" type=\"checkbox\" ><label for=\"sk-estimator-id-3\" class=\"sk-toggleable__label sk-toggleable__label-arrow\">Lasso</label><div class=\"sk-toggleable__content\"><pre>Lasso(alpha=0.005, random_state=0)</pre></div></div></div></div></div></div></div></div></div></div>"
      ],
      "text/plain": [
       "SelectFromModel(estimator=Lasso(alpha=0.005, random_state=0))"
      ]
     },
     "execution_count": 98,
     "metadata": {},
     "output_type": "execute_result"
    }
   ],
   "source": [
    "feature_sel_model.fit(x, y)"
   ]
  },
  {
   "cell_type": "code",
   "execution_count": 99,
   "id": "d2e40fd1",
   "metadata": {},
   "outputs": [
    {
     "data": {
      "text/plain": [
       "array([ True, False, False, False, False, False, False, False, False,\n",
       "        True,  True,  True,  True,  True,  True,  True,  True, False,\n",
       "       False, False])"
      ]
     },
     "execution_count": 99,
     "metadata": {},
     "output_type": "execute_result"
    }
   ],
   "source": [
    "feature_sel_model.get_support()"
   ]
  },
  {
   "cell_type": "code",
   "execution_count": 100,
   "id": "124f820a",
   "metadata": {},
   "outputs": [
    {
     "name": "stdout",
     "output_type": "stream",
     "text": [
      "Index(['lead_time', 'arrival_date_week_number', 'arrival_date_day_of_month',\n",
      "       'stays_in_weekend_nights', 'stays_in_week_nights', 'adults', 'children',\n",
      "       'babies', 'is_repeated_guest', 'previous_cancellations',\n",
      "       'previous_bookings_not_canceled', 'booking_changes', 'agent', 'company',\n",
      "       'adr', 'required_car_parking_spaces', 'total_of_special_requests',\n",
      "       'reservation_status_day', 'reservation_status_month',\n",
      "       'reservation_status_year'],\n",
      "      dtype='object')\n"
     ]
    }
   ],
   "source": [
    "cols = x.columns\n",
    "print(cols)"
   ]
  },
  {
   "cell_type": "code",
   "execution_count": 101,
   "id": "97ec1698",
   "metadata": {},
   "outputs": [],
   "source": [
    "selected_feature = cols[(feature_sel_model.get_support())]"
   ]
  },
  {
   "cell_type": "code",
   "execution_count": 102,
   "id": "750b7b4c",
   "metadata": {},
   "outputs": [
    {
     "name": "stdout",
     "output_type": "stream",
     "text": [
      "Index(['lead_time', 'previous_cancellations', 'previous_bookings_not_canceled',\n",
      "       'booking_changes', 'agent', 'company', 'adr',\n",
      "       'required_car_parking_spaces', 'total_of_special_requests'],\n",
      "      dtype='object')\n"
     ]
    }
   ],
   "source": [
    "print(selected_feature)"
   ]
  },
  {
   "cell_type": "code",
   "execution_count": 103,
   "id": "d4ac8db7",
   "metadata": {},
   "outputs": [
    {
     "name": "stdout",
     "output_type": "stream",
     "text": [
      "Total features 20\n"
     ]
    }
   ],
   "source": [
    "print(f\"Total features {x.shape[1]}\")"
   ]
  },
  {
   "cell_type": "code",
   "execution_count": 104,
   "id": "406a865e",
   "metadata": {},
   "outputs": [
    {
     "name": "stdout",
     "output_type": "stream",
     "text": [
      "Selected features 9\n"
     ]
    }
   ],
   "source": [
    "print(f\"Selected features {len(selected_feature)}\")"
   ]
  },
  {
   "cell_type": "code",
   "execution_count": 105,
   "id": "cd720668",
   "metadata": {},
   "outputs": [
    {
     "data": {
      "text/plain": [
       "Index(['lead_time', 'arrival_date_week_number', 'arrival_date_day_of_month',\n",
       "       'stays_in_weekend_nights', 'stays_in_week_nights', 'adults', 'children',\n",
       "       'babies', 'is_repeated_guest', 'previous_cancellations',\n",
       "       'previous_bookings_not_canceled', 'booking_changes', 'agent', 'company',\n",
       "       'adr', 'required_car_parking_spaces', 'total_of_special_requests',\n",
       "       'reservation_status_day', 'reservation_status_month',\n",
       "       'reservation_status_year'],\n",
       "      dtype='object')"
      ]
     },
     "execution_count": 105,
     "metadata": {},
     "output_type": "execute_result"
    }
   ],
   "source": [
    "x.columns"
   ]
  },
  {
   "cell_type": "code",
   "execution_count": 106,
   "id": "fc4fe940",
   "metadata": {},
   "outputs": [],
   "source": [
    "x = x[selected_feature]"
   ]
  },
  {
   "cell_type": "code",
   "execution_count": 107,
   "id": "eebc6d49",
   "metadata": {},
   "outputs": [
    {
     "data": {
      "text/plain": [
       "Index(['lead_time', 'previous_cancellations', 'previous_bookings_not_canceled',\n",
       "       'booking_changes', 'agent', 'company', 'adr',\n",
       "       'required_car_parking_spaces', 'total_of_special_requests'],\n",
       "      dtype='object')"
      ]
     },
     "execution_count": 107,
     "metadata": {},
     "output_type": "execute_result"
    }
   ],
   "source": [
    "x.columns"
   ]
  },
  {
   "cell_type": "code",
   "execution_count": 108,
   "id": "b721282a",
   "metadata": {},
   "outputs": [
    {
     "data": {
      "text/html": [
       "<div>\n",
       "<style scoped>\n",
       "    .dataframe tbody tr th:only-of-type {\n",
       "        vertical-align: middle;\n",
       "    }\n",
       "\n",
       "    .dataframe tbody tr th {\n",
       "        vertical-align: top;\n",
       "    }\n",
       "\n",
       "    .dataframe thead th {\n",
       "        text-align: right;\n",
       "    }\n",
       "</style>\n",
       "<table border=\"1\" class=\"dataframe\">\n",
       "  <thead>\n",
       "    <tr style=\"text-align: right;\">\n",
       "      <th></th>\n",
       "      <th>lead_time</th>\n",
       "      <th>previous_cancellations</th>\n",
       "      <th>previous_bookings_not_canceled</th>\n",
       "      <th>booking_changes</th>\n",
       "      <th>agent</th>\n",
       "      <th>company</th>\n",
       "      <th>adr</th>\n",
       "      <th>required_car_parking_spaces</th>\n",
       "      <th>total_of_special_requests</th>\n",
       "    </tr>\n",
       "  </thead>\n",
       "  <tbody>\n",
       "    <tr>\n",
       "      <th>0</th>\n",
       "      <td>0.717241</td>\n",
       "      <td>0</td>\n",
       "      <td>0</td>\n",
       "      <td>3</td>\n",
       "      <td>14.0</td>\n",
       "      <td>178.0</td>\n",
       "      <td>0.000000</td>\n",
       "      <td>0</td>\n",
       "      <td>0</td>\n",
       "    </tr>\n",
       "    <tr>\n",
       "      <th>1</th>\n",
       "      <td>0.000000</td>\n",
       "      <td>0</td>\n",
       "      <td>0</td>\n",
       "      <td>4</td>\n",
       "      <td>14.0</td>\n",
       "      <td>178.0</td>\n",
       "      <td>0.000000</td>\n",
       "      <td>0</td>\n",
       "      <td>0</td>\n",
       "    </tr>\n",
       "    <tr>\n",
       "      <th>2</th>\n",
       "      <td>0.129421</td>\n",
       "      <td>0</td>\n",
       "      <td>0</td>\n",
       "      <td>0</td>\n",
       "      <td>14.0</td>\n",
       "      <td>178.0</td>\n",
       "      <td>1.673489</td>\n",
       "      <td>0</td>\n",
       "      <td>0</td>\n",
       "    </tr>\n",
       "    <tr>\n",
       "      <th>3</th>\n",
       "      <td>0.204629</td>\n",
       "      <td>0</td>\n",
       "      <td>0</td>\n",
       "      <td>0</td>\n",
       "      <td>304.0</td>\n",
       "      <td>178.0</td>\n",
       "      <td>1.673489</td>\n",
       "      <td>0</td>\n",
       "      <td>0</td>\n",
       "    </tr>\n",
       "    <tr>\n",
       "      <th>4</th>\n",
       "      <td>0.223029</td>\n",
       "      <td>0</td>\n",
       "      <td>0</td>\n",
       "      <td>0</td>\n",
       "      <td>240.0</td>\n",
       "      <td>178.0</td>\n",
       "      <td>1.721895</td>\n",
       "      <td>0</td>\n",
       "      <td>1</td>\n",
       "    </tr>\n",
       "  </tbody>\n",
       "</table>\n",
       "</div>"
      ],
      "text/plain": [
       "   lead_time  previous_cancellations  previous_bookings_not_canceled  \\\n",
       "0   0.717241                       0                               0   \n",
       "1   0.000000                       0                               0   \n",
       "2   0.129421                       0                               0   \n",
       "3   0.204629                       0                               0   \n",
       "4   0.223029                       0                               0   \n",
       "\n",
       "   booking_changes  agent  company       adr  required_car_parking_spaces  \\\n",
       "0                3   14.0    178.0  0.000000                            0   \n",
       "1                4   14.0    178.0  0.000000                            0   \n",
       "2                0   14.0    178.0  1.673489                            0   \n",
       "3                0  304.0    178.0  1.673489                            0   \n",
       "4                0  240.0    178.0  1.721895                            0   \n",
       "\n",
       "   total_of_special_requests  \n",
       "0                          0  \n",
       "1                          0  \n",
       "2                          0  \n",
       "3                          0  \n",
       "4                          1  "
      ]
     },
     "execution_count": 108,
     "metadata": {},
     "output_type": "execute_result"
    }
   ],
   "source": [
    "x.head()"
   ]
  },
  {
   "cell_type": "code",
   "execution_count": 109,
   "id": "d072de51",
   "metadata": {},
   "outputs": [
    {
     "data": {
      "text/plain": [
       "0    0.0\n",
       "1    0.0\n",
       "2    0.0\n",
       "3    0.0\n",
       "4    0.0\n",
       "Name: is_canceled, dtype: float64"
      ]
     },
     "execution_count": 109,
     "metadata": {},
     "output_type": "execute_result"
    }
   ],
   "source": [
    "y.head()"
   ]
  },
  {
   "cell_type": "code",
   "execution_count": null,
   "id": "15dedb52",
   "metadata": {},
   "outputs": [],
   "source": []
  },
  {
   "cell_type": "code",
   "execution_count": 110,
   "id": "c4cabfb9",
   "metadata": {},
   "outputs": [],
   "source": [
    "from sklearn.model_selection import train_test_split\n",
    "x_train,x_test,y_train,y_test=train_test_split(x,y,train_size=0.75, random_state=45)"
   ]
  },
  {
   "cell_type": "markdown",
   "id": "5a02a1b4",
   "metadata": {},
   "source": [
    "## Logistic Regression"
   ]
  },
  {
   "cell_type": "code",
   "execution_count": 111,
   "id": "fed5c584",
   "metadata": {},
   "outputs": [
    {
     "name": "stderr",
     "output_type": "stream",
     "text": [
      "C:\\Users\\aishw\\Anaconda 3 2023\\lib\\site-packages\\sklearn\\linear_model\\_logistic.py:458: ConvergenceWarning: lbfgs failed to converge (status=1):\n",
      "STOP: TOTAL NO. of ITERATIONS REACHED LIMIT.\n",
      "\n",
      "Increase the number of iterations (max_iter) or scale the data as shown in:\n",
      "    https://scikit-learn.org/stable/modules/preprocessing.html\n",
      "Please also refer to the documentation for alternative solver options:\n",
      "    https://scikit-learn.org/stable/modules/linear_model.html#logistic-regression\n",
      "  n_iter_i = _check_optimize_result(\n"
     ]
    },
    {
     "data": {
      "text/html": [
       "<style>#sk-container-id-2 {color: black;background-color: white;}#sk-container-id-2 pre{padding: 0;}#sk-container-id-2 div.sk-toggleable {background-color: white;}#sk-container-id-2 label.sk-toggleable__label {cursor: pointer;display: block;width: 100%;margin-bottom: 0;padding: 0.3em;box-sizing: border-box;text-align: center;}#sk-container-id-2 label.sk-toggleable__label-arrow:before {content: \"▸\";float: left;margin-right: 0.25em;color: #696969;}#sk-container-id-2 label.sk-toggleable__label-arrow:hover:before {color: black;}#sk-container-id-2 div.sk-estimator:hover label.sk-toggleable__label-arrow:before {color: black;}#sk-container-id-2 div.sk-toggleable__content {max-height: 0;max-width: 0;overflow: hidden;text-align: left;background-color: #f0f8ff;}#sk-container-id-2 div.sk-toggleable__content pre {margin: 0.2em;color: black;border-radius: 0.25em;background-color: #f0f8ff;}#sk-container-id-2 input.sk-toggleable__control:checked~div.sk-toggleable__content {max-height: 200px;max-width: 100%;overflow: auto;}#sk-container-id-2 input.sk-toggleable__control:checked~label.sk-toggleable__label-arrow:before {content: \"▾\";}#sk-container-id-2 div.sk-estimator input.sk-toggleable__control:checked~label.sk-toggleable__label {background-color: #d4ebff;}#sk-container-id-2 div.sk-label input.sk-toggleable__control:checked~label.sk-toggleable__label {background-color: #d4ebff;}#sk-container-id-2 input.sk-hidden--visually {border: 0;clip: rect(1px 1px 1px 1px);clip: rect(1px, 1px, 1px, 1px);height: 1px;margin: -1px;overflow: hidden;padding: 0;position: absolute;width: 1px;}#sk-container-id-2 div.sk-estimator {font-family: monospace;background-color: #f0f8ff;border: 1px dotted black;border-radius: 0.25em;box-sizing: border-box;margin-bottom: 0.5em;}#sk-container-id-2 div.sk-estimator:hover {background-color: #d4ebff;}#sk-container-id-2 div.sk-parallel-item::after {content: \"\";width: 100%;border-bottom: 1px solid gray;flex-grow: 1;}#sk-container-id-2 div.sk-label:hover label.sk-toggleable__label {background-color: #d4ebff;}#sk-container-id-2 div.sk-serial::before {content: \"\";position: absolute;border-left: 1px solid gray;box-sizing: border-box;top: 0;bottom: 0;left: 50%;z-index: 0;}#sk-container-id-2 div.sk-serial {display: flex;flex-direction: column;align-items: center;background-color: white;padding-right: 0.2em;padding-left: 0.2em;position: relative;}#sk-container-id-2 div.sk-item {position: relative;z-index: 1;}#sk-container-id-2 div.sk-parallel {display: flex;align-items: stretch;justify-content: center;background-color: white;position: relative;}#sk-container-id-2 div.sk-item::before, #sk-container-id-2 div.sk-parallel-item::before {content: \"\";position: absolute;border-left: 1px solid gray;box-sizing: border-box;top: 0;bottom: 0;left: 50%;z-index: -1;}#sk-container-id-2 div.sk-parallel-item {display: flex;flex-direction: column;z-index: 1;position: relative;background-color: white;}#sk-container-id-2 div.sk-parallel-item:first-child::after {align-self: flex-end;width: 50%;}#sk-container-id-2 div.sk-parallel-item:last-child::after {align-self: flex-start;width: 50%;}#sk-container-id-2 div.sk-parallel-item:only-child::after {width: 0;}#sk-container-id-2 div.sk-dashed-wrapped {border: 1px dashed gray;margin: 0 0.4em 0.5em 0.4em;box-sizing: border-box;padding-bottom: 0.4em;background-color: white;}#sk-container-id-2 div.sk-label label {font-family: monospace;font-weight: bold;display: inline-block;line-height: 1.2em;}#sk-container-id-2 div.sk-label-container {text-align: center;}#sk-container-id-2 div.sk-container {/* jupyter's `normalize.less` sets `[hidden] { display: none; }` but bootstrap.min.css set `[hidden] { display: none !important; }` so we also need the `!important` here to be able to override the default hidden behavior on the sphinx rendered scikit-learn.org. See: https://github.com/scikit-learn/scikit-learn/issues/21755 */display: inline-block !important;position: relative;}#sk-container-id-2 div.sk-text-repr-fallback {display: none;}</style><div id=\"sk-container-id-2\" class=\"sk-top-container\"><div class=\"sk-text-repr-fallback\"><pre>LogisticRegression()</pre><b>In a Jupyter environment, please rerun this cell to show the HTML representation or trust the notebook. <br />On GitHub, the HTML representation is unable to render, please try loading this page with nbviewer.org.</b></div><div class=\"sk-container\" hidden><div class=\"sk-item\"><div class=\"sk-estimator sk-toggleable\"><input class=\"sk-toggleable__control sk-hidden--visually\" id=\"sk-estimator-id-4\" type=\"checkbox\" checked><label for=\"sk-estimator-id-4\" class=\"sk-toggleable__label sk-toggleable__label-arrow\">LogisticRegression</label><div class=\"sk-toggleable__content\"><pre>LogisticRegression()</pre></div></div></div></div></div>"
      ],
      "text/plain": [
       "LogisticRegression()"
      ]
     },
     "execution_count": 111,
     "metadata": {},
     "output_type": "execute_result"
    }
   ],
   "source": [
    "from sklearn.linear_model import LogisticRegression\n",
    "model=LogisticRegression()\n",
    "model.fit(x_train,y_train)\n"
   ]
  },
  {
   "cell_type": "code",
   "execution_count": 112,
   "id": "6cd4cb1d",
   "metadata": {},
   "outputs": [
    {
     "data": {
      "text/plain": [
       "0.7513442776971537"
      ]
     },
     "execution_count": 112,
     "metadata": {},
     "output_type": "execute_result"
    }
   ],
   "source": [
    "score=model.score(x,y)\n",
    "score"
   ]
  },
  {
   "cell_type": "code",
   "execution_count": 113,
   "id": "53dc708f",
   "metadata": {},
   "outputs": [
    {
     "data": {
      "text/plain": [
       "0.7514008656846626"
      ]
     },
     "execution_count": 113,
     "metadata": {},
     "output_type": "execute_result"
    }
   ],
   "source": [
    "score=model.score(x_test,y_test)\n",
    "score"
   ]
  },
  {
   "cell_type": "code",
   "execution_count": 114,
   "id": "5f3d761b",
   "metadata": {},
   "outputs": [
    {
     "data": {
      "text/plain": [
       "0.751325414401718"
      ]
     },
     "execution_count": 114,
     "metadata": {},
     "output_type": "execute_result"
    }
   ],
   "source": [
    "score=model.score(x_train,y_train)\n",
    "score"
   ]
  },
  {
   "cell_type": "code",
   "execution_count": 115,
   "id": "69173c83",
   "metadata": {},
   "outputs": [
    {
     "data": {
      "text/plain": [
       "array([0., 0., 0., ..., 1., 0., 0.])"
      ]
     },
     "execution_count": 115,
     "metadata": {},
     "output_type": "execute_result"
    }
   ],
   "source": [
    "y_pred=model.predict(x_test)\n",
    "y_pred"
   ]
  },
  {
   "cell_type": "code",
   "execution_count": 116,
   "id": "9d6c43ef",
   "metadata": {},
   "outputs": [
    {
     "data": {
      "text/plain": [
       "0.7514008656846626"
      ]
     },
     "execution_count": 116,
     "metadata": {},
     "output_type": "execute_result"
    }
   ],
   "source": [
    "from sklearn.metrics import accuracy_score\n",
    "score=accuracy_score(y_test,y_pred)\n",
    "score"
   ]
  },
  {
   "cell_type": "code",
   "execution_count": 117,
   "id": "3a00de94",
   "metadata": {},
   "outputs": [
    {
     "data": {
      "text/plain": [
       "array([[16300,  2382],\n",
       "       [ 5027,  6094]], dtype=int64)"
      ]
     },
     "execution_count": 117,
     "metadata": {},
     "output_type": "execute_result"
    }
   ],
   "source": [
    "from sklearn.metrics import confusion_matrix\n",
    "cm=confusion_matrix(y_test,y_pred)\n",
    "cm"
   ]
  },
  {
   "cell_type": "code",
   "execution_count": 118,
   "id": "ef35a937",
   "metadata": {},
   "outputs": [
    {
     "data": {
      "text/plain": [
       "0.2485991343153374"
      ]
     },
     "execution_count": 118,
     "metadata": {},
     "output_type": "execute_result"
    }
   ],
   "source": [
    "from sklearn.metrics import mean_absolute_error\n",
    "MAE=mean_absolute_error(y_test,y_pred)\n",
    "MAE"
   ]
  },
  {
   "cell_type": "code",
   "execution_count": 119,
   "id": "04969b6a",
   "metadata": {},
   "outputs": [
    {
     "data": {
      "text/plain": [
       "0.2485991343153374"
      ]
     },
     "execution_count": 119,
     "metadata": {},
     "output_type": "execute_result"
    }
   ],
   "source": [
    "from sklearn.metrics import mean_squared_error,r2_score\n",
    "MSE=mean_squared_error(y_test,y_pred)\n",
    "MSE"
   ]
  },
  {
   "cell_type": "code",
   "execution_count": 120,
   "id": "094713f3",
   "metadata": {},
   "outputs": [
    {
     "data": {
      "text/plain": [
       "0.49859716637315277"
      ]
     },
     "execution_count": 120,
     "metadata": {},
     "output_type": "execute_result"
    }
   ],
   "source": [
    "RMSE=np.sqrt(MSE)\n",
    "RMSE"
   ]
  },
  {
   "cell_type": "code",
   "execution_count": 121,
   "id": "19c98cd9",
   "metadata": {},
   "outputs": [
    {
     "data": {
      "text/plain": [
       "359949478656394.5"
      ]
     },
     "execution_count": 121,
     "metadata": {},
     "output_type": "execute_result"
    }
   ],
   "source": [
    "from sklearn.metrics import mean_absolute_percentage_error\n",
    "MAPE=mean_absolute_percentage_error(y_test,y_pred)\n",
    "MAPE"
   ]
  },
  {
   "cell_type": "code",
   "execution_count": 122,
   "id": "07d3fdc6",
   "metadata": {},
   "outputs": [
    {
     "data": {
      "text/plain": [
       "-0.06280201488890258"
      ]
     },
     "execution_count": 122,
     "metadata": {},
     "output_type": "execute_result"
    }
   ],
   "source": [
    "r2_score(y_test,y_pred)"
   ]
  },
  {
   "cell_type": "code",
   "execution_count": 123,
   "id": "802ba0a9",
   "metadata": {},
   "outputs": [
    {
     "data": {
      "text/plain": [
       "<Axes: >"
      ]
     },
     "execution_count": 123,
     "metadata": {},
     "output_type": "execute_result"
    },
    {
     "data": {
      "image/png": "[encoded data removed]",
      "text/plain": [
       "<Figure size 640x480 with 2 Axes>"
      ]
     },
     "metadata": {},
     "output_type": "display_data"
    }
   ],
   "source": [
    "sns.heatmap(cm,annot=True,xticklabels=['False Positive','False Negative'],yticklabels=['True Positive','True Negative'])"
   ]
  },
  {
   "cell_type": "code",
   "execution_count": 124,
   "id": "4a9f3c79",
   "metadata": {},
   "outputs": [
    {
     "name": "stderr",
     "output_type": "stream",
     "text": [
      "C:\\Users\\aishw\\Anaconda 3 2023\\lib\\site-packages\\sklearn\\linear_model\\_logistic.py:458: ConvergenceWarning: lbfgs failed to converge (status=1):\n",
      "STOP: TOTAL NO. of ITERATIONS REACHED LIMIT.\n",
      "\n",
      "Increase the number of iterations (max_iter) or scale the data as shown in:\n",
      "    https://scikit-learn.org/stable/modules/preprocessing.html\n",
      "Please also refer to the documentation for alternative solver options:\n",
      "    https://scikit-learn.org/stable/modules/linear_model.html#logistic-regression\n",
      "  n_iter_i = _check_optimize_result(\n",
      "C:\\Users\\aishw\\Anaconda 3 2023\\lib\\site-packages\\sklearn\\linear_model\\_logistic.py:458: ConvergenceWarning: lbfgs failed to converge (status=1):\n",
      "STOP: TOTAL NO. of ITERATIONS REACHED LIMIT.\n",
      "\n",
      "Increase the number of iterations (max_iter) or scale the data as shown in:\n",
      "    https://scikit-learn.org/stable/modules/preprocessing.html\n",
      "Please also refer to the documentation for alternative solver options:\n",
      "    https://scikit-learn.org/stable/modules/linear_model.html#logistic-regression\n",
      "  n_iter_i = _check_optimize_result(\n",
      "C:\\Users\\aishw\\Anaconda 3 2023\\lib\\site-packages\\sklearn\\linear_model\\_logistic.py:458: ConvergenceWarning: lbfgs failed to converge (status=1):\n",
      "STOP: TOTAL NO. of ITERATIONS REACHED LIMIT.\n",
      "\n",
      "Increase the number of iterations (max_iter) or scale the data as shown in:\n",
      "    https://scikit-learn.org/stable/modules/preprocessing.html\n",
      "Please also refer to the documentation for alternative solver options:\n",
      "    https://scikit-learn.org/stable/modules/linear_model.html#logistic-regression\n",
      "  n_iter_i = _check_optimize_result(\n",
      "C:\\Users\\aishw\\Anaconda 3 2023\\lib\\site-packages\\sklearn\\linear_model\\_logistic.py:458: ConvergenceWarning: lbfgs failed to converge (status=1):\n",
      "STOP: TOTAL NO. of ITERATIONS REACHED LIMIT.\n",
      "\n",
      "Increase the number of iterations (max_iter) or scale the data as shown in:\n",
      "    https://scikit-learn.org/stable/modules/preprocessing.html\n",
      "Please also refer to the documentation for alternative solver options:\n",
      "    https://scikit-learn.org/stable/modules/linear_model.html#logistic-regression\n",
      "  n_iter_i = _check_optimize_result(\n"
     ]
    },
    {
     "name": "stdout",
     "output_type": "stream",
     "text": [
      "Cross-Validation Scores: [0.74505089 0.74833622 0.75247469 0.75275432 0.74721772]\n",
      "Mean CV Score: 0.7491667686271555\n"
     ]
    },
    {
     "name": "stderr",
     "output_type": "stream",
     "text": [
      "C:\\Users\\aishw\\Anaconda 3 2023\\lib\\site-packages\\sklearn\\linear_model\\_logistic.py:458: ConvergenceWarning: lbfgs failed to converge (status=1):\n",
      "STOP: TOTAL NO. of ITERATIONS REACHED LIMIT.\n",
      "\n",
      "Increase the number of iterations (max_iter) or scale the data as shown in:\n",
      "    https://scikit-learn.org/stable/modules/preprocessing.html\n",
      "Please also refer to the documentation for alternative solver options:\n",
      "    https://scikit-learn.org/stable/modules/linear_model.html#logistic-regression\n",
      "  n_iter_i = _check_optimize_result(\n"
     ]
    }
   ],
   "source": [
    "from sklearn.model_selection import cross_val_score\n",
    "\n",
    "cv_scores = cross_val_score(model, x_train, y_train, cv=5)  \n",
    "print(\"Cross-Validation Scores:\", cv_scores)\n",
    "print(\"Mean CV Score:\", np.mean(cv_scores))"
   ]
  },
  {
   "cell_type": "code",
   "execution_count": 125,
   "id": "2ac8374d",
   "metadata": {},
   "outputs": [
    {
     "name": "stderr",
     "output_type": "stream",
     "text": [
      "C:\\Users\\aishw\\Anaconda 3 2023\\lib\\site-packages\\sklearn\\linear_model\\_logistic.py:458: ConvergenceWarning: lbfgs failed to converge (status=1):\n",
      "STOP: TOTAL NO. of ITERATIONS REACHED LIMIT.\n",
      "\n",
      "Increase the number of iterations (max_iter) or scale the data as shown in:\n",
      "    https://scikit-learn.org/stable/modules/preprocessing.html\n",
      "Please also refer to the documentation for alternative solver options:\n",
      "    https://scikit-learn.org/stable/modules/linear_model.html#logistic-regression\n",
      "  n_iter_i = _check_optimize_result(\n",
      "C:\\Users\\aishw\\Anaconda 3 2023\\lib\\site-packages\\sklearn\\linear_model\\_logistic.py:458: ConvergenceWarning: lbfgs failed to converge (status=1):\n",
      "STOP: TOTAL NO. of ITERATIONS REACHED LIMIT.\n",
      "\n",
      "Increase the number of iterations (max_iter) or scale the data as shown in:\n",
      "    https://scikit-learn.org/stable/modules/preprocessing.html\n",
      "Please also refer to the documentation for alternative solver options:\n",
      "    https://scikit-learn.org/stable/modules/linear_model.html#logistic-regression\n",
      "  n_iter_i = _check_optimize_result(\n",
      "C:\\Users\\aishw\\Anaconda 3 2023\\lib\\site-packages\\sklearn\\linear_model\\_logistic.py:458: ConvergenceWarning: lbfgs failed to converge (status=1):\n",
      "STOP: TOTAL NO. of ITERATIONS REACHED LIMIT.\n",
      "\n",
      "Increase the number of iterations (max_iter) or scale the data as shown in:\n",
      "    https://scikit-learn.org/stable/modules/preprocessing.html\n",
      "Please also refer to the documentation for alternative solver options:\n",
      "    https://scikit-learn.org/stable/modules/linear_model.html#logistic-regression\n",
      "  n_iter_i = _check_optimize_result(\n",
      "C:\\Users\\aishw\\Anaconda 3 2023\\lib\\site-packages\\sklearn\\linear_model\\_logistic.py:458: ConvergenceWarning: lbfgs failed to converge (status=1):\n",
      "STOP: TOTAL NO. of ITERATIONS REACHED LIMIT.\n",
      "\n",
      "Increase the number of iterations (max_iter) or scale the data as shown in:\n",
      "    https://scikit-learn.org/stable/modules/preprocessing.html\n",
      "Please also refer to the documentation for alternative solver options:\n",
      "    https://scikit-learn.org/stable/modules/linear_model.html#logistic-regression\n",
      "  n_iter_i = _check_optimize_result(\n"
     ]
    },
    {
     "name": "stdout",
     "output_type": "stream",
     "text": [
      "Cross-Validation Scores: [0.74953867 0.75742325 0.74517698 0.74681208 0.75134228]\n",
      "Mean CV Score: 0.7500586530569506\n"
     ]
    },
    {
     "name": "stderr",
     "output_type": "stream",
     "text": [
      "C:\\Users\\aishw\\Anaconda 3 2023\\lib\\site-packages\\sklearn\\linear_model\\_logistic.py:458: ConvergenceWarning: lbfgs failed to converge (status=1):\n",
      "STOP: TOTAL NO. of ITERATIONS REACHED LIMIT.\n",
      "\n",
      "Increase the number of iterations (max_iter) or scale the data as shown in:\n",
      "    https://scikit-learn.org/stable/modules/preprocessing.html\n",
      "Please also refer to the documentation for alternative solver options:\n",
      "    https://scikit-learn.org/stable/modules/linear_model.html#logistic-regression\n",
      "  n_iter_i = _check_optimize_result(\n"
     ]
    }
   ],
   "source": [
    "from sklearn.model_selection import cross_val_score\n",
    "\n",
    "cv_scores = cross_val_score(model, x_test, y_test, cv=5)  \n",
    "print(\"Cross-Validation Scores:\", cv_scores)\n",
    "print(\"Mean CV Score:\", np.mean(cv_scores))"
   ]
  },
  {
   "cell_type": "code",
   "execution_count": 126,
   "id": "81d3372c",
   "metadata": {
    "scrolled": true
   },
   "outputs": [
    {
     "name": "stdout",
     "output_type": "stream",
     "text": [
      "Precision: 0.7189712128362435\n",
      "Recall: 0.5479723046488625\n",
      "F1 Score: 0.621931928356381\n"
     ]
    }
   ],
   "source": [
    "from sklearn.metrics import precision_score, recall_score, f1_score\n",
    "precision = precision_score(y_test, y_pred) \n",
    "print(\"Precision:\", precision)\n",
    "\n",
    "# Recall\n",
    "recall = recall_score(y_test, y_pred)\n",
    "print(\"Recall:\", recall)\n",
    "\n",
    "# F1 Score\n",
    "f1 = f1_score(y_test, y_pred) \n",
    "print(\"F1 Score:\", f1)"
   ]
  },
  {
   "cell_type": "markdown",
   "id": "0eee10d8",
   "metadata": {},
   "source": [
    "## K-nearest-neighbors"
   ]
  },
  {
   "cell_type": "code",
   "execution_count": 127,
   "id": "6e97182e",
   "metadata": {},
   "outputs": [
    {
     "data": {
      "text/html": [
       "<style>#sk-container-id-3 {color: black;background-color: white;}#sk-container-id-3 pre{padding: 0;}#sk-container-id-3 div.sk-toggleable {background-color: white;}#sk-container-id-3 label.sk-toggleable__label {cursor: pointer;display: block;width: 100%;margin-bottom: 0;padding: 0.3em;box-sizing: border-box;text-align: center;}#sk-container-id-3 label.sk-toggleable__label-arrow:before {content: \"▸\";float: left;margin-right: 0.25em;color: #696969;}#sk-container-id-3 label.sk-toggleable__label-arrow:hover:before {color: black;}#sk-container-id-3 div.sk-estimator:hover label.sk-toggleable__label-arrow:before {color: black;}#sk-container-id-3 div.sk-toggleable__content {max-height: 0;max-width: 0;overflow: hidden;text-align: left;background-color: #f0f8ff;}#sk-container-id-3 div.sk-toggleable__content pre {margin: 0.2em;color: black;border-radius: 0.25em;background-color: #f0f8ff;}#sk-container-id-3 input.sk-toggleable__control:checked~div.sk-toggleable__content {max-height: 200px;max-width: 100%;overflow: auto;}#sk-container-id-3 input.sk-toggleable__control:checked~label.sk-toggleable__label-arrow:before {content: \"▾\";}#sk-container-id-3 div.sk-estimator input.sk-toggleable__control:checked~label.sk-toggleable__label {background-color: #d4ebff;}#sk-container-id-3 div.sk-label input.sk-toggleable__control:checked~label.sk-toggleable__label {background-color: #d4ebff;}#sk-container-id-3 input.sk-hidden--visually {border: 0;clip: rect(1px 1px 1px 1px);clip: rect(1px, 1px, 1px, 1px);height: 1px;margin: -1px;overflow: hidden;padding: 0;position: absolute;width: 1px;}#sk-container-id-3 div.sk-estimator {font-family: monospace;background-color: #f0f8ff;border: 1px dotted black;border-radius: 0.25em;box-sizing: border-box;margin-bottom: 0.5em;}#sk-container-id-3 div.sk-estimator:hover {background-color: #d4ebff;}#sk-container-id-3 div.sk-parallel-item::after {content: \"\";width: 100%;border-bottom: 1px solid gray;flex-grow: 1;}#sk-container-id-3 div.sk-label:hover label.sk-toggleable__label {background-color: #d4ebff;}#sk-container-id-3 div.sk-serial::before {content: \"\";position: absolute;border-left: 1px solid gray;box-sizing: border-box;top: 0;bottom: 0;left: 50%;z-index: 0;}#sk-container-id-3 div.sk-serial {display: flex;flex-direction: column;align-items: center;background-color: white;padding-right: 0.2em;padding-left: 0.2em;position: relative;}#sk-container-id-3 div.sk-item {position: relative;z-index: 1;}#sk-container-id-3 div.sk-parallel {display: flex;align-items: stretch;justify-content: center;background-color: white;position: relative;}#sk-container-id-3 div.sk-item::before, #sk-container-id-3 div.sk-parallel-item::before {content: \"\";position: absolute;border-left: 1px solid gray;box-sizing: border-box;top: 0;bottom: 0;left: 50%;z-index: -1;}#sk-container-id-3 div.sk-parallel-item {display: flex;flex-direction: column;z-index: 1;position: relative;background-color: white;}#sk-container-id-3 div.sk-parallel-item:first-child::after {align-self: flex-end;width: 50%;}#sk-container-id-3 div.sk-parallel-item:last-child::after {align-self: flex-start;width: 50%;}#sk-container-id-3 div.sk-parallel-item:only-child::after {width: 0;}#sk-container-id-3 div.sk-dashed-wrapped {border: 1px dashed gray;margin: 0 0.4em 0.5em 0.4em;box-sizing: border-box;padding-bottom: 0.4em;background-color: white;}#sk-container-id-3 div.sk-label label {font-family: monospace;font-weight: bold;display: inline-block;line-height: 1.2em;}#sk-container-id-3 div.sk-label-container {text-align: center;}#sk-container-id-3 div.sk-container {/* jupyter's `normalize.less` sets `[hidden] { display: none; }` but bootstrap.min.css set `[hidden] { display: none !important; }` so we also need the `!important` here to be able to override the default hidden behavior on the sphinx rendered scikit-learn.org. See: https://github.com/scikit-learn/scikit-learn/issues/21755 */display: inline-block !important;position: relative;}#sk-container-id-3 div.sk-text-repr-fallback {display: none;}</style><div id=\"sk-container-id-3\" class=\"sk-top-container\"><div class=\"sk-text-repr-fallback\"><pre>KNeighborsClassifier()</pre><b>In a Jupyter environment, please rerun this cell to show the HTML representation or trust the notebook. <br />On GitHub, the HTML representation is unable to render, please try loading this page with nbviewer.org.</b></div><div class=\"sk-container\" hidden><div class=\"sk-item\"><div class=\"sk-estimator sk-toggleable\"><input class=\"sk-toggleable__control sk-hidden--visually\" id=\"sk-estimator-id-5\" type=\"checkbox\" checked><label for=\"sk-estimator-id-5\" class=\"sk-toggleable__label sk-toggleable__label-arrow\">KNeighborsClassifier</label><div class=\"sk-toggleable__content\"><pre>KNeighborsClassifier()</pre></div></div></div></div></div>"
      ],
      "text/plain": [
       "KNeighborsClassifier()"
      ]
     },
     "execution_count": 127,
     "metadata": {},
     "output_type": "execute_result"
    }
   ],
   "source": [
    "from sklearn.neighbors import KNeighborsClassifier\n",
    "model=KNeighborsClassifier()\n",
    "model.fit(x_train,y_train)"
   ]
  },
  {
   "cell_type": "code",
   "execution_count": 128,
   "id": "00cfd27b",
   "metadata": {},
   "outputs": [
    {
     "data": {
      "text/plain": [
       "0.8227024125088078"
      ]
     },
     "execution_count": 128,
     "metadata": {},
     "output_type": "execute_result"
    }
   ],
   "source": [
    "score=model.score(x_test,y_test)\n",
    "score"
   ]
  },
  {
   "cell_type": "code",
   "execution_count": 129,
   "id": "b1fb6308",
   "metadata": {},
   "outputs": [
    {
     "data": {
      "text/plain": [
       "[0.8114619333624132,\n",
       " 0.8207898533704661,\n",
       " 0.8224004294869643,\n",
       " 0.824212327618025,\n",
       " 0.8227024125088078,\n",
       " 0.8250847230144617,\n",
       " 0.822803073516089,\n",
       " 0.8231721638761198,\n",
       " 0.823037949199745]"
      ]
     },
     "execution_count": 129,
     "metadata": {},
     "output_type": "execute_result"
    }
   ],
   "source": [
    "k_range=range(1,10)\n",
    "scores=[]\n",
    "for k in k_range:\n",
    "    model=KNeighborsClassifier(n_neighbors=k)\n",
    "    model.fit(x_train,y_train)\n",
    "    accuracy=model.score(x_test,y_test)\n",
    "    scores.append(accuracy)\n",
    "scores"
   ]
  },
  {
   "cell_type": "code",
   "execution_count": 130,
   "id": "3897f4bd",
   "metadata": {},
   "outputs": [
    {
     "data": {
      "text/plain": [
       "0.8250847230144617"
      ]
     },
     "execution_count": 130,
     "metadata": {},
     "output_type": "execute_result"
    }
   ],
   "source": [
    "max(scores)"
   ]
  },
  {
   "cell_type": "code",
   "execution_count": 131,
   "id": "e1a856e2",
   "metadata": {},
   "outputs": [
    {
     "data": {
      "text/plain": [
       "[<matplotlib.lines.Line2D at 0x23622c01a50>]"
      ]
     },
     "execution_count": 131,
     "metadata": {},
     "output_type": "execute_result"
    },
    {
     "data": {
      "image/png": "[encoded data removed]",
      "text/plain": [
       "<Figure size 640x480 with 1 Axes>"
      ]
     },
     "metadata": {},
     "output_type": "display_data"
    }
   ],
   "source": [
    "plt.plot(k_range,scores)"
   ]
  },
  {
   "cell_type": "code",
   "execution_count": 132,
   "id": "7deb7928",
   "metadata": {},
   "outputs": [
    {
     "data": {
      "text/html": [
       "<style>#sk-container-id-4 {color: black;background-color: white;}#sk-container-id-4 pre{padding: 0;}#sk-container-id-4 div.sk-toggleable {background-color: white;}#sk-container-id-4 label.sk-toggleable__label {cursor: pointer;display: block;width: 100%;margin-bottom: 0;padding: 0.3em;box-sizing: border-box;text-align: center;}#sk-container-id-4 label.sk-toggleable__label-arrow:before {content: \"▸\";float: left;margin-right: 0.25em;color: #696969;}#sk-container-id-4 label.sk-toggleable__label-arrow:hover:before {color: black;}#sk-container-id-4 div.sk-estimator:hover label.sk-toggleable__label-arrow:before {color: black;}#sk-container-id-4 div.sk-toggleable__content {max-height: 0;max-width: 0;overflow: hidden;text-align: left;background-color: #f0f8ff;}#sk-container-id-4 div.sk-toggleable__content pre {margin: 0.2em;color: black;border-radius: 0.25em;background-color: #f0f8ff;}#sk-container-id-4 input.sk-toggleable__control:checked~div.sk-toggleable__content {max-height: 200px;max-width: 100%;overflow: auto;}#sk-container-id-4 input.sk-toggleable__control:checked~label.sk-toggleable__label-arrow:before {content: \"▾\";}#sk-container-id-4 div.sk-estimator input.sk-toggleable__control:checked~label.sk-toggleable__label {background-color: #d4ebff;}#sk-container-id-4 div.sk-label input.sk-toggleable__control:checked~label.sk-toggleable__label {background-color: #d4ebff;}#sk-container-id-4 input.sk-hidden--visually {border: 0;clip: rect(1px 1px 1px 1px);clip: rect(1px, 1px, 1px, 1px);height: 1px;margin: -1px;overflow: hidden;padding: 0;position: absolute;width: 1px;}#sk-container-id-4 div.sk-estimator {font-family: monospace;background-color: #f0f8ff;border: 1px dotted black;border-radius: 0.25em;box-sizing: border-box;margin-bottom: 0.5em;}#sk-container-id-4 div.sk-estimator:hover {background-color: #d4ebff;}#sk-container-id-4 div.sk-parallel-item::after {content: \"\";width: 100%;border-bottom: 1px solid gray;flex-grow: 1;}#sk-container-id-4 div.sk-label:hover label.sk-toggleable__label {background-color: #d4ebff;}#sk-container-id-4 div.sk-serial::before {content: \"\";position: absolute;border-left: 1px solid gray;box-sizing: border-box;top: 0;bottom: 0;left: 50%;z-index: 0;}#sk-container-id-4 div.sk-serial {display: flex;flex-direction: column;align-items: center;background-color: white;padding-right: 0.2em;padding-left: 0.2em;position: relative;}#sk-container-id-4 div.sk-item {position: relative;z-index: 1;}#sk-container-id-4 div.sk-parallel {display: flex;align-items: stretch;justify-content: center;background-color: white;position: relative;}#sk-container-id-4 div.sk-item::before, #sk-container-id-4 div.sk-parallel-item::before {content: \"\";position: absolute;border-left: 1px solid gray;box-sizing: border-box;top: 0;bottom: 0;left: 50%;z-index: -1;}#sk-container-id-4 div.sk-parallel-item {display: flex;flex-direction: column;z-index: 1;position: relative;background-color: white;}#sk-container-id-4 div.sk-parallel-item:first-child::after {align-self: flex-end;width: 50%;}#sk-container-id-4 div.sk-parallel-item:last-child::after {align-self: flex-start;width: 50%;}#sk-container-id-4 div.sk-parallel-item:only-child::after {width: 0;}#sk-container-id-4 div.sk-dashed-wrapped {border: 1px dashed gray;margin: 0 0.4em 0.5em 0.4em;box-sizing: border-box;padding-bottom: 0.4em;background-color: white;}#sk-container-id-4 div.sk-label label {font-family: monospace;font-weight: bold;display: inline-block;line-height: 1.2em;}#sk-container-id-4 div.sk-label-container {text-align: center;}#sk-container-id-4 div.sk-container {/* jupyter's `normalize.less` sets `[hidden] { display: none; }` but bootstrap.min.css set `[hidden] { display: none !important; }` so we also need the `!important` here to be able to override the default hidden behavior on the sphinx rendered scikit-learn.org. See: https://github.com/scikit-learn/scikit-learn/issues/21755 */display: inline-block !important;position: relative;}#sk-container-id-4 div.sk-text-repr-fallback {display: none;}</style><div id=\"sk-container-id-4\" class=\"sk-top-container\"><div class=\"sk-text-repr-fallback\"><pre>KNeighborsClassifier(n_neighbors=6)</pre><b>In a Jupyter environment, please rerun this cell to show the HTML representation or trust the notebook. <br />On GitHub, the HTML representation is unable to render, please try loading this page with nbviewer.org.</b></div><div class=\"sk-container\" hidden><div class=\"sk-item\"><div class=\"sk-estimator sk-toggleable\"><input class=\"sk-toggleable__control sk-hidden--visually\" id=\"sk-estimator-id-6\" type=\"checkbox\" checked><label for=\"sk-estimator-id-6\" class=\"sk-toggleable__label sk-toggleable__label-arrow\">KNeighborsClassifier</label><div class=\"sk-toggleable__content\"><pre>KNeighborsClassifier(n_neighbors=6)</pre></div></div></div></div></div>"
      ],
      "text/plain": [
       "KNeighborsClassifier(n_neighbors=6)"
      ]
     },
     "execution_count": 132,
     "metadata": {},
     "output_type": "execute_result"
    }
   ],
   "source": [
    "model=KNeighborsClassifier(n_neighbors=6)\n",
    "model.fit(x_train,y_train)"
   ]
  },
  {
   "cell_type": "code",
   "execution_count": 133,
   "id": "414acdb6",
   "metadata": {},
   "outputs": [],
   "source": [
    "y_pred=model.predict(x_test)"
   ]
  },
  {
   "cell_type": "code",
   "execution_count": 134,
   "id": "6b2b4c7d",
   "metadata": {},
   "outputs": [
    {
     "data": {
      "text/plain": [
       "0.8250847230144617"
      ]
     },
     "execution_count": 134,
     "metadata": {},
     "output_type": "execute_result"
    }
   ],
   "source": [
    "score=accuracy_score(y_test,y_pred)\n",
    "score"
   ]
  },
  {
   "cell_type": "code",
   "execution_count": 135,
   "id": "aedc4b6d",
   "metadata": {},
   "outputs": [
    {
     "data": {
      "text/plain": [
       "array([[17185,  1497],\n",
       "       [ 3716,  7405]], dtype=int64)"
      ]
     },
     "execution_count": 135,
     "metadata": {},
     "output_type": "execute_result"
    }
   ],
   "source": [
    "from sklearn.metrics import confusion_matrix\n",
    "cm=confusion_matrix(y_test,y_pred)\n",
    "cm"
   ]
  },
  {
   "cell_type": "code",
   "execution_count": 136,
   "id": "6e2e26ba",
   "metadata": {},
   "outputs": [
    {
     "name": "stdout",
     "output_type": "stream",
     "text": [
      "Cross-Validation Scores: [0.80375713 0.80342167 0.8024153  0.80973154 0.79630872 0.80402685\n",
      " 0.79731544 0.79563758 0.81040268 0.80671141]\n",
      "Mean CV Score: 0.8029728324128879\n"
     ]
    }
   ],
   "source": [
    "from sklearn.model_selection import cross_val_score\n",
    "cv_scores = cross_val_score(model, x_test, y_test, cv=10)  \n",
    "print(\"Cross-Validation Scores:\", cv_scores)\n",
    "print(\"Mean CV Score:\", np.mean(cv_scores))"
   ]
  },
  {
   "cell_type": "code",
   "execution_count": 137,
   "id": "01353d29",
   "metadata": {},
   "outputs": [
    {
     "name": "stdout",
     "output_type": "stream",
     "text": [
      "Cross-Validation Scores: [0.81691086 0.81780561 0.82172017 0.82518734 0.82350967 0.82015435\n",
      " 0.82203579 0.82416107 0.81174497 0.82091723]\n",
      "Mean CV Score: 0.820414705950793\n"
     ]
    }
   ],
   "source": [
    "from sklearn.model_selection import cross_val_score\n",
    "cv_scores = cross_val_score(model, x_train, y_train, cv=10)  \n",
    "print(\"Cross-Validation Scores:\", cv_scores)\n",
    "print(\"Mean CV Score:\", np.mean(cv_scores))"
   ]
  },
  {
   "cell_type": "code",
   "execution_count": 138,
   "id": "ccf173ae",
   "metadata": {
    "scrolled": true
   },
   "outputs": [
    {
     "data": {
      "text/plain": [
       "<Axes: >"
      ]
     },
     "execution_count": 138,
     "metadata": {},
     "output_type": "execute_result"
    },
    {
     "data": {
      "image/png": "[encoded data removed]",
      "text/plain": [
       "<Figure size 640x480 with 2 Axes>"
      ]
     },
     "metadata": {},
     "output_type": "display_data"
    }
   ],
   "source": [
    "sns.heatmap(cm,annot=True,xticklabels=['False Positive','False Negative'],yticklabels=['True Positive','True Negative'])"
   ]
  },
  {
   "cell_type": "markdown",
   "id": "e140f4e5",
   "metadata": {},
   "source": [
    "## Decision Trees"
   ]
  },
  {
   "cell_type": "code",
   "execution_count": 139,
   "id": "ceac895a",
   "metadata": {},
   "outputs": [
    {
     "data": {
      "text/html": [
       "<style>#sk-container-id-5 {color: black;background-color: white;}#sk-container-id-5 pre{padding: 0;}#sk-container-id-5 div.sk-toggleable {background-color: white;}#sk-container-id-5 label.sk-toggleable__label {cursor: pointer;display: block;width: 100%;margin-bottom: 0;padding: 0.3em;box-sizing: border-box;text-align: center;}#sk-container-id-5 label.sk-toggleable__label-arrow:before {content: \"▸\";float: left;margin-right: 0.25em;color: #696969;}#sk-container-id-5 label.sk-toggleable__label-arrow:hover:before {color: black;}#sk-container-id-5 div.sk-estimator:hover label.sk-toggleable__label-arrow:before {color: black;}#sk-container-id-5 div.sk-toggleable__content {max-height: 0;max-width: 0;overflow: hidden;text-align: left;background-color: #f0f8ff;}#sk-container-id-5 div.sk-toggleable__content pre {margin: 0.2em;color: black;border-radius: 0.25em;background-color: #f0f8ff;}#sk-container-id-5 input.sk-toggleable__control:checked~div.sk-toggleable__content {max-height: 200px;max-width: 100%;overflow: auto;}#sk-container-id-5 input.sk-toggleable__control:checked~label.sk-toggleable__label-arrow:before {content: \"▾\";}#sk-container-id-5 div.sk-estimator input.sk-toggleable__control:checked~label.sk-toggleable__label {background-color: #d4ebff;}#sk-container-id-5 div.sk-label input.sk-toggleable__control:checked~label.sk-toggleable__label {background-color: #d4ebff;}#sk-container-id-5 input.sk-hidden--visually {border: 0;clip: rect(1px 1px 1px 1px);clip: rect(1px, 1px, 1px, 1px);height: 1px;margin: -1px;overflow: hidden;padding: 0;position: absolute;width: 1px;}#sk-container-id-5 div.sk-estimator {font-family: monospace;background-color: #f0f8ff;border: 1px dotted black;border-radius: 0.25em;box-sizing: border-box;margin-bottom: 0.5em;}#sk-container-id-5 div.sk-estimator:hover {background-color: #d4ebff;}#sk-container-id-5 div.sk-parallel-item::after {content: \"\";width: 100%;border-bottom: 1px solid gray;flex-grow: 1;}#sk-container-id-5 div.sk-label:hover label.sk-toggleable__label {background-color: #d4ebff;}#sk-container-id-5 div.sk-serial::before {content: \"\";position: absolute;border-left: 1px solid gray;box-sizing: border-box;top: 0;bottom: 0;left: 50%;z-index: 0;}#sk-container-id-5 div.sk-serial {display: flex;flex-direction: column;align-items: center;background-color: white;padding-right: 0.2em;padding-left: 0.2em;position: relative;}#sk-container-id-5 div.sk-item {position: relative;z-index: 1;}#sk-container-id-5 div.sk-parallel {display: flex;align-items: stretch;justify-content: center;background-color: white;position: relative;}#sk-container-id-5 div.sk-item::before, #sk-container-id-5 div.sk-parallel-item::before {content: \"\";position: absolute;border-left: 1px solid gray;box-sizing: border-box;top: 0;bottom: 0;left: 50%;z-index: -1;}#sk-container-id-5 div.sk-parallel-item {display: flex;flex-direction: column;z-index: 1;position: relative;background-color: white;}#sk-container-id-5 div.sk-parallel-item:first-child::after {align-self: flex-end;width: 50%;}#sk-container-id-5 div.sk-parallel-item:last-child::after {align-self: flex-start;width: 50%;}#sk-container-id-5 div.sk-parallel-item:only-child::after {width: 0;}#sk-container-id-5 div.sk-dashed-wrapped {border: 1px dashed gray;margin: 0 0.4em 0.5em 0.4em;box-sizing: border-box;padding-bottom: 0.4em;background-color: white;}#sk-container-id-5 div.sk-label label {font-family: monospace;font-weight: bold;display: inline-block;line-height: 1.2em;}#sk-container-id-5 div.sk-label-container {text-align: center;}#sk-container-id-5 div.sk-container {/* jupyter's `normalize.less` sets `[hidden] { display: none; }` but bootstrap.min.css set `[hidden] { display: none !important; }` so we also need the `!important` here to be able to override the default hidden behavior on the sphinx rendered scikit-learn.org. See: https://github.com/scikit-learn/scikit-learn/issues/21755 */display: inline-block !important;position: relative;}#sk-container-id-5 div.sk-text-repr-fallback {display: none;}</style><div id=\"sk-container-id-5\" class=\"sk-top-container\"><div class=\"sk-text-repr-fallback\"><pre>DecisionTreeClassifier(max_depth=8, random_state=35)</pre><b>In a Jupyter environment, please rerun this cell to show the HTML representation or trust the notebook. <br />On GitHub, the HTML representation is unable to render, please try loading this page with nbviewer.org.</b></div><div class=\"sk-container\" hidden><div class=\"sk-item\"><div class=\"sk-estimator sk-toggleable\"><input class=\"sk-toggleable__control sk-hidden--visually\" id=\"sk-estimator-id-7\" type=\"checkbox\" checked><label for=\"sk-estimator-id-7\" class=\"sk-toggleable__label sk-toggleable__label-arrow\">DecisionTreeClassifier</label><div class=\"sk-toggleable__content\"><pre>DecisionTreeClassifier(max_depth=8, random_state=35)</pre></div></div></div></div></div>"
      ],
      "text/plain": [
       "DecisionTreeClassifier(max_depth=8, random_state=35)"
      ]
     },
     "execution_count": 139,
     "metadata": {},
     "output_type": "execute_result"
    }
   ],
   "source": [
    "from sklearn.tree import DecisionTreeClassifier\n",
    "model=DecisionTreeClassifier(max_depth=8,random_state=35)\n",
    "model.fit(x_train,y_train)"
   ]
  },
  {
   "cell_type": "code",
   "execution_count": 141,
   "id": "f5fc1193",
   "metadata": {},
   "outputs": [
    {
     "data": {
      "text/plain": [
       "0.7779082642686977"
      ]
     },
     "execution_count": 141,
     "metadata": {},
     "output_type": "execute_result"
    }
   ],
   "source": [
    "model.score(x_test,y_test)"
   ]
  },
  {
   "cell_type": "code",
   "execution_count": 142,
   "id": "5d70b8cb",
   "metadata": {},
   "outputs": [
    {
     "data": {
      "text/plain": [
       "0.7797575106816097"
      ]
     },
     "execution_count": 142,
     "metadata": {},
     "output_type": "execute_result"
    }
   ],
   "source": [
    "model.score(x_train,y_train)"
   ]
  },
  {
   "cell_type": "code",
   "execution_count": 143,
   "id": "194e840c",
   "metadata": {},
   "outputs": [
    {
     "data": {
      "text/plain": [
       "0.7779082642686977"
      ]
     },
     "execution_count": 143,
     "metadata": {},
     "output_type": "execute_result"
    }
   ],
   "source": [
    "y_pred=model.predict(x_test)\n",
    "score=accuracy_score(y_test,y_pred)\n",
    "score"
   ]
  },
  {
   "cell_type": "code",
   "execution_count": 144,
   "id": "782ef03f",
   "metadata": {},
   "outputs": [
    {
     "data": {
      "text/plain": [
       "array([[16868,  1814],\n",
       "       [ 4805,  6316]], dtype=int64)"
      ]
     },
     "execution_count": 144,
     "metadata": {},
     "output_type": "execute_result"
    }
   ],
   "source": [
    "from sklearn.metrics import confusion_matrix\n",
    "cm=confusion_matrix(y_test,y_pred)\n",
    "cm"
   ]
  },
  {
   "cell_type": "code",
   "execution_count": 145,
   "id": "d61afdd2",
   "metadata": {},
   "outputs": [
    {
     "data": {
      "text/plain": [
       "<Axes: >"
      ]
     },
     "execution_count": 145,
     "metadata": {},
     "output_type": "execute_result"
    },
    {
     "data": {
      "image/png": "[encoded data removed]",
      "text/plain": [
       "<Figure size 640x480 with 2 Axes>"
      ]
     },
     "metadata": {},
     "output_type": "display_data"
    }
   ],
   "source": [
    "sns.heatmap(cm,annot=True)"
   ]
  },
  {
   "cell_type": "code",
   "execution_count": 146,
   "id": "10e4b801",
   "metadata": {},
   "outputs": [
    {
     "name": "stdout",
     "output_type": "stream",
     "text": [
      "Cross-Validation Scores: [0.77787719 0.77541662 0.77619953 0.77944302 0.77295605 0.77754166\n",
      " 0.78143177 0.7795302  0.77472036 0.76901566]\n",
      "Mean CV Score: 0.7764132054354834\n"
     ]
    }
   ],
   "source": [
    "from sklearn.model_selection import cross_val_score\n",
    "cv_scores = cross_val_score(model, x_train, y_train, cv=10)  \n",
    "print(\"Cross-Validation Scores:\", cv_scores)\n",
    "print(\"Mean CV Score:\", np.mean(cv_scores))"
   ]
  },
  {
   "cell_type": "code",
   "execution_count": 147,
   "id": "94ce58ef",
   "metadata": {
    "scrolled": true
   },
   "outputs": [
    {
     "name": "stdout",
     "output_type": "stream",
     "text": [
      "Cross-Validation Scores: [0.78631332 0.76216035 0.7792687  0.78087248 0.77013423 0.77818792\n",
      " 0.77147651 0.76979866 0.77885906 0.78624161]\n",
      "Mean CV Score: 0.7763312838131432\n"
     ]
    }
   ],
   "source": [
    "from sklearn.model_selection import cross_val_score\n",
    "cv_scores = cross_val_score(model, x_test, y_test, cv=10)  \n",
    "print(\"Cross-Validation Scores:\", cv_scores)\n",
    "print(\"Mean CV Score:\", np.mean(cv_scores))"
   ]
  },
  {
   "cell_type": "markdown",
   "id": "4dee190f",
   "metadata": {},
   "source": [
    "## Random Forest"
   ]
  },
  {
   "cell_type": "code",
   "execution_count": 155,
   "id": "434e797d",
   "metadata": {},
   "outputs": [
    {
     "data": {
      "text/html": [
       "<style>#sk-container-id-7 {color: black;background-color: white;}#sk-container-id-7 pre{padding: 0;}#sk-container-id-7 div.sk-toggleable {background-color: white;}#sk-container-id-7 label.sk-toggleable__label {cursor: pointer;display: block;width: 100%;margin-bottom: 0;padding: 0.3em;box-sizing: border-box;text-align: center;}#sk-container-id-7 label.sk-toggleable__label-arrow:before {content: \"▸\";float: left;margin-right: 0.25em;color: #696969;}#sk-container-id-7 label.sk-toggleable__label-arrow:hover:before {color: black;}#sk-container-id-7 div.sk-estimator:hover label.sk-toggleable__label-arrow:before {color: black;}#sk-container-id-7 div.sk-toggleable__content {max-height: 0;max-width: 0;overflow: hidden;text-align: left;background-color: #f0f8ff;}#sk-container-id-7 div.sk-toggleable__content pre {margin: 0.2em;color: black;border-radius: 0.25em;background-color: #f0f8ff;}#sk-container-id-7 input.sk-toggleable__control:checked~div.sk-toggleable__content {max-height: 200px;max-width: 100%;overflow: auto;}#sk-container-id-7 input.sk-toggleable__control:checked~label.sk-toggleable__label-arrow:before {content: \"▾\";}#sk-container-id-7 div.sk-estimator input.sk-toggleable__control:checked~label.sk-toggleable__label {background-color: #d4ebff;}#sk-container-id-7 div.sk-label input.sk-toggleable__control:checked~label.sk-toggleable__label {background-color: #d4ebff;}#sk-container-id-7 input.sk-hidden--visually {border: 0;clip: rect(1px 1px 1px 1px);clip: rect(1px, 1px, 1px, 1px);height: 1px;margin: -1px;overflow: hidden;padding: 0;position: absolute;width: 1px;}#sk-container-id-7 div.sk-estimator {font-family: monospace;background-color: #f0f8ff;border: 1px dotted black;border-radius: 0.25em;box-sizing: border-box;margin-bottom: 0.5em;}#sk-container-id-7 div.sk-estimator:hover {background-color: #d4ebff;}#sk-container-id-7 div.sk-parallel-item::after {content: \"\";width: 100%;border-bottom: 1px solid gray;flex-grow: 1;}#sk-container-id-7 div.sk-label:hover label.sk-toggleable__label {background-color: #d4ebff;}#sk-container-id-7 div.sk-serial::before {content: \"\";position: absolute;border-left: 1px solid gray;box-sizing: border-box;top: 0;bottom: 0;left: 50%;z-index: 0;}#sk-container-id-7 div.sk-serial {display: flex;flex-direction: column;align-items: center;background-color: white;padding-right: 0.2em;padding-left: 0.2em;position: relative;}#sk-container-id-7 div.sk-item {position: relative;z-index: 1;}#sk-container-id-7 div.sk-parallel {display: flex;align-items: stretch;justify-content: center;background-color: white;position: relative;}#sk-container-id-7 div.sk-item::before, #sk-container-id-7 div.sk-parallel-item::before {content: \"\";position: absolute;border-left: 1px solid gray;box-sizing: border-box;top: 0;bottom: 0;left: 50%;z-index: -1;}#sk-container-id-7 div.sk-parallel-item {display: flex;flex-direction: column;z-index: 1;position: relative;background-color: white;}#sk-container-id-7 div.sk-parallel-item:first-child::after {align-self: flex-end;width: 50%;}#sk-container-id-7 div.sk-parallel-item:last-child::after {align-self: flex-start;width: 50%;}#sk-container-id-7 div.sk-parallel-item:only-child::after {width: 0;}#sk-container-id-7 div.sk-dashed-wrapped {border: 1px dashed gray;margin: 0 0.4em 0.5em 0.4em;box-sizing: border-box;padding-bottom: 0.4em;background-color: white;}#sk-container-id-7 div.sk-label label {font-family: monospace;font-weight: bold;display: inline-block;line-height: 1.2em;}#sk-container-id-7 div.sk-label-container {text-align: center;}#sk-container-id-7 div.sk-container {/* jupyter's `normalize.less` sets `[hidden] { display: none; }` but bootstrap.min.css set `[hidden] { display: none !important; }` so we also need the `!important` here to be able to override the default hidden behavior on the sphinx rendered scikit-learn.org. See: https://github.com/scikit-learn/scikit-learn/issues/21755 */display: inline-block !important;position: relative;}#sk-container-id-7 div.sk-text-repr-fallback {display: none;}</style><div id=\"sk-container-id-7\" class=\"sk-top-container\"><div class=\"sk-text-repr-fallback\"><pre>RandomForestClassifier(max_depth=8, random_state=35)</pre><b>In a Jupyter environment, please rerun this cell to show the HTML representation or trust the notebook. <br />On GitHub, the HTML representation is unable to render, please try loading this page with nbviewer.org.</b></div><div class=\"sk-container\" hidden><div class=\"sk-item\"><div class=\"sk-estimator sk-toggleable\"><input class=\"sk-toggleable__control sk-hidden--visually\" id=\"sk-estimator-id-9\" type=\"checkbox\" checked><label for=\"sk-estimator-id-9\" class=\"sk-toggleable__label sk-toggleable__label-arrow\">RandomForestClassifier</label><div class=\"sk-toggleable__content\"><pre>RandomForestClassifier(max_depth=8, random_state=35)</pre></div></div></div></div></div>"
      ],
      "text/plain": [
       "RandomForestClassifier(max_depth=8, random_state=35)"
      ]
     },
     "execution_count": 155,
     "metadata": {},
     "output_type": "execute_result"
    }
   ],
   "source": [
    "from sklearn.ensemble import RandomForestClassifier\n",
    "model_ran=RandomForestClassifier(max_depth=8,random_state=35)\n",
    "model_ran.fit(x_train,y_train)"
   ]
  },
  {
   "cell_type": "code",
   "execution_count": 149,
   "id": "be7dca9a",
   "metadata": {},
   "outputs": [
    {
     "data": {
      "text/plain": [
       "array([0., 0., 0., ..., 1., 0., 0.])"
      ]
     },
     "execution_count": 149,
     "metadata": {},
     "output_type": "execute_result"
    }
   ],
   "source": [
    "y_pred=model_ran.predict(x_test)\n",
    "y_pred"
   ]
  },
  {
   "cell_type": "code",
   "execution_count": 150,
   "id": "d089faba",
   "metadata": {},
   "outputs": [
    {
     "data": {
      "text/plain": [
       "0.7779082642686977"
      ]
     },
     "execution_count": 150,
     "metadata": {},
     "output_type": "execute_result"
    }
   ],
   "source": [
    "model_ran.score(x_test,y_test)"
   ]
  },
  {
   "cell_type": "code",
   "execution_count": 151,
   "id": "fd26da38",
   "metadata": {},
   "outputs": [
    {
     "data": {
      "text/plain": [
       "0.7788627161488043"
      ]
     },
     "execution_count": 151,
     "metadata": {},
     "output_type": "execute_result"
    }
   ],
   "source": [
    "model_ran.score(x_train,y_train)"
   ]
  },
  {
   "cell_type": "code",
   "execution_count": 152,
   "id": "7c02d94e",
   "metadata": {},
   "outputs": [
    {
     "data": {
      "text/plain": [
       "array([[16331,  2351],\n",
       "       [ 4268,  6853]], dtype=int64)"
      ]
     },
     "execution_count": 152,
     "metadata": {},
     "output_type": "execute_result"
    }
   ],
   "source": [
    "from sklearn.metrics import confusion_matrix\n",
    "cm=confusion_matrix(y_test,y_pred)\n",
    "cm"
   ]
  },
  {
   "cell_type": "code",
   "execution_count": 153,
   "id": "80153090",
   "metadata": {},
   "outputs": [
    {
     "name": "stdout",
     "output_type": "stream",
     "text": [
      "Cross-Validation Scores: [0.77989039 0.77545999 0.77965438 0.78273027 0.77652257]\n",
      "Mean CV Score: 0.778851519597421\n"
     ]
    }
   ],
   "source": [
    "from sklearn.model_selection import cross_val_score\n",
    "cv_scores = cross_val_score(model_ran, x_train, y_train, cv=5)  \n",
    "print(\"Cross-Validation Scores:\", cv_scores)\n",
    "print(\"Mean CV Score:\", np.mean(cv_scores))"
   ]
  },
  {
   "cell_type": "code",
   "execution_count": 154,
   "id": "d691edd5",
   "metadata": {},
   "outputs": [
    {
     "name": "stdout",
     "output_type": "stream",
     "text": [
      "Cross-Validation Scores: [0.78007046 0.78124476 0.77654756 0.76661074 0.78624161]\n",
      "Mean CV Score: 0.7781430247391039\n"
     ]
    }
   ],
   "source": [
    "from sklearn.model_selection import cross_val_score\n",
    "cv_scores = cross_val_score(model_ran, x_test, y_test, cv=5) \n",
    "print(\"Cross-Validation Scores:\", cv_scores)\n",
    "print(\"Mean CV Score:\", np.mean(cv_scores))"
   ]
  },
  {
   "cell_type": "markdown",
   "id": "8ec7bb65",
   "metadata": {},
   "source": [
    "## Naive Bayes"
   ]
  },
  {
   "cell_type": "code",
   "execution_count": 156,
   "id": "451d17fc",
   "metadata": {},
   "outputs": [],
   "source": [
    "from sklearn.naive_bayes import GaussianNB"
   ]
  },
  {
   "cell_type": "code",
   "execution_count": 157,
   "id": "870b2b56",
   "metadata": {},
   "outputs": [
    {
     "data": {
      "text/html": [
       "<style>#sk-container-id-8 {color: black;background-color: white;}#sk-container-id-8 pre{padding: 0;}#sk-container-id-8 div.sk-toggleable {background-color: white;}#sk-container-id-8 label.sk-toggleable__label {cursor: pointer;display: block;width: 100%;margin-bottom: 0;padding: 0.3em;box-sizing: border-box;text-align: center;}#sk-container-id-8 label.sk-toggleable__label-arrow:before {content: \"▸\";float: left;margin-right: 0.25em;color: #696969;}#sk-container-id-8 label.sk-toggleable__label-arrow:hover:before {color: black;}#sk-container-id-8 div.sk-estimator:hover label.sk-toggleable__label-arrow:before {color: black;}#sk-container-id-8 div.sk-toggleable__content {max-height: 0;max-width: 0;overflow: hidden;text-align: left;background-color: #f0f8ff;}#sk-container-id-8 div.sk-toggleable__content pre {margin: 0.2em;color: black;border-radius: 0.25em;background-color: #f0f8ff;}#sk-container-id-8 input.sk-toggleable__control:checked~div.sk-toggleable__content {max-height: 200px;max-width: 100%;overflow: auto;}#sk-container-id-8 input.sk-toggleable__control:checked~label.sk-toggleable__label-arrow:before {content: \"▾\";}#sk-container-id-8 div.sk-estimator input.sk-toggleable__control:checked~label.sk-toggleable__label {background-color: #d4ebff;}#sk-container-id-8 div.sk-label input.sk-toggleable__control:checked~label.sk-toggleable__label {background-color: #d4ebff;}#sk-container-id-8 input.sk-hidden--visually {border: 0;clip: rect(1px 1px 1px 1px);clip: rect(1px, 1px, 1px, 1px);height: 1px;margin: -1px;overflow: hidden;padding: 0;position: absolute;width: 1px;}#sk-container-id-8 div.sk-estimator {font-family: monospace;background-color: #f0f8ff;border: 1px dotted black;border-radius: 0.25em;box-sizing: border-box;margin-bottom: 0.5em;}#sk-container-id-8 div.sk-estimator:hover {background-color: #d4ebff;}#sk-container-id-8 div.sk-parallel-item::after {content: \"\";width: 100%;border-bottom: 1px solid gray;flex-grow: 1;}#sk-container-id-8 div.sk-label:hover label.sk-toggleable__label {background-color: #d4ebff;}#sk-container-id-8 div.sk-serial::before {content: \"\";position: absolute;border-left: 1px solid gray;box-sizing: border-box;top: 0;bottom: 0;left: 50%;z-index: 0;}#sk-container-id-8 div.sk-serial {display: flex;flex-direction: column;align-items: center;background-color: white;padding-right: 0.2em;padding-left: 0.2em;position: relative;}#sk-container-id-8 div.sk-item {position: relative;z-index: 1;}#sk-container-id-8 div.sk-parallel {display: flex;align-items: stretch;justify-content: center;background-color: white;position: relative;}#sk-container-id-8 div.sk-item::before, #sk-container-id-8 div.sk-parallel-item::before {content: \"\";position: absolute;border-left: 1px solid gray;box-sizing: border-box;top: 0;bottom: 0;left: 50%;z-index: -1;}#sk-container-id-8 div.sk-parallel-item {display: flex;flex-direction: column;z-index: 1;position: relative;background-color: white;}#sk-container-id-8 div.sk-parallel-item:first-child::after {align-self: flex-end;width: 50%;}#sk-container-id-8 div.sk-parallel-item:last-child::after {align-self: flex-start;width: 50%;}#sk-container-id-8 div.sk-parallel-item:only-child::after {width: 0;}#sk-container-id-8 div.sk-dashed-wrapped {border: 1px dashed gray;margin: 0 0.4em 0.5em 0.4em;box-sizing: border-box;padding-bottom: 0.4em;background-color: white;}#sk-container-id-8 div.sk-label label {font-family: monospace;font-weight: bold;display: inline-block;line-height: 1.2em;}#sk-container-id-8 div.sk-label-container {text-align: center;}#sk-container-id-8 div.sk-container {/* jupyter's `normalize.less` sets `[hidden] { display: none; }` but bootstrap.min.css set `[hidden] { display: none !important; }` so we also need the `!important` here to be able to override the default hidden behavior on the sphinx rendered scikit-learn.org. See: https://github.com/scikit-learn/scikit-learn/issues/21755 */display: inline-block !important;position: relative;}#sk-container-id-8 div.sk-text-repr-fallback {display: none;}</style><div id=\"sk-container-id-8\" class=\"sk-top-container\"><div class=\"sk-text-repr-fallback\"><pre>GaussianNB()</pre><b>In a Jupyter environment, please rerun this cell to show the HTML representation or trust the notebook. <br />On GitHub, the HTML representation is unable to render, please try loading this page with nbviewer.org.</b></div><div class=\"sk-container\" hidden><div class=\"sk-item\"><div class=\"sk-estimator sk-toggleable\"><input class=\"sk-toggleable__control sk-hidden--visually\" id=\"sk-estimator-id-10\" type=\"checkbox\" checked><label for=\"sk-estimator-id-10\" class=\"sk-toggleable__label sk-toggleable__label-arrow\">GaussianNB</label><div class=\"sk-toggleable__content\"><pre>GaussianNB()</pre></div></div></div></div></div>"
      ],
      "text/plain": [
       "GaussianNB()"
      ]
     },
     "execution_count": 157,
     "metadata": {},
     "output_type": "execute_result"
    }
   ],
   "source": [
    "model=GaussianNB()\n",
    "model.fit(x_train,y_train)"
   ]
  },
  {
   "cell_type": "code",
   "execution_count": 159,
   "id": "d5e18143",
   "metadata": {},
   "outputs": [
    {
     "data": {
      "text/plain": [
       "array([1., 1., 1., ..., 1., 1., 1.])"
      ]
     },
     "execution_count": 159,
     "metadata": {},
     "output_type": "execute_result"
    }
   ],
   "source": [
    "y_pred=model.predict(x_test)\n",
    "y_pred"
   ]
  },
  {
   "cell_type": "code",
   "execution_count": 160,
   "id": "6d525747",
   "metadata": {},
   "outputs": [
    {
     "data": {
      "text/plain": [
       "0.49495017280139586"
      ]
     },
     "execution_count": 160,
     "metadata": {},
     "output_type": "execute_result"
    }
   ],
   "source": [
    "model.score(x_test,y_test)"
   ]
  },
  {
   "cell_type": "code",
   "execution_count": 161,
   "id": "383c6b9d",
   "metadata": {},
   "outputs": [
    {
     "data": {
      "text/plain": [
       "0.490571102610563"
      ]
     },
     "execution_count": 161,
     "metadata": {},
     "output_type": "execute_result"
    }
   ],
   "source": [
    "model.score(x_train,y_train)"
   ]
  },
  {
   "cell_type": "code",
   "execution_count": 162,
   "id": "17605de7",
   "metadata": {},
   "outputs": [
    {
     "data": {
      "text/plain": [
       "array([[ 4110, 14572],\n",
       "       [  480, 10641]], dtype=int64)"
      ]
     },
     "execution_count": 162,
     "metadata": {},
     "output_type": "execute_result"
    }
   ],
   "source": [
    "cm=confusion_matrix(y_test,y_pred)\n",
    "cm"
   ]
  },
  {
   "cell_type": "code",
   "execution_count": 163,
   "id": "51dec86e",
   "metadata": {},
   "outputs": [
    {
     "data": {
      "text/plain": [
       "<Axes: >"
      ]
     },
     "execution_count": 163,
     "metadata": {},
     "output_type": "execute_result"
    },
    {
     "data": {
      "image/png": "[encoded data removed]",
      "text/plain": [
       "<Figure size 640x480 with 2 Axes>"
      ]
     },
     "metadata": {},
     "output_type": "display_data"
    }
   ],
   "source": [
    "sns.heatmap(cm,annot=True)"
   ]
  },
  {
   "cell_type": "code",
   "execution_count": null,
   "id": "32773af1",
   "metadata": {},
   "outputs": [],
   "source": []
  }
 ],
 "metadata": {
  "kernelspec": {
   "display_name": "Python 3 (ipykernel)",
   "language": "python",
   "name": "python3"
  },
  "language_info": {
   "codemirror_mode": {
    "name": "ipython",
    "version": 3
   },
   "file_extension": ".py",
   "mimetype": "text/x-python",
   "name": "python",
   "nbconvert_exporter": "python",
   "pygments_lexer": "ipython3",
   "version": "3.10.9"
  }
 },
 "nbformat": 4,
 "nbformat_minor": 5
}
